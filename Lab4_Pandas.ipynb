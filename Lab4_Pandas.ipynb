{
  "nbformat": 4,
  "nbformat_minor": 0,
  "metadata": {
    "colab": {
      "provenance": [],
      "mount_file_id": "1gHuoYLUlbZC2jJRkBsAyrXYZKWdlWmzT",
      "authorship_tag": "ABX9TyMaxIIfS6qwNHlv2e0rijA4",
      "include_colab_link": true
    },
    "kernelspec": {
      "name": "python3",
      "display_name": "Python 3"
    },
    "language_info": {
      "name": "python"
    }
  },
  "cells": [
    {
      "cell_type": "markdown",
      "metadata": {
        "id": "view-in-github",
        "colab_type": "text"
      },
      "source": [
        "<a href=\"https://colab.research.google.com/github/TheSpaceMan915/Artificial-Intelligence/blob/main/Lab4_Pandas.ipynb\" target=\"_parent\"><img src=\"https://colab.research.google.com/assets/colab-badge.svg\" alt=\"Open In Colab\"/></a>"
      ]
    },
    {
      "cell_type": "markdown",
      "source": [
        "**Лабораторная работа №4  Колычев Никита  ВПР34**"
      ],
      "metadata": {
        "id": "rFFrwTWpmPh4"
      }
    },
    {
      "cell_type": "markdown",
      "source": [
        "# **Задание 1**"
      ],
      "metadata": {
        "id": "c6ArBP1Y8Vs3"
      }
    },
    {
      "cell_type": "markdown",
      "source": [
        "1. Создайте Series из последовательности 15 значений, равномерно разбивающих отрезок [0, 20] (воспользуйтесь функцией linspace)\n",
        "2. Определите отношение элементов полученной серии к их предыдущим элементам. \n",
        "3. В результате необходимо получить среднее полученного вектора, оставив в нём только те значения, которые не более чем 1.5."
      ],
      "metadata": {
        "id": "qYCCT9dCyE_L"
      }
    },
    {
      "cell_type": "code",
      "execution_count": null,
      "metadata": {
        "id": "Gj__tJ_ZtOw6",
        "colab": {
          "base_uri": "https://localhost:8080/"
        },
        "outputId": "13eab9df-6125-470a-9148-d173e598b22f"
      },
      "outputs": [
        {
          "output_type": "stream",
          "name": "stdout",
          "text": [
            "Original series:\n",
            "0      0.000000\n",
            "1      1.428571\n",
            "2      2.857143\n",
            "3      4.285714\n",
            "4      5.714286\n",
            "5      7.142857\n",
            "6      8.571429\n",
            "7     10.000000\n",
            "8     11.428571\n",
            "9     12.857143\n",
            "10    14.285714\n",
            "11    15.714286\n",
            "12    17.142857\n",
            "13    18.571429\n",
            "14    20.000000\n",
            "dtype: float64\n",
            "\n",
            "Divided series:\n",
            "0          NaN\n",
            "1          inf\n",
            "2     2.000000\n",
            "3     1.500000\n",
            "4     1.333333\n",
            "5     1.250000\n",
            "6     1.200000\n",
            "7     1.166667\n",
            "8     1.142857\n",
            "9     1.125000\n",
            "10    1.111111\n",
            "11    1.100000\n",
            "12    1.090909\n",
            "13    1.083333\n",
            "14    1.076923\n",
            "dtype: float64\n",
            "\n",
            "Filtered series:\n",
            "3     1.500000\n",
            "4     1.333333\n",
            "5     1.250000\n",
            "6     1.200000\n",
            "7     1.166667\n",
            "8     1.142857\n",
            "9     1.125000\n",
            "10    1.111111\n",
            "11    1.100000\n",
            "12    1.090909\n",
            "13    1.083333\n",
            "14    1.076923\n",
            "dtype: float64\n",
            "\n",
            "Mean value:  1.181677812927813\n"
          ]
        }
      ],
      "source": [
        "import numpy as np\n",
        "import pandas as pd\n",
        "import re\n",
        "\n",
        "s = pd.Series(np.linspace(0,20,15))\n",
        "print(\"Original series:\")\n",
        "print(s)\n",
        "print()\n",
        "\n",
        "\n",
        "# shifting the series\n",
        "s_shifted = s.shift(1)\n",
        "\n",
        "s_divided = s.divide(s_shifted)\n",
        "print(\"Divided series:\")\n",
        "print(s_divided)\n",
        "print()\n",
        "\n",
        "# filtering the series\n",
        "s_res = s_divided[s_divided <= 1.5]\n",
        "print(\"Filtered series:\")\n",
        "print(s_res)\n",
        "print()\n",
        "\n",
        "value = s_res.mean()\n",
        "print(\"Mean value: \", value)"
      ]
    },
    {
      "cell_type": "markdown",
      "source": [
        "# **Задание 2**"
      ],
      "metadata": {
        "id": "9xl1ZtLS8XP7"
      }
    },
    {
      "cell_type": "markdown",
      "source": [
        "По клиенту получены зашумленные данные (объект s типа Series) по его транзакциям. Для заданного ниже объекта s проделайте следующее:\n",
        "*   Создайте новый Series, значения которого совпадают со значениями s, а индексы - целочисленные значения от 2 до 12, не включая 12.\n",
        "*   Выберите из s элементы с индексами 3 и 5, после чего просуммируйте их, сохранив результат.\n",
        "*   Выберите из s только целочисленные элементы и вычислите их дисперсию. \n",
        "\n",
        "Все полученные результаты округлите до 2-х знаков после запятой."
      ],
      "metadata": {
        "id": "j4nxUvIV8YpN"
      }
    },
    {
      "cell_type": "code",
      "source": [
        "s = pd.Series(data=['1', 2, 3.1, 'hi!', 5, -512, 12.42, 'sber', 10.10, 98]\n",
        "              ,index=range(6, 26, 2))\n",
        "\n",
        "# getting data from the old series and creating another series with new indexes\n",
        "s_indexes = pd.Series(s.values, range(2, 12))\n",
        "print(\"Series with new indexes:\")\n",
        "print(s_indexes)\n",
        "print()\n",
        "\n",
        "sum = str(s_indexes[3]) + s_indexes[5]\n",
        "print(\"sum: \", sum)\n",
        "print()\n",
        "\n",
        "# calculating the variance\n",
        "arr_data = s.values\n",
        "arr_ints = [value for value in s.values if isinstance(value, int)]\n",
        "print(\"arr_ints: \", arr_ints)\n",
        "print()\n",
        "\n",
        "variance = round(np.var(arr_ints), 2)\n",
        "print(\"variance: \",variance )"
      ],
      "metadata": {
        "id": "xwqVGfhF9HWf",
        "colab": {
          "base_uri": "https://localhost:8080/"
        },
        "outputId": "d1cf4749-89fe-46ca-99c3-c9d3e7bd26aa"
      },
      "execution_count": null,
      "outputs": [
        {
          "output_type": "stream",
          "name": "stdout",
          "text": [
            "Series with new indexes:\n",
            "2         1\n",
            "3         2\n",
            "4       3.1\n",
            "5       hi!\n",
            "6         5\n",
            "7      -512\n",
            "8     12.42\n",
            "9      sber\n",
            "10     10.1\n",
            "11       98\n",
            "dtype: object\n",
            "\n",
            "sum:  2hi!\n",
            "\n",
            "arr_ints:  [2, 5, -512, 98]\n",
            "\n",
            "variance:  57591.19\n"
          ]
        }
      ]
    },
    {
      "cell_type": "markdown",
      "source": [
        "#**Задание 3** \n",
        "1. Сгенерируйте Series из 100 значений нормально распределённой СВ (np.random.normal с дефолтными параметрами - нулевым средним и единичной дисперсией).\n",
        "2. Возведите каждое значение серии в 3 степень, а значения индекса увеличьте в 3 раза. \n",
        "3. Выведите сумму элементов, строго меньших 2.6, имеющих нечётные значения индекса. \n",
        "4. Выведите количество значений серии меньше нуля."
      ],
      "metadata": {
        "id": "cblE2s3gc_LQ"
      }
    },
    {
      "cell_type": "code",
      "source": [
        "size_series = 100\n",
        "arr_indexes = np.array(range(size_series))\n",
        "s = pd.Series(np.random.normal(size = size_series), arr_indexes)\n",
        "print(\"Series before:\")\n",
        "print(s)\n",
        "print()\n",
        "\n",
        "# changing the elements and the indexes\n",
        "s_changed = s.reindex(arr_indexes * 3)\n",
        "s_changed = s_changed ** 3\n",
        "print(\"Series after:\")\n",
        "print(s_changed)\n",
        "print()\n",
        "\n",
        "# finding elements < 2.6 with odd indexes\n",
        "s_filtered = s_changed[(s_changed < 2.6) & (s_changed.index % 2 != 0)]\n",
        "print(\"Filtered series:\")\n",
        "print(s_filtered)\n",
        "print()\n",
        "print(\"Sum: \", s_filtered.sum())\n",
        "print()\n",
        "\n",
        "# finding elements < 0\n",
        "s_filtered2 = s_changed[s_changed < 0]\n",
        "print(\"Filtered series 2: \")\n",
        "print(s_filtered2)\n",
        "print()\n",
        "print(\"Amount of elements less than zero: \", s_filtered2.count())"
      ],
      "metadata": {
        "colab": {
          "base_uri": "https://localhost:8080/"
        },
        "id": "egwOypC3c_mF",
        "outputId": "65b75e23-63a2-411b-c19f-3724a215e96c"
      },
      "execution_count": null,
      "outputs": [
        {
          "output_type": "stream",
          "name": "stdout",
          "text": [
            "Series before:\n",
            "0    -0.817644\n",
            "1    -0.622151\n",
            "2    -1.370121\n",
            "3    -0.940862\n",
            "4    -0.996987\n",
            "        ...   \n",
            "95    0.186151\n",
            "96    1.040609\n",
            "97   -1.817450\n",
            "98   -0.657572\n",
            "99   -0.061805\n",
            "Length: 100, dtype: float64\n",
            "\n",
            "Series after:\n",
            "0     -0.546629\n",
            "3     -0.832871\n",
            "6     -0.001249\n",
            "9      0.093568\n",
            "12    -0.003832\n",
            "         ...   \n",
            "285         NaN\n",
            "288         NaN\n",
            "291         NaN\n",
            "294         NaN\n",
            "297         NaN\n",
            "Length: 100, dtype: float64\n",
            "\n",
            "Filtered series:\n",
            "3    -0.832871\n",
            "9     0.093568\n",
            "15   -1.347232\n",
            "21    0.074669\n",
            "27   -3.198213\n",
            "33    0.005050\n",
            "39    1.066133\n",
            "45   -0.012640\n",
            "51    0.082688\n",
            "57    0.010085\n",
            "63   -0.774551\n",
            "69    0.553563\n",
            "75    0.000001\n",
            "81   -0.988472\n",
            "87    1.044907\n",
            "93    0.079570\n",
            "99   -0.000236\n",
            "dtype: float64\n",
            "\n",
            "Sum:  -4.143980317474121\n",
            "\n",
            "Filtered series 2: \n",
            "0    -0.546629\n",
            "3    -0.832871\n",
            "6    -0.001249\n",
            "12   -0.003832\n",
            "15   -1.347232\n",
            "27   -3.198213\n",
            "36   -0.000158\n",
            "45   -0.012640\n",
            "63   -0.774551\n",
            "72   -2.008924\n",
            "81   -0.988472\n",
            "90   -0.708608\n",
            "99   -0.000236\n",
            "dtype: float64\n",
            "\n",
            "Amount of elements less than zero:  13\n"
          ]
        }
      ]
    },
    {
      "cell_type": "markdown",
      "source": [
        "# **Задание 4**\n",
        "1. В tr_types выберите произвольные 100 строк с помощью метода sample (указав при этом random_seed равный 242)\n",
        "2. В полученной на предыдущем этапе подвыборке найдите долю наблюдений (стобец tr_description), в которой содержится подстрока 'плата' (в любом регистре). (\\*)\n",
        "\n",
        "Выведите ответ в виде вещественного числа, округлённого до двух знаков после запятой, отделив дробную часть точкой в формате \"123.45"
      ],
      "metadata": {
        "id": "oB2CUJetX3QZ"
      }
    },
    {
      "cell_type": "code",
      "source": [
        "# reading a csv file from the drive\n",
        "path_file = \"/content/drive/MyDrive/Colab Notebooks/AI/Lab4_data/tr_types.csv\"\n",
        "tr_types = pd.read_csv(path_file, sep = \";\")\n",
        "frame_sample = tr_types.sample(n = 100, random_state = 242)\n",
        "print(\"Random sample:\")\n",
        "print(frame_sample)\n",
        "print()\n",
        "\n",
        "# getting a  series object from tr_description column\n",
        "series_descriptions = frame_sample.loc[:, \"tr_description\"]\n",
        "\n",
        "# finding the rows with appropriate strings\n",
        "mask_booleans = series_descriptions.str.contains(\"плата\", flags = re.IGNORECASE, regex = True)\n",
        "series_filtered = series_descriptions[mask_booleans]\n",
        "print(\"Filtered series:\")\n",
        "print(series_filtered)\n",
        "print()\n",
        "\n",
        "# figuring out description / description containing \"плата\"\n",
        "frequency = round(series_filtered.size / frame_sample.size, 2)\n",
        "print(\"Frequency: \", frequency)"
      ],
      "metadata": {
        "colab": {
          "base_uri": "https://localhost:8080/"
        },
        "id": "wMyZKcYKX3kC",
        "outputId": "936308bf-54ff-440b-b3c2-24e068ef67f6"
      },
      "execution_count": null,
      "outputs": [
        {
          "output_type": "stream",
          "name": "stdout",
          "text": [
            "Random sample:\n",
            "     tr_type                                     tr_description\n",
            "37      6210                    Возврат покупки.POS Зарубеж. ТУ\n",
            "50      7034  Перевод на карту/ с карты через АТМ (без взима...\n",
            "145     2431  Перевод с карты на счет физ.лица в другом банк...\n",
            "4       4001  Плата за получение наличных в Сбербанке (в дру...\n",
            "69      8000                   Поправки по счету клиен. Зачисл.\n",
            "..       ...                                                ...\n",
            "24      4100                Плата за получение наличных. Россия\n",
            "130     2371  Списание с карты на карту по операции <перевод...\n",
            "140     2421  Перевод с карты на счет физ.лица в другом тер....\n",
            "6       4011  Плата за получение наличных в АТМ Сбербанка (в...\n",
            "52      7040  Перевод на карту (с карты) через POS (в предел...\n",
            "\n",
            "[100 rows x 2 columns]\n",
            "\n",
            "Filtered series:\n",
            "4     Плата за получение наличных в Сбербанке (в дру...\n",
            "5           Плата за получение наличных в АТМ Сбербанка\n",
            "16    Плата за перевод на карту (с карты) через POS ...\n",
            "30                               Плата за превыш.лимита\n",
            "82    Плата за предоставление по запросу клиента док...\n",
            "81    Плата за обработку счета банковской карты клие...\n",
            "23             Оплата услуг банка по поручению автомат.\n",
            "7     Плата за получение наличных через POS в Сбербанке\n",
            "8     Плата за получение наличных через POS в Сберба...\n",
            "1     Плата за предоставление отчета по счету карты ...\n",
            "15    Плата за перевод на карту (с карты) через АТМ ...\n",
            "80                      Плата за приост. действия карты\n",
            "10    Плата за взнос наличных через АТМ (в другом те...\n",
            "0     Плата за предоставление услуг посредством моби...\n",
            "2     Плата за обслуживание банковской карты (за пер...\n",
            "20                         Оплата услуг банка через ВСП\n",
            "14    Плата за перевод на карту (с карты) через АТМ ...\n",
            "26                Плата за получение наличных. Зарубеж.\n",
            "17    Плата за перевод на карту (с карты) через POS ...\n",
            "9     Плата за взнос наличных через АТМ (в своем тер...\n",
            "29    Плата за получение через АТМ выписки о 10 посл...\n",
            "19    Плата за перевод на карту (с карты) через Моби...\n",
            "18    Плата за перевод на карту (с карты) через POS ...\n",
            "12    Плата за взнос наличных через POS (в другом те...\n",
            "24                  Плата за получение наличных. Россия\n",
            "6     Плата за получение наличных в АТМ Сбербанка (в...\n",
            "Name: tr_description, dtype: object\n",
            "\n",
            "Frequency:  0.13\n"
          ]
        }
      ]
    },
    {
      "cell_type": "markdown",
      "source": [
        "# **Задание 5** \n",
        "1. Для поля tr_type датафрейма transactions посчитайте частоту встречаемости всех типов транзакций tr_type в transactions.\n",
        "2. Из перечисленных вариантов выберите те, которые попали в топ-5 транзакций по частоте встречаемости."
      ],
      "metadata": {
        "id": "BnLti-z_nD8E"
      }
    },
    {
      "cell_type": "code",
      "source": [
        "# reading a csv file from the drive\n",
        "path_file = \"/content/drive/MyDrive/Colab Notebooks/AI/Lab4_data/transactions.csv\"\n",
        "transactions = pd.read_csv(path_file, sep = \",\")\n",
        "\n",
        "# counting every type of transaction\n",
        "s_counts = transactions[\"tr_type\"].value_counts(normalize = True)\n",
        "print(\"Top 5 types of transaction:\")\n",
        "print(s_counts.head())"
      ],
      "metadata": {
        "colab": {
          "base_uri": "https://localhost:8080/"
        },
        "id": "EhEDQZ75nEWx",
        "outputId": "87055a5b-7527-4412-ddf6-bb85b81dc991"
      },
      "execution_count": null,
      "outputs": [
        {
          "output_type": "stream",
          "name": "stdout",
          "text": [
            "Top 5 types of transaction:\n",
            "1010    0.232100\n",
            "2010    0.151943\n",
            "1030    0.141764\n",
            "1110    0.135510\n",
            "7070    0.101016\n",
            "Name: tr_type, dtype: float64\n"
          ]
        }
      ]
    },
    {
      "cell_type": "markdown",
      "source": [
        "# **Задание 6**\n",
        "1. В датафрейме transactions задайте столбец  customer_id в качестве индекса.\n",
        "2. Выделите клиента с максимальной суммой транзакции (то есть с максимальным приходом на карту). "
      ],
      "metadata": {
        "id": "2m-hD_0AyEV1"
      }
    },
    {
      "cell_type": "code",
      "source": [
        "# reading a csv file from the drive\n",
        "path_file = \"/content/drive/MyDrive/Colab Notebooks/AI/Lab4 data/transactions.csv\"\n",
        "transactions = pd.read_csv(path_file, sep = \",\", index_col = \"customer_id\")\n",
        "\n",
        "# finding a client having max transaction amount\n",
        "client_id = transactions[\"amount\"].idxmax()\n",
        "print(\"Client id: \", client_id)"
      ],
      "metadata": {
        "colab": {
          "base_uri": "https://localhost:8080/"
        },
        "id": "rxBytRrhyErL",
        "outputId": "9dbc7ea9-1911-4a14-b3dc-d9c87d89ed52"
      },
      "execution_count": null,
      "outputs": [
        {
          "output_type": "stream",
          "name": "stdout",
          "text": [
            "Client id:  26782922\n"
          ]
        }
      ]
    },
    {
      "cell_type": "markdown",
      "source": [
        "# **Задание 7**\n",
        "Соедините transactions с всеми остальными таблицами (tr_mcc_codes, tr_types, gender_train). Причём с customers_gender_train необходимо смёрджиться с помощью left join, а с оставшимися датафреймами - через inner."
      ],
      "metadata": {
        "id": "Af4qeOi91sJG"
      }
    },
    {
      "cell_type": "code",
      "source": [
        "# reading csv files from the drive\n",
        "path_transactions = \"/content/drive/MyDrive/Colab Notebooks/AI/Lab4_data/transactions.csv\"\n",
        "path_tr_mcc_codes = \"/content/drive/MyDrive/Colab Notebooks/AI/Lab4_data/tr_mcc_codes.csv\"\n",
        "path_tr_types = \"/content/drive/MyDrive/Colab Notebooks/AI/Lab4_data/tr_types.csv\"\n",
        "path_gender_train = \"/content/drive/MyDrive/Colab Notebooks/AI/Lab4_data/gender_train.csv\"\n",
        "transactions = pd.read_csv(path_transactions, sep = \",\", index_col = \"customer_id\")\n",
        "tr_mcc_codes = pd.read_csv(path_tr_mcc_codes, sep = \";\")\n",
        "tr_types = pd.read_csv(path_tr_types, sep = \";\")\n",
        "gender_train = pd.read_csv(path_gender_train, sep = \",\", index_col = \"customer_id\")\n",
        "\n",
        "# merging using left join\n",
        "transactions.merge(gender_train, how = \"left\", on = \"customer_id\")\n",
        "\n",
        "# merging using inner join\n",
        "transactions.merge(tr_mcc_codes, how = \"inner\")\n",
        "transactions.merge(tr_types, how = \"inner\")\n",
        "print(\"Shape: \", transactions.shape)\n",
        "print()\n",
        "transactions.head()"
      ],
      "metadata": {
        "id": "XPZcTSll1yle",
        "colab": {
          "base_uri": "https://localhost:8080/",
          "height": 250
        },
        "outputId": "32fe2229-06b9-4f70-907d-309bc0f5ac82"
      },
      "execution_count": null,
      "outputs": [
        {
          "output_type": "stream",
          "name": "stdout",
          "text": [
            "Shape:  (6849346, 5)\n",
            "\n"
          ]
        },
        {
          "output_type": "execute_result",
          "data": {
            "text/plain": [
              "            tr_datetime  mcc_code  tr_type    amount term_id\n",
              "customer_id                                                 \n",
              "39026145     0 10:23:26      4814     1030  -2245.92     NaN\n",
              "39026145     1 10:19:29      6011     7010  56147.89     NaN\n",
              "39026145     1 10:20:56      4829     2330 -56147.89     NaN\n",
              "39026145     1 10:39:54      5499     1010  -1392.47     NaN\n",
              "39026145     2 15:33:42      5499     1010   -920.83     NaN"
            ],
            "text/html": [
              "\n",
              "  <div id=\"df-4850a12e-e07e-497e-8a3c-89d2ba54c68a\">\n",
              "    <div class=\"colab-df-container\">\n",
              "      <div>\n",
              "<style scoped>\n",
              "    .dataframe tbody tr th:only-of-type {\n",
              "        vertical-align: middle;\n",
              "    }\n",
              "\n",
              "    .dataframe tbody tr th {\n",
              "        vertical-align: top;\n",
              "    }\n",
              "\n",
              "    .dataframe thead th {\n",
              "        text-align: right;\n",
              "    }\n",
              "</style>\n",
              "<table border=\"1\" class=\"dataframe\">\n",
              "  <thead>\n",
              "    <tr style=\"text-align: right;\">\n",
              "      <th></th>\n",
              "      <th>tr_datetime</th>\n",
              "      <th>mcc_code</th>\n",
              "      <th>tr_type</th>\n",
              "      <th>amount</th>\n",
              "      <th>term_id</th>\n",
              "    </tr>\n",
              "    <tr>\n",
              "      <th>customer_id</th>\n",
              "      <th></th>\n",
              "      <th></th>\n",
              "      <th></th>\n",
              "      <th></th>\n",
              "      <th></th>\n",
              "    </tr>\n",
              "  </thead>\n",
              "  <tbody>\n",
              "    <tr>\n",
              "      <th>39026145</th>\n",
              "      <td>0 10:23:26</td>\n",
              "      <td>4814</td>\n",
              "      <td>1030</td>\n",
              "      <td>-2245.92</td>\n",
              "      <td>NaN</td>\n",
              "    </tr>\n",
              "    <tr>\n",
              "      <th>39026145</th>\n",
              "      <td>1 10:19:29</td>\n",
              "      <td>6011</td>\n",
              "      <td>7010</td>\n",
              "      <td>56147.89</td>\n",
              "      <td>NaN</td>\n",
              "    </tr>\n",
              "    <tr>\n",
              "      <th>39026145</th>\n",
              "      <td>1 10:20:56</td>\n",
              "      <td>4829</td>\n",
              "      <td>2330</td>\n",
              "      <td>-56147.89</td>\n",
              "      <td>NaN</td>\n",
              "    </tr>\n",
              "    <tr>\n",
              "      <th>39026145</th>\n",
              "      <td>1 10:39:54</td>\n",
              "      <td>5499</td>\n",
              "      <td>1010</td>\n",
              "      <td>-1392.47</td>\n",
              "      <td>NaN</td>\n",
              "    </tr>\n",
              "    <tr>\n",
              "      <th>39026145</th>\n",
              "      <td>2 15:33:42</td>\n",
              "      <td>5499</td>\n",
              "      <td>1010</td>\n",
              "      <td>-920.83</td>\n",
              "      <td>NaN</td>\n",
              "    </tr>\n",
              "  </tbody>\n",
              "</table>\n",
              "</div>\n",
              "      <button class=\"colab-df-convert\" onclick=\"convertToInteractive('df-4850a12e-e07e-497e-8a3c-89d2ba54c68a')\"\n",
              "              title=\"Convert this dataframe to an interactive table.\"\n",
              "              style=\"display:none;\">\n",
              "        \n",
              "  <svg xmlns=\"http://www.w3.org/2000/svg\" height=\"24px\"viewBox=\"0 0 24 24\"\n",
              "       width=\"24px\">\n",
              "    <path d=\"M0 0h24v24H0V0z\" fill=\"none\"/>\n",
              "    <path d=\"M18.56 5.44l.94 2.06.94-2.06 2.06-.94-2.06-.94-.94-2.06-.94 2.06-2.06.94zm-11 1L8.5 8.5l.94-2.06 2.06-.94-2.06-.94L8.5 2.5l-.94 2.06-2.06.94zm10 10l.94 2.06.94-2.06 2.06-.94-2.06-.94-.94-2.06-.94 2.06-2.06.94z\"/><path d=\"M17.41 7.96l-1.37-1.37c-.4-.4-.92-.59-1.43-.59-.52 0-1.04.2-1.43.59L10.3 9.45l-7.72 7.72c-.78.78-.78 2.05 0 2.83L4 21.41c.39.39.9.59 1.41.59.51 0 1.02-.2 1.41-.59l7.78-7.78 2.81-2.81c.8-.78.8-2.07 0-2.86zM5.41 20L4 18.59l7.72-7.72 1.47 1.35L5.41 20z\"/>\n",
              "  </svg>\n",
              "      </button>\n",
              "      \n",
              "  <style>\n",
              "    .colab-df-container {\n",
              "      display:flex;\n",
              "      flex-wrap:wrap;\n",
              "      gap: 12px;\n",
              "    }\n",
              "\n",
              "    .colab-df-convert {\n",
              "      background-color: #E8F0FE;\n",
              "      border: none;\n",
              "      border-radius: 50%;\n",
              "      cursor: pointer;\n",
              "      display: none;\n",
              "      fill: #1967D2;\n",
              "      height: 32px;\n",
              "      padding: 0 0 0 0;\n",
              "      width: 32px;\n",
              "    }\n",
              "\n",
              "    .colab-df-convert:hover {\n",
              "      background-color: #E2EBFA;\n",
              "      box-shadow: 0px 1px 2px rgba(60, 64, 67, 0.3), 0px 1px 3px 1px rgba(60, 64, 67, 0.15);\n",
              "      fill: #174EA6;\n",
              "    }\n",
              "\n",
              "    [theme=dark] .colab-df-convert {\n",
              "      background-color: #3B4455;\n",
              "      fill: #D2E3FC;\n",
              "    }\n",
              "\n",
              "    [theme=dark] .colab-df-convert:hover {\n",
              "      background-color: #434B5C;\n",
              "      box-shadow: 0px 1px 3px 1px rgba(0, 0, 0, 0.15);\n",
              "      filter: drop-shadow(0px 1px 2px rgba(0, 0, 0, 0.3));\n",
              "      fill: #FFFFFF;\n",
              "    }\n",
              "  </style>\n",
              "\n",
              "      <script>\n",
              "        const buttonEl =\n",
              "          document.querySelector('#df-4850a12e-e07e-497e-8a3c-89d2ba54c68a button.colab-df-convert');\n",
              "        buttonEl.style.display =\n",
              "          google.colab.kernel.accessAllowed ? 'block' : 'none';\n",
              "\n",
              "        async function convertToInteractive(key) {\n",
              "          const element = document.querySelector('#df-4850a12e-e07e-497e-8a3c-89d2ba54c68a');\n",
              "          const dataTable =\n",
              "            await google.colab.kernel.invokeFunction('convertToInteractive',\n",
              "                                                     [key], {});\n",
              "          if (!dataTable) return;\n",
              "\n",
              "          const docLinkHtml = 'Like what you see? Visit the ' +\n",
              "            '<a target=\"_blank\" href=https://colab.research.google.com/notebooks/data_table.ipynb>data table notebook</a>'\n",
              "            + ' to learn more about interactive tables.';\n",
              "          element.innerHTML = '';\n",
              "          dataTable['output_type'] = 'display_data';\n",
              "          await google.colab.output.renderOutput(dataTable, element);\n",
              "          const docLink = document.createElement('div');\n",
              "          docLink.innerHTML = docLinkHtml;\n",
              "          element.appendChild(docLink);\n",
              "        }\n",
              "      </script>\n",
              "    </div>\n",
              "  </div>\n",
              "  "
            ]
          },
          "metadata": {},
          "execution_count": 21
        }
      ]
    },
    {
      "cell_type": "markdown",
      "source": [
        "# **Задание 8**\n",
        "Определите модуль разницы между средними тратами женщин и мужчин (трата - отрицательное значение amount). (*)\n",
        "\n",
        "Выведите ответ в виде вещественного числа, округлённого до двух знаков после запятой, отделив дробную часть точкой в формате \"123.45\""
      ],
      "metadata": {
        "id": "d0-Ao9TeuZ0V"
      }
    },
    {
      "cell_type": "code",
      "source": [
        "# reading csv files from the drive\n",
        "path_transactions = \"/content/drive/MyDrive/Colab Notebooks/AI/Lab4_data/transactions.csv\"\n",
        "path_gender_train = \"/content/drive/MyDrive/Colab Notebooks/AI/Lab4_data/gender_train.csv\"\n",
        "transactions = pd.read_csv(path_transactions, sep = \",\", index_col = \"customer_id\")\n",
        "gender_train = pd.read_csv(path_gender_train, sep = \",\", index_col = \"customer_id\")\n",
        "\n",
        "# merging transactions and gender_train data frames\n",
        "s_merged = pd.merge(left = transactions, right = gender_train, on = \"customer_id\")\n",
        "s_merged.head()\n",
        "\n",
        "# getting an amount series\n",
        "s_amount = s_merged.loc[:, \"amount\"]\n",
        "print(\"Amount series: \")\n",
        "print(s_amount)\n",
        "print()\n",
        "\n",
        "# selecting the rows containg negative amount values and not NaNs\n",
        "s_mask = s_amount.where(s_amount < 0).notnull()\n",
        "s_filtered = s_merged[s_mask]\n",
        "print(\"Filtered dataframe:\")\n",
        "print(s_filtered)\n",
        "print()\n",
        "\n",
        "# grouping by gender (0 - men, 1 - women)\n",
        "s_grouped = s_filtered.groupby(\"gender\")[\"amount\"].mean()\n",
        "print(\"Grouped dataframe:\")\n",
        "print(s_grouped)\n",
        "print()\n",
        "\n",
        "# figuring out the difference between the mean values\n",
        "value = round(abs(s_grouped[1] - s_grouped[0]), 2)\n",
        "print(\"Value: \", value)"
      ],
      "metadata": {
        "colab": {
          "base_uri": "https://localhost:8080/"
        },
        "id": "P-rV5Uthuala",
        "outputId": "1bafd292-e482-44b5-cf04-b9b71b717bc3"
      },
      "execution_count": null,
      "outputs": [
        {
          "output_type": "stream",
          "name": "stdout",
          "text": [
            "Amount dataframe: \n",
            "customer_id\n",
            "39026145     -2245.92\n",
            "39026145     56147.89\n",
            "39026145    -56147.89\n",
            "39026145     -1392.47\n",
            "39026145      -920.83\n",
            "              ...    \n",
            "61870738     -5176.84\n",
            "61870738     -1652.77\n",
            "61870738     -4687.23\n",
            "61870738     -4491.83\n",
            "61870738    408756.67\n",
            "Name: amount, Length: 3751083, dtype: float64\n",
            "\n",
            "Filtered dataframe:\n",
            "              tr_datetime  mcc_code  tr_type    amount   term_id  gender\n",
            "customer_id                                                             \n",
            "39026145       0 10:23:26      4814     1030  -2245.92       NaN       1\n",
            "39026145       1 10:20:56      4829     2330 -56147.89       NaN       1\n",
            "39026145       1 10:39:54      5499     1010  -1392.47       NaN       1\n",
            "39026145       2 15:33:42      5499     1010   -920.83       NaN       1\n",
            "39026145       2 15:53:49      5541     1010 -14643.37       NaN       1\n",
            "...                   ...       ...      ...       ...       ...     ...\n",
            "61870738     452 19:33:04      5541     1110  -4491.83  RU570124       0\n",
            "61870738     453 16:03:02      5499     1010  -5176.84  10217113       0\n",
            "61870738     454 10:54:60      5411     1010  -1652.77    022915       0\n",
            "61870738     454 14:23:59      5499     1010  -4687.23  10217113       0\n",
            "61870738     454 16:11:53      5541     1110  -4491.83  RU570124       0\n",
            "\n",
            "[3082604 rows x 6 columns]\n",
            "\n",
            "Grouped dataframe:\n",
            "gender\n",
            "0   -51856.789972\n",
            "1   -76658.346437\n",
            "Name: amount, dtype: float64\n",
            "\n",
            "Value:  24801.56\n"
          ]
        }
      ]
    },
    {
      "cell_type": "markdown",
      "source": [
        "# **Задание 9**\n",
        "\n",
        "1. Создайте новый столбец - mcc_code+tr_type, сконкатенировав значения из соответствующих столбцов. (*)\n",
        "2. Оставьте только наблюдения с отрицательным значением amount."
      ],
      "metadata": {
        "id": "4p0e96qzAfV8"
      }
    },
    {
      "cell_type": "code",
      "source": [
        "def concatenateStrings(s1, s2): return pd.DataFrame({\"s1\": s1, \"s2\": s2, \"s1 + s2\": s1 + s2})\n",
        "\n",
        "# reading csv files from the drive\n",
        "path_transactions = \"/content/drive/MyDrive/Colab Notebooks/AI/Lab4_data/transactions.csv\"\n",
        "transactions = pd.read_csv(path_transactions, sep = \",\", index_col = \"customer_id\")\n",
        "\n",
        "# getting series objects for appropriate columns\n",
        "s_codes = transactions.loc[:, \"mcc_code\"].astype(str)\n",
        "s_types = transactions.loc[:, \"tr_type\"].astype(str)\n",
        "\n",
        "# concatenating strings\n",
        "df_strings = concatenateStrings(s_codes, s_types)\n",
        "print(\"Dataframe strings: \")\n",
        "print(df_strings)\n",
        "print()\n",
        "\n",
        "# getting an amount series\n",
        "s_amount = transactions.loc[:, \"amount\"]\n",
        "print(\"Amount series: \")\n",
        "print(s_amount)\n",
        "print()\n",
        "\n",
        "# selecting the rows containg negative amount values and not NaNs\n",
        "s_mask = s_amount.where(s_amount < 0).notnull()\n",
        "s_filtered = transactions[s_mask]\n",
        "print(\"Filtered dataframe:\")\n",
        "print(s_filtered)"
      ],
      "metadata": {
        "colab": {
          "base_uri": "https://localhost:8080/"
        },
        "id": "hL_9FGasAftT",
        "outputId": "d6e83dd9-6b93-4cf7-86b0-86efe0bca259"
      },
      "execution_count": null,
      "outputs": [
        {
          "output_type": "stream",
          "name": "stdout",
          "text": [
            "Dataframe strings: \n",
            "               s1    s2   s1 + s2\n",
            "customer_id                      \n",
            "39026145     4814  1030  48141030\n",
            "39026145     6011  7010  60117010\n",
            "39026145     4829  2330  48292330\n",
            "39026145     5499  1010  54991010\n",
            "39026145     5499  1010  54991010\n",
            "...           ...   ...       ...\n",
            "61870738     5499  1010  54991010\n",
            "61870738     5411  1010  54111010\n",
            "61870738     5499  1010  54991010\n",
            "61870738     5541  1110  55411110\n",
            "61870738     6011  7010  60117010\n",
            "\n",
            "[6849346 rows x 3 columns]\n",
            "\n",
            "Amount series: \n",
            "customer_id\n",
            "39026145     -2245.92\n",
            "39026145     56147.89\n",
            "39026145    -56147.89\n",
            "39026145     -1392.47\n",
            "39026145      -920.83\n",
            "              ...    \n",
            "61870738     -5176.84\n",
            "61870738     -1652.77\n",
            "61870738     -4687.23\n",
            "61870738     -4491.83\n",
            "61870738    408756.67\n",
            "Name: amount, Length: 6849346, dtype: float64\n",
            "\n",
            "Filtered dataframe:\n",
            "              tr_datetime  mcc_code  tr_type    amount   term_id\n",
            "customer_id                                                     \n",
            "39026145       0 10:23:26      4814     1030  -2245.92       NaN\n",
            "39026145       1 10:20:56      4829     2330 -56147.89       NaN\n",
            "39026145       1 10:39:54      5499     1010  -1392.47       NaN\n",
            "39026145       2 15:33:42      5499     1010   -920.83       NaN\n",
            "39026145       2 15:53:49      5541     1010 -14643.37       NaN\n",
            "...                   ...       ...      ...       ...       ...\n",
            "61870738     452 19:33:04      5541     1110  -4491.83  RU570124\n",
            "61870738     453 16:03:02      5499     1010  -5176.84  10217113\n",
            "61870738     454 10:54:60      5411     1010  -1652.77    022915\n",
            "61870738     454 14:23:59      5499     1010  -4687.23  10217113\n",
            "61870738     454 16:11:53      5541     1110  -4491.83  RU570124\n",
            "\n",
            "[5541668 rows x 5 columns]\n"
          ]
        }
      ]
    }
  ]
}