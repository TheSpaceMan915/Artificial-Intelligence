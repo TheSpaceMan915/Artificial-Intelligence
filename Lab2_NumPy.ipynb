{
  "nbformat": 4,
  "nbformat_minor": 0,
  "metadata": {
    "colab": {
      "provenance": [],
      "authorship_tag": "ABX9TyPF+d1oQ3I9M/Qw99fGHcys",
      "include_colab_link": true
    },
    "kernelspec": {
      "name": "python3",
      "display_name": "Python 3"
    },
    "language_info": {
      "name": "python"
    }
  },
  "cells": [
    {
      "cell_type": "markdown",
      "metadata": {
        "id": "view-in-github",
        "colab_type": "text"
      },
      "source": [
        "<a href=\"https://colab.research.google.com/github/TheSpaceMan915/Artificial-Intelligence/blob/main/Lab2_NumPy.ipynb\" target=\"_parent\"><img src=\"https://colab.research.google.com/assets/colab-badge.svg\" alt=\"Open In Colab\"/></a>"
      ]
    },
    {
      "cell_type": "markdown",
      "source": [
        "**Лабораторная работа №2   Колычев Никита   ВПР34**"
      ],
      "metadata": {
        "id": "myQtEsQ4eytI"
      }
    },
    {
      "cell_type": "markdown",
      "source": [
        "#**1.  Найти индексы ненулевых элементов в заданном массиве.**"
      ],
      "metadata": {
        "id": "SRT_d0CefHo-"
      }
    },
    {
      "cell_type": "code",
      "source": [
        "import numpy as np\n",
        "\n",
        "arr_numbers = np.array([5,0,2,6,0,0,10,0])\n",
        "indexes = np.where(arr_numbers == 0)\n",
        "\n",
        "print(indexes)"
      ],
      "metadata": {
        "colab": {
          "base_uri": "https://localhost:8080/"
        },
        "id": "piIvJrMffqGY",
        "outputId": "2fddde79-315c-4f64-e4fc-f66eedb7f4db"
      },
      "execution_count": null,
      "outputs": [
        {
          "output_type": "stream",
          "name": "stdout",
          "text": [
            "(array([1, 4, 5, 7]),)\n"
          ]
        }
      ]
    },
    {
      "cell_type": "markdown",
      "source": [
        "\n",
        "#**2.  Создать nxn единичную матрицу.**"
      ],
      "metadata": {
        "id": "actjk1VRmPO2"
      }
    },
    {
      "cell_type": "code",
      "source": [
        "matrix = np.eye(4)\n",
        "print(matrix)"
      ],
      "metadata": {
        "colab": {
          "base_uri": "https://localhost:8080/"
        },
        "id": "HsRJ8nRXmcM9",
        "outputId": "36a4f570-b469-4e3e-e2e3-583f4643d793"
      },
      "execution_count": null,
      "outputs": [
        {
          "output_type": "stream",
          "name": "stdout",
          "text": [
            "[[1. 0. 0. 0.]\n",
            " [0. 1. 0. 0.]\n",
            " [0. 0. 1. 0.]\n",
            " [0. 0. 0. 1.]]\n"
          ]
        }
      ]
    },
    {
      "cell_type": "markdown",
      "source": [
        "\n",
        "#**3.  Создать массив nxnxn со случайными значениями**"
      ],
      "metadata": {
        "id": "UVhJY8KAmXNJ"
      }
    },
    {
      "cell_type": "code",
      "source": [
        "n = 5\n",
        "\n",
        "arr_rands = np.random.randint(10, size=(n,n,n))\n",
        "print(arr_rands)"
      ],
      "metadata": {
        "colab": {
          "base_uri": "https://localhost:8080/"
        },
        "id": "9BaAgfzDqUkv",
        "outputId": "edd3f7a3-63a1-44e1-bbe1-2c4746daa8a3"
      },
      "execution_count": null,
      "outputs": [
        {
          "output_type": "stream",
          "name": "stdout",
          "text": [
            "[[[6 7 5 4 9]\n",
            "  [9 2 9 1 8]\n",
            "  [3 5 8 5 0]\n",
            "  [1 5 9 6 3]\n",
            "  [2 6 2 8 1]]\n",
            "\n",
            " [[1 7 0 3 3]\n",
            "  [5 9 7 0 5]\n",
            "  [9 2 2 1 4]\n",
            "  [9 2 4 1 2]\n",
            "  [8 8 4 0 6]]\n",
            "\n",
            " [[4 5 8 1 2]\n",
            "  [4 7 9 9 6]\n",
            "  [3 7 5 2 2]\n",
            "  [0 5 4 6 7]\n",
            "  [0 0 9 5 1]]\n",
            "\n",
            " [[1 1 3 5 4]\n",
            "  [7 0 3 4 6]\n",
            "  [6 9 2 3 4]\n",
            "  [1 4 2 6 3]\n",
            "  [2 1 0 7 3]]\n",
            "\n",
            " [[3 8 9 3 2]\n",
            "  [7 0 8 8 2]\n",
            "  [8 1 0 7 1]\n",
            "  [9 1 8 1 9]\n",
            "  [6 4 0 8 5]]]\n"
          ]
        }
      ]
    },
    {
      "cell_type": "markdown",
      "source": [
        "#**4.  Создать вектор (одномерный массив) размера n, заполненный нулями**"
      ],
      "metadata": {
        "id": "0BDpGhZyr48W"
      }
    },
    {
      "cell_type": "code",
      "source": [
        "size = 4\n",
        "\n",
        "arr_zeroes = np.zeros(size)\n",
        "print(arr_zeroes)"
      ],
      "metadata": {
        "colab": {
          "base_uri": "https://localhost:8080/"
        },
        "id": "j2TROQQBtBZG",
        "outputId": "77eb698c-e196-40de-9e4e-da5367f566de"
      },
      "execution_count": null,
      "outputs": [
        {
          "output_type": "stream",
          "name": "stdout",
          "text": [
            "[0. 0. 0. 0.]\n"
          ]
        }
      ]
    },
    {
      "cell_type": "markdown",
      "source": [
        "#**5.  Создать вектор размера n, заполненный нулями, но пятый элемент равен 1**"
      ],
      "metadata": {
        "id": "ldXlRxAQt8aB"
      }
    },
    {
      "cell_type": "code",
      "source": [
        "size = 7\n",
        "\n",
        "arr_numbers = np.zeros(size)\n",
        "arr_numbers[4] = 1\n",
        "\n",
        "print(arr_numbers)"
      ],
      "metadata": {
        "colab": {
          "base_uri": "https://localhost:8080/"
        },
        "id": "Zkk6j-bsuD3J",
        "outputId": "c376d990-5b2d-4bad-b642-41029bf12e55"
      },
      "execution_count": null,
      "outputs": [
        {
          "output_type": "stream",
          "name": "stdout",
          "text": [
            "[0. 0. 0. 0. 1. 0. 0.]\n"
          ]
        }
      ]
    },
    {
      "cell_type": "markdown",
      "source": [
        "#**6.  Создать вектор со значениями от n до m**"
      ],
      "metadata": {
        "id": "DkX7_hEryY68"
      }
    },
    {
      "cell_type": "code",
      "source": [
        "n = 4\n",
        "m = 9\n",
        "\n",
        "arr_numbers = np.arange(n,m)\n",
        "print(arr_numbers)"
      ],
      "metadata": {
        "id": "7AsmRXWiyZW_",
        "colab": {
          "base_uri": "https://localhost:8080/"
        },
        "outputId": "2b27ff4e-af75-4174-ae91-273961ae71a0"
      },
      "execution_count": null,
      "outputs": [
        {
          "output_type": "stream",
          "name": "stdout",
          "text": [
            "[4 5 6 7 8]\n"
          ]
        }
      ]
    },
    {
      "cell_type": "markdown",
      "source": [
        "#**7. Развернуть одномерный массив (первый становится последним)**"
      ],
      "metadata": {
        "id": "ebE7I_F4-oZV"
      }
    },
    {
      "cell_type": "code",
      "source": [
        "arr_numbers = np.array([\"cat\",\"coala\",\"tea\"])\n",
        "\n",
        "arr_reversed = np.flip(arr_numbers)\n",
        "print(arr_reversed)"
      ],
      "metadata": {
        "colab": {
          "base_uri": "https://localhost:8080/"
        },
        "id": "DjOkVzGG-5vn",
        "outputId": "66b1cf24-1f31-411c-a03b-fcea8a84992a"
      },
      "execution_count": null,
      "outputs": [
        {
          "output_type": "stream",
          "name": "stdout",
          "text": [
            "['tea' 'coala' 'cat']\n"
          ]
        }
      ]
    },
    {
      "cell_type": "markdown",
      "source": [
        "#**8.  Создать матрицу с 0 внутри, и 1 на границах**"
      ],
      "metadata": {
        "id": "B6Z3UUY9Aixr"
      }
    },
    {
      "cell_type": "code",
      "source": [
        "size = 7\n",
        "\n",
        "# создаю матрицу из единиц\n",
        "arr_ones = np.ones((size,size))\n",
        "\n",
        "arr_ones[1:-1,1:-1] = 0\n",
        "print(arr_ones)"
      ],
      "metadata": {
        "colab": {
          "base_uri": "https://localhost:8080/"
        },
        "id": "acQWDN4dApc9",
        "outputId": "a1ce0a97-0009-4221-aba4-cf04a28bd3f6"
      },
      "execution_count": null,
      "outputs": [
        {
          "output_type": "stream",
          "name": "stdout",
          "text": [
            "[[1. 1. 1. 1. 1. 1. 1.]\n",
            " [1. 0. 0. 0. 0. 0. 1.]\n",
            " [1. 0. 0. 0. 0. 0. 1.]\n",
            " [1. 0. 0. 0. 0. 0. 1.]\n",
            " [1. 0. 0. 0. 0. 0. 1.]\n",
            " [1. 0. 0. 0. 0. 0. 1.]\n",
            " [1. 1. 1. 1. 1. 1. 1.]]\n"
          ]
        }
      ]
    },
    {
      "cell_type": "markdown",
      "source": [
        "#**9.  Создать nxn матрицу и заполнить её в шахматном порядке**"
      ],
      "metadata": {
        "id": "spDBphBtKP9-"
      }
    },
    {
      "cell_type": "code",
      "source": [
        "# создаю матрицу\n",
        "n = 4\n",
        "matrix = np.random.randint(1,10, size=(n,n))\n",
        "\n",
        "# заполняю матрицу нулями с помощью срезов\n",
        "matrix[0:1,::2] = 0\n",
        "matrix[1:2,1::2] = 0\n",
        "matrix[2:3,::2] = 0\n",
        "matrix[3:4,1::2] = 0\n",
        "\n",
        "print(matrix)"
      ],
      "metadata": {
        "colab": {
          "base_uri": "https://localhost:8080/"
        },
        "id": "x0ocBFO9Kkrg",
        "outputId": "7ca3dfa7-fb7a-4873-eb7a-c16c23599e9f"
      },
      "execution_count": null,
      "outputs": [
        {
          "output_type": "stream",
          "name": "stdout",
          "text": [
            "[[0 7 0 2]\n",
            " [5 0 1 0]\n",
            " [0 5 0 9]\n",
            " [5 0 4 0]]\n"
          ]
        }
      ]
    },
    {
      "cell_type": "markdown",
      "source": [
        "#**10.  Заменить максимальный элемент на ноль**"
      ],
      "metadata": {
        "id": "NT3SfLpVU6ip"
      }
    },
    {
      "cell_type": "code",
      "source": [
        "# создаю массив\n",
        "arr_numbers = np.array([5,3,7,8,4,2,11])\n",
        "print(\"Изначальный массив: \", arr_numbers)\n",
        "\n",
        "# заменяю максимальный элемент на ноль\n",
        "index_max = np.argmax(arr_numbers)\n",
        "arr_numbers[index_max] = 0\n",
        "\n",
        "print(\"Измененный массив: \", arr_numbers)"
      ],
      "metadata": {
        "colab": {
          "base_uri": "https://localhost:8080/"
        },
        "id": "27zkns6oU52f",
        "outputId": "dddbf611-fa0a-437f-a9a9-fda3fb7b2052"
      },
      "execution_count": null,
      "outputs": [
        {
          "output_type": "stream",
          "name": "stdout",
          "text": [
            "Изначальный массив:  [ 5  3  7  8  4  2 11]\n",
            "Измененный массив:  [5 3 7 8 4 2 0]\n"
          ]
        }
      ]
    },
    {
      "cell_type": "markdown",
      "source": [
        "#**11.  Найти ближайшее к заданному значению число в заданном массиве**"
      ],
      "metadata": {
        "id": "63rydCwon6Vs"
      }
    },
    {
      "cell_type": "code",
      "source": [
        "# инициализирую число и массив\n",
        "number = 11\n",
        "arr_numbers = np.array([5,3,4,50,10])\n",
        "\n",
        "# ищу индекс числа\n",
        "arr_abs_numbers = np.abs(arr_numbers - number)\n",
        "index_number = arr_abs_numbers.argmin()\n",
        "\n",
        "print(\"Индекс: \", index_number)\n",
        "print(\"Число: \", arr_numbers[index_number])"
      ],
      "metadata": {
        "colab": {
          "base_uri": "https://localhost:8080/"
        },
        "id": "JDAOHtltn_s8",
        "outputId": "60db4ce5-3213-4022-dd24-42829348c6b0"
      },
      "execution_count": null,
      "outputs": [
        {
          "output_type": "stream",
          "name": "stdout",
          "text": [
            "Индекс:  4\n",
            "Число:  10\n"
          ]
        }
      ]
    },
    {
      "cell_type": "markdown",
      "source": [
        "#**12.  Дан четырехмерный массив, посчитать сумму по последним двум осям**"
      ],
      "metadata": {
        "id": "jD0tKf2TDxbn"
      }
    },
    {
      "cell_type": "code",
      "source": [
        "# создаю массив\n",
        "arr_numbers = np.random.randint(10, size=(2,3,3,2))\n",
        "\n",
        "print(\"Изначальный массив:\")\n",
        "print(arr_numbers)\n",
        "\n",
        "# изменяю форму массива\n",
        "arr_reshaped = arr_numbers.reshape(arr_numbers.shape[:-2] + (-1,))\n",
        "\n",
        "print()\n",
        "print(\"Измененный массив:\")\n",
        "print(arr_reshaped)\n",
        "\n",
        "# считаю сумму\n",
        "axes_sum = arr_reshaped.sum(axis=-1)\n",
        "\n",
        "print()\n",
        "print(\"Сумма осей:\")\n",
        "print(axes_sum)"
      ],
      "metadata": {
        "colab": {
          "base_uri": "https://localhost:8080/"
        },
        "id": "B-ZGumTaEIqv",
        "outputId": "7e0f0f44-f5ec-442f-f6bc-3b241456c41f"
      },
      "execution_count": null,
      "outputs": [
        {
          "output_type": "stream",
          "name": "stdout",
          "text": [
            "Изначальный массив:\n",
            "[[[[4 1]\n",
            "   [5 7]\n",
            "   [5 4]]\n",
            "\n",
            "  [[6 8]\n",
            "   [3 3]\n",
            "   [2 7]]\n",
            "\n",
            "  [[4 2]\n",
            "   [5 0]\n",
            "   [1 4]]]\n",
            "\n",
            "\n",
            " [[[6 2]\n",
            "   [3 6]\n",
            "   [6 3]]\n",
            "\n",
            "  [[5 6]\n",
            "   [4 0]\n",
            "   [7 9]]\n",
            "\n",
            "  [[2 5]\n",
            "   [4 2]\n",
            "   [5 4]]]]\n",
            "\n",
            "Измененный массив:\n",
            "[[[4 1 5 7 5 4]\n",
            "  [6 8 3 3 2 7]\n",
            "  [4 2 5 0 1 4]]\n",
            "\n",
            " [[6 2 3 6 6 3]\n",
            "  [5 6 4 0 7 9]\n",
            "  [2 5 4 2 5 4]]]\n",
            "\n",
            "Сумма осей:\n",
            "[[26 29 16]\n",
            " [26 31 22]]\n"
          ]
        }
      ]
    },
    {
      "cell_type": "markdown",
      "source": [
        "#**13.  Определить, есть ли в двумерном массиве нулевые столбцы**"
      ],
      "metadata": {
        "id": "vozx0zYLU-Mp"
      }
    },
    {
      "cell_type": "code",
      "source": [
        "# создаю массив\n",
        "arr_numbers = np.array([[3,5,0],[2,6,0]])\n",
        "\n",
        "# ищу столбец с нулями\n",
        "res = (~arr_numbers.any(axis=0)).any()\n",
        "print(res)"
      ],
      "metadata": {
        "colab": {
          "base_uri": "https://localhost:8080/"
        },
        "id": "nvNa4d7EU-kE",
        "outputId": "2f466a2d-b46c-45da-abb6-20847b80b709"
      },
      "execution_count": null,
      "outputs": [
        {
          "output_type": "stream",
          "name": "stdout",
          "text": [
            "True\n"
          ]
        }
      ]
    },
    {
      "cell_type": "markdown",
      "source": [
        "#**14.  Отнять среднее из каждой строки в матрице**"
      ],
      "metadata": {
        "id": "ht8aLDyphNgY"
      }
    },
    {
      "cell_type": "code",
      "source": [
        "# создаю матрицу\n",
        "n = 4\n",
        "matrix = np.random.randint(1,10, size=(n,n))\n",
        "\n",
        "print(\"Изначальная матрица: \")\n",
        "print(matrix)\n",
        "\n",
        "# вычитаю среднее знач\n",
        "matrix_res = matrix - matrix.mean(axis = 1, keepdims = True)\n",
        "\n",
        "print()\n",
        "print(\"Итоговая матрица: \")\n",
        "print(matrix_res)"
      ],
      "metadata": {
        "colab": {
          "base_uri": "https://localhost:8080/"
        },
        "id": "TefpH0dZhN_m",
        "outputId": "87e07b18-9328-4cbf-d5d5-dbafd22f4e0b"
      },
      "execution_count": null,
      "outputs": [
        {
          "output_type": "stream",
          "name": "stdout",
          "text": [
            "Изначальная матрица: \n",
            "[[3 7 3 9]\n",
            " [6 9 3 5]\n",
            " [4 6 4 1]\n",
            " [3 1 4 6]]\n",
            "\n",
            "Итоговая матрица: \n",
            "[[-2.5   1.5  -2.5   3.5 ]\n",
            " [ 0.25  3.25 -2.75 -0.75]\n",
            " [ 0.25  2.25  0.25 -2.75]\n",
            " [-0.5  -2.5   0.5   2.5 ]]\n"
          ]
        }
      ]
    },
    {
      "cell_type": "markdown",
      "source": [
        "#**15. Создайте вектор с элементами от 10 до 50**"
      ],
      "metadata": {
        "id": "tG3Njg3w-kKA"
      }
    },
    {
      "cell_type": "code",
      "source": [
        "arr_numbers = np.arange(10,50)\n",
        "print(arr_numbers)"
      ],
      "metadata": {
        "colab": {
          "base_uri": "https://localhost:8080/"
        },
        "id": "gojt8cwk-klR",
        "outputId": "2f0837b0-61f0-4055-b3b4-ed932f9e48fd"
      },
      "execution_count": null,
      "outputs": [
        {
          "output_type": "stream",
          "name": "stdout",
          "text": [
            "[10 11 12 13 14 15 16 17 18 19 20 21 22 23 24 25 26 27 28 29 30 31 32 33\n",
            " 34 35 36 37 38 39 40 41 42 43 44 45 46 47 48 49]\n"
          ]
        }
      ]
    },
    {
      "cell_type": "markdown",
      "source": [
        "#**16. Создайте матрицу (5, 5), заполненую от 0 до 6**"
      ],
      "metadata": {
        "id": "I2Gw_9pB_bHR"
      }
    },
    {
      "cell_type": "code",
      "source": [
        "n = 5\n",
        "matrix = np.random.randint(0,6,(n,n))\n",
        "\n",
        "print(matrix)"
      ],
      "metadata": {
        "colab": {
          "base_uri": "https://localhost:8080/"
        },
        "id": "u4PzQeB4_bll",
        "outputId": "dd725060-71fe-4148-fa3c-f3cf62fa21c9"
      },
      "execution_count": null,
      "outputs": [
        {
          "output_type": "stream",
          "name": "stdout",
          "text": [
            "[[2 1 2 2 4]\n",
            " [4 2 3 4 1]\n",
            " [5 5 0 2 2]\n",
            " [1 4 4 2 3]\n",
            " [1 5 1 5 0]]\n"
          ]
        }
      ]
    },
    {
      "cell_type": "markdown",
      "source": [
        "#**17. Умножьте матрицу размерности (5, 3) на (3, 2)**"
      ],
      "metadata": {
        "id": "Lf0d6bqZH9MQ"
      }
    },
    {
      "cell_type": "code",
      "source": [
        "matrix_one = np.random.randint(0,10,(5,3))\n",
        "matrix_two = np.random.randint(0,10,(3,2))\n",
        "\n",
        "\n",
        "print(\"matrix_one:\")\n",
        "print(matrix_one)\n",
        "print()\n",
        "print(\"matrix_two:\")\n",
        "print(matrix_two)\n",
        "\n",
        "# умножаю матрицы\n",
        "matrix_res = np.dot(matrix_one,matrix_two)\n",
        "\n",
        "\n",
        "print()\n",
        "print(\"matrix_res:\")\n",
        "print(matrix_res)"
      ],
      "metadata": {
        "colab": {
          "base_uri": "https://localhost:8080/"
        },
        "id": "W6zFJyIwH9j2",
        "outputId": "fec9b72a-c92e-4859-d5b4-cdff81b7fa36"
      },
      "execution_count": null,
      "outputs": [
        {
          "output_type": "stream",
          "name": "stdout",
          "text": [
            "matrix_one:\n",
            "[[3 7 1]\n",
            " [7 8 3]\n",
            " [9 6 6]\n",
            " [6 1 5]\n",
            " [5 5 1]]\n",
            "\n",
            "matrix_two:\n",
            "[[3 5]\n",
            " [9 5]\n",
            " [0 3]]\n",
            "\n",
            "matrix_res:\n",
            "[[72 53]\n",
            " [93 84]\n",
            " [81 93]\n",
            " [27 50]\n",
            " [60 53]]\n"
          ]
        }
      ]
    },
    {
      "cell_type": "markdown",
      "source": [
        "#**18. Создайте матрицу (10, 10) так, чтобы на границе были 0, а внутри 1**"
      ],
      "metadata": {
        "id": "m9QVcmdEaMyR"
      }
    },
    {
      "cell_type": "code",
      "source": [
        "size = 10\n",
        "\n",
        "# создаю матрицу из нулей\n",
        "arr_ones = np.zeros((size,size))\n",
        "\n",
        "arr_ones[1:-1,1:-1] = 1\n",
        "print(arr_ones)"
      ],
      "metadata": {
        "colab": {
          "base_uri": "https://localhost:8080/"
        },
        "id": "MIFatQ44ajHx",
        "outputId": "aefd7021-8c0e-4ce1-cbe3-5a5d1932d415"
      },
      "execution_count": null,
      "outputs": [
        {
          "output_type": "stream",
          "name": "stdout",
          "text": [
            "[[0. 0. 0. 0. 0. 0. 0. 0. 0. 0.]\n",
            " [0. 1. 1. 1. 1. 1. 1. 1. 1. 0.]\n",
            " [0. 1. 1. 1. 1. 1. 1. 1. 1. 0.]\n",
            " [0. 1. 1. 1. 1. 1. 1. 1. 1. 0.]\n",
            " [0. 1. 1. 1. 1. 1. 1. 1. 1. 0.]\n",
            " [0. 1. 1. 1. 1. 1. 1. 1. 1. 0.]\n",
            " [0. 1. 1. 1. 1. 1. 1. 1. 1. 0.]\n",
            " [0. 1. 1. 1. 1. 1. 1. 1. 1. 0.]\n",
            " [0. 1. 1. 1. 1. 1. 1. 1. 1. 0.]\n",
            " [0. 0. 0. 0. 0. 0. 0. 0. 0. 0.]]\n"
          ]
        }
      ]
    },
    {
      "cell_type": "markdown",
      "source": [
        "#**19. Для заданного числа найдите ближайший к нему элемент в векторе**"
      ],
      "metadata": {
        "id": "Zumdhv-2bJaC"
      }
    },
    {
      "cell_type": "code",
      "source": [
        "# инициализирую число и массив\n",
        "print(\"Введите число:\")\n",
        "number = int(input())\n",
        "arr_numbers = np.random.randint(1,100, size=10)\n",
        "\n",
        "\n",
        "print()\n",
        "print(\"Массив:\")\n",
        "print(arr_numbers)\n",
        "\n",
        "\n",
        "# ищу индекс числа\n",
        "arr_abs_numbers = np.abs(arr_numbers - number)\n",
        "index_number = arr_abs_numbers.argmin()\n",
        "\n",
        "\n",
        "print()\n",
        "print(\"Индекс: \", index_number)\n",
        "print(\"Число: \", arr_numbers[index_number])"
      ],
      "metadata": {
        "colab": {
          "base_uri": "https://localhost:8080/"
        },
        "id": "8-HvoKEHbJ5p",
        "outputId": "c9df8970-510b-4e85-c9e0-f2f92e634c4f"
      },
      "execution_count": null,
      "outputs": [
        {
          "output_type": "stream",
          "name": "stdout",
          "text": [
            "Введите число:\n",
            "7\n",
            "\n",
            "Массив:\n",
            "[16 17 81  7 10 43 15  1  3 85]\n",
            "\n",
            "Индекс:  3\n",
            "Число:  7\n"
          ]
        }
      ]
    },
    {
      "cell_type": "markdown",
      "source": [
        "# **20. Дан трёхмерный массив \"Цветное изображение\", содержащий изображение, размера (height, width, numChannels), а также вектор коэффициентов длины numChannels. Сложить каналы изображения с указанными весами, и вернуть результат в виде матрицы размера (height, width). Реальное изображение не считываем, заполняем трехмерный массив случайными значениями. Преобразуйте цветное изображение в оттенки серого, использовав коэффициенты np.array([0.299, 0.587, 0.114]).**"
      ],
      "metadata": {
        "id": "mS_c_WvFpEOh"
      }
    },
    {
      "cell_type": "code",
      "source": [
        "# инициализируем переменные и массивы\n",
        "width = 4\n",
        "height = 3\n",
        "num_channels = 3\n",
        "arr_channels = np.array([0.299, 0.587, 0.114])\n",
        "arr_image = np.random.rand(width, height, num_channels)\n",
        "\n",
        "\n",
        "print(\"Изначальное изображение: \")\n",
        "print(arr_image)\n",
        "\n",
        "\n",
        "# преобразую цветное изображение в серые оттенки\n",
        "for channel in arr_channels: \n",
        "  arr_image *= channel\n",
        "\n",
        "\n",
        "print()\n",
        "print(\"Серое изображение:\")\n",
        "print(arr_image)"
      ],
      "metadata": {
        "id": "Ni3BnmelpEyT",
        "colab": {
          "base_uri": "https://localhost:8080/"
        },
        "outputId": "d606daf2-3e54-42fb-8fb9-88e532f4874b"
      },
      "execution_count": null,
      "outputs": [
        {
          "output_type": "stream",
          "name": "stdout",
          "text": [
            "Изначальное изображение: \n",
            "[[[0.27817391 0.20335881 0.04486701]\n",
            "  [0.85779575 0.85362183 0.40749142]\n",
            "  [0.9795918  0.85575116 0.11517586]]\n",
            "\n",
            " [[0.81416889 0.78643151 0.85011634]\n",
            "  [0.59863759 0.08900992 0.91923116]\n",
            "  [0.09890803 0.17569731 0.74144196]]\n",
            "\n",
            " [[0.14408199 0.04209116 0.16149956]\n",
            "  [0.29844461 0.10535719 0.32035243]\n",
            "  [0.76065139 0.47932673 0.53969439]]\n",
            "\n",
            " [[0.79676305 0.33200734 0.91517872]\n",
            "  [0.38540275 0.50624007 0.99283246]\n",
            "  [0.81470793 0.0387824  0.85080928]]]\n",
            "\n",
            "Серое изображение:\n",
            "[[[0.00556584 0.0040689  0.00089772]\n",
            "  [0.01716319 0.01707968 0.00815328]\n",
            "  [0.01960014 0.01712228 0.00230449]]\n",
            "\n",
            " [[0.01629028 0.0157353  0.01700954]\n",
            "  [0.01197783 0.00178095 0.01839242]\n",
            "  [0.001979   0.00351544 0.01483513]]\n",
            "\n",
            " [[0.00288286 0.00084218 0.00323136]\n",
            "  [0.00597142 0.00210804 0.00640977]\n",
            "  [0.01521948 0.0095906  0.01079847]]\n",
            "\n",
            " [[0.01594202 0.00664296 0.01831134]\n",
            "  [0.00771132 0.0101291  0.01986507]\n",
            "  [0.01630107 0.00077598 0.0170234 ]]]\n"
          ]
        }
      ]
    }
  ]
}