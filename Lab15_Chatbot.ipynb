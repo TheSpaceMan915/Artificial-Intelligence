{
  "nbformat": 4,
  "nbformat_minor": 0,
  "metadata": {
    "colab": {
      "provenance": [],
      "mount_file_id": "1Jvn8DS7e0oE-sLFlk3QP8y_Md8-89DDk",
      "authorship_tag": "ABX9TyOxnbreXgtIgwveR72VQTGU",
      "include_colab_link": true
    },
    "kernelspec": {
      "name": "python3",
      "display_name": "Python 3"
    },
    "language_info": {
      "name": "python"
    },
    "gpuClass": "standard"
  },
  "cells": [
    {
      "cell_type": "markdown",
      "metadata": {
        "id": "view-in-github",
        "colab_type": "text"
      },
      "source": [
        "<a href=\"https://colab.research.google.com/github/TheSpaceMan915/Artificial-Intelligence/blob/main/Lab15_Chatbot.ipynb\" target=\"_parent\"><img src=\"https://colab.research.google.com/assets/colab-badge.svg\" alt=\"Open In Colab\"/></a>"
      ]
    },
    {
      "cell_type": "markdown",
      "source": [
        "**Лабораторная работа №15  Колычев Никита  ВПР34**"
      ],
      "metadata": {
        "id": "DJ-1o8vx23JN"
      }
    },
    {
      "cell_type": "markdown",
      "source": [
        "# **Imports**"
      ],
      "metadata": {
        "id": "QKsPrp_OT4qN"
      }
    },
    {
      "cell_type": "code",
      "execution_count": null,
      "metadata": {
        "id": "WfsOnTgCaeXV"
      },
      "outputs": [],
      "source": [
        "import matplotlib.pyplot as plt\n",
        "import numpy as np\n",
        "import nltk\n",
        "import json\n",
        "import string\n",
        "import random\n",
        "from random import shuffle\n",
        "from pathlib import Path\n",
        "from nltk import word_tokenize\n",
        "from nltk.stem import WordNetLemmatizer\n",
        "from sklearn.model_selection import train_test_split\n",
        "from tensorflow.keras.saving import load_model\n",
        "from tensorflow.keras.models import Model\n",
        "from tensorflow.keras.layers import Dense, Dropout, \\\n",
        "BatchNormalization, Input, ReLU, Softmax"
      ]
    },
    {
      "cell_type": "code",
      "source": [
        "nltk.download('punkt')\n",
        "nltk.download(\"stopwords\")\n",
        "nltk.download('wordnet')"
      ],
      "metadata": {
        "colab": {
          "base_uri": "https://localhost:8080/"
        },
        "id": "3gjndptDUKx_",
        "outputId": "1cc325a6-bc82-4b8e-f322-9778a0119a43"
      },
      "execution_count": null,
      "outputs": [
        {
          "output_type": "stream",
          "name": "stderr",
          "text": [
            "[nltk_data] Downloading package punkt to /root/nltk_data...\n",
            "[nltk_data]   Unzipping tokenizers/punkt.zip.\n",
            "[nltk_data] Downloading package stopwords to /root/nltk_data...\n",
            "[nltk_data]   Unzipping corpora/stopwords.zip.\n",
            "[nltk_data] Downloading package wordnet to /root/nltk_data...\n"
          ]
        },
        {
          "output_type": "execute_result",
          "data": {
            "text/plain": [
              "True"
            ]
          },
          "metadata": {},
          "execution_count": 2
        }
      ]
    },
    {
      "cell_type": "markdown",
      "metadata": {
        "id": "tSSsiYspcgfx"
      },
      "source": [
        "# **Text Functions**"
      ]
    },
    {
      "cell_type": "code",
      "source": [
        "# removing punctuation marks from a string\n",
        "def remove_punctuation(text):\n",
        "  table = str.maketrans('', '', string.punctuation)\n",
        "  cleared_text = text.translate(table)\n",
        "  return cleared_text"
      ],
      "metadata": {
        "id": "NBy9Rr71ky_r"
      },
      "execution_count": null,
      "outputs": []
    },
    {
      "cell_type": "code",
      "execution_count": null,
      "metadata": {
        "id": "Q_XGnKXSdvo0"
      },
      "outputs": [],
      "source": [
        "def create_list_tokens(text):\n",
        "  list_tokens = word_tokenize(text, language=\"russian\")\n",
        "  return list_tokens"
      ]
    },
    {
      "cell_type": "code",
      "source": [
        "def convert_tokes_to_lowercase(list_tokens):\n",
        "  list_lowercase_tokes = [token.lower() for token in list_tokens]\n",
        "  return list_lowercase_tokes"
      ],
      "metadata": {
        "id": "M4-PbzPYLSWv"
      },
      "execution_count": null,
      "outputs": []
    },
    {
      "cell_type": "code",
      "source": [
        "def remove_stopwords(list_tokens):\n",
        "  list_stopwords = nltk.corpus.stopwords.words(\"russian\")\n",
        "  cleared_list_tokens = [token for token in list_tokens if token not in list_stopwords]\n",
        "  return cleared_list_tokens"
      ],
      "metadata": {
        "id": "vhgaADqP6kXV"
      },
      "execution_count": null,
      "outputs": []
    },
    {
      "cell_type": "code",
      "source": [
        "def remove_nonalphabetic_words(list_tokens):\n",
        "  cleared_list_tokens = [token for token in list_tokens if token.isalpha()]\n",
        "  return cleared_list_tokens"
      ],
      "metadata": {
        "id": "r4TgchIbXqV7"
      },
      "execution_count": null,
      "outputs": []
    },
    {
      "cell_type": "code",
      "source": [
        "def create_list_lemmas(list_tokens):\n",
        "  lemmatizer = WordNetLemmatizer()\n",
        "  list_lemmas = [lemmatizer.lemmatize(token) for token in list_tokens]\n",
        "  return list_lemmas"
      ],
      "metadata": {
        "id": "qy7pX0MHXFTv"
      },
      "execution_count": null,
      "outputs": []
    },
    {
      "cell_type": "code",
      "source": [
        "def clear_text(text):\n",
        "  cleared_text = remove_punctuation(text)\n",
        "  list_tokens = create_list_tokens(cleared_text)\n",
        "  cleared_list_tokens = remove_nonalphabetic_words(list_tokens)\n",
        "  cleared_list_tokens = remove_stopwords(cleared_list_tokens)\n",
        "  list_lowercase_tokens = convert_tokes_to_lowercase(cleared_list_tokens)\n",
        "  list_lemmas = create_list_lemmas(list_lowercase_tokens)\n",
        "  return list_lemmas"
      ],
      "metadata": {
        "id": "r_EFcMmo-FFV"
      },
      "execution_count": null,
      "outputs": []
    },
    {
      "cell_type": "markdown",
      "source": [
        "# **Model Functions**"
      ],
      "metadata": {
        "id": "vSAnxav5eZR8"
      }
    },
    {
      "cell_type": "code",
      "source": [
        "def create_model(input_layer_shape, NUMBER_CLASSES):\n",
        "  inputs = Input(input_layer_shape)\n",
        "  x = Dense(128, kernel_initializer=\"he_uniform\")(inputs)\n",
        "  x = BatchNormalization()(x)\n",
        "  x = ReLU()(x)\n",
        "  x = Dropout(0.2)(x)\n",
        "\n",
        "  x = Dense(64, kernel_initializer=\"he_uniform\")(x)\n",
        "  x = BatchNormalization()(x)\n",
        "  x = ReLU()(x)\n",
        "  x = Dropout(0.2)(x)\n",
        "\n",
        "  x = Dense(NUMBER_CLASSES, kernel_initializer=\"he_uniform\")(x)\n",
        "  outputs = Softmax()(x)\n",
        "\n",
        "  model = Model(inputs, outputs)\n",
        "  model.compile(optimizer=\"adam\", loss=\"categorical_crossentropy\", metrics=[\"accuracy\"])\n",
        "  return model"
      ],
      "metadata": {
        "id": "fEJbSF4meTXb"
      },
      "execution_count": null,
      "outputs": []
    },
    {
      "cell_type": "markdown",
      "source": [
        "# **Plotting Functions**"
      ],
      "metadata": {
        "id": "f5CG04UusJwh"
      }
    },
    {
      "cell_type": "code",
      "source": [
        "def plot_model_history(model_history):\n",
        "    fig, (axes1, axes2) = plt.subplots(1, 2, figsize=(14, 5))\n",
        "    plt.rcParams.update({\"font.size\": 14, \"font.family\": \"serif\"})\n",
        "\n",
        "    axes1.plot(model_history.history[\"accuracy\"], label=\"accuracy\")\n",
        "    axes1.plot(model_history.history[\"val_accuracy\"], label=\"val_accuracy\")\n",
        "    axes1.set(title=\"Accuracy of the model\")\n",
        "    axes1.set(xlabel=\"Epoch\")\n",
        "    axes1.set(ylabel=\"Accuracy\")\n",
        "    axes1.legend(loc=4)\n",
        "\n",
        "    axes2.plot(model_history.history[\"loss\"], label=\"loss\")\n",
        "    axes2.plot(model_history.history[\"val_loss\"], label=\"val_loss\")\n",
        "    axes2.set(title=\"Losses of the model\")\n",
        "    axes2.set(xlabel=\"Epoch\")\n",
        "    axes2.set(ylabel=\"Loss\")\n",
        "    axes2.legend(loc=1)\n",
        "\n",
        "    fig.tight_layout()\n",
        "    plt.savefig(\"plot_model_history{}\".format(random.randint(0, 10000)))"
      ],
      "metadata": {
        "id": "Wc68G15BsJLu"
      },
      "execution_count": null,
      "outputs": []
    },
    {
      "cell_type": "markdown",
      "source": [
        "# **User Input Functions**"
      ],
      "metadata": {
        "id": "Bf2S3w2NN020"
      }
    },
    {
      "cell_type": "code",
      "source": [
        "def create_list_tags(json_file):\n",
        "  list_tags = []\n",
        "  for intent in json_file[\"intents\"]:\n",
        "      list_tags.append(intent[\"tag\"])  \n",
        "  return list_tags        "
      ],
      "metadata": {
        "id": "Dp1jRuALQM4Y"
      },
      "execution_count": null,
      "outputs": []
    },
    {
      "cell_type": "code",
      "source": [
        "def create_bag_words(text, list_vocabulary_words, show_details=False):\n",
        "  cleared_list_tokens = clear_text(text)\n",
        "\n",
        "  # creating a bag of words for the user's input\n",
        "  list_length = len(list_vocabulary_words)\n",
        "  bag_words = [0] * list_length\n",
        "  for s in cleared_list_tokens:\n",
        "      for i, w in enumerate(list_vocabulary_words):\n",
        "          if w == s:\n",
        "              bag_words[i] = 1\n",
        "              if show_details:\n",
        "                  print(\"Found in bag: %s\"% w)\n",
        "  \n",
        "  # reshaping the 1d array to 2d array in order to pass it to the model\n",
        "  arr_bag_words = np.array(bag_words)\n",
        "  arr_bag_words = np.reshape(arr_bag_words, (-1, list_length))\n",
        "  return arr_bag_words"
      ],
      "metadata": {
        "id": "TNlZPywJNzS0"
      },
      "execution_count": null,
      "outputs": []
    },
    {
      "cell_type": "code",
      "source": [
        "def classify(text, list_vocabulary_words, list_tags):\n",
        "  ERROR_THRESHOLD = 0.25\n",
        "  bag_words = create_bag_words(text, list_vocabulary_words)\n",
        "  print(\"bag_words for the text:\", bag_words)\n",
        "  arr_predictions = model.predict(bag_words)[0]\n",
        "\n",
        "  # filtering the predictions\n",
        "  arr_predictions  = [[i, prediction] for i, prediction in enumerate(arr_predictions) if prediction > ERROR_THRESHOLD]\n",
        "\n",
        "  # sorting the predictions according to their probability\n",
        "  arr_predictions .sort(key=lambda x: x[1], reverse=True)\n",
        "\n",
        "  # getting the list of labels and predictions\n",
        "  list_labels = []\n",
        "  for prediction in arr_predictions:\n",
        "      list_labels.append((list_tags[prediction[0]], prediction[1]))\n",
        "  return list_labels"
      ],
      "metadata": {
        "id": "ZO3fbXgw861c"
      },
      "execution_count": null,
      "outputs": []
    },
    {
      "cell_type": "code",
      "source": [
        "def query(text, list_vocabulary_words, list_tags, intents, userID=\"123\", show_details=False):\n",
        "  dict_context = {}\n",
        "  list_results = classify(text, list_vocabulary_words, list_tags)\n",
        "\n",
        "  if list_results:\n",
        "      while list_results:\n",
        "          for intent in intents[\"intents\"]:    \n",
        "              # finding the tag for the first result\n",
        "              if intent[\"tag\"] == list_results[0][0]:\n",
        "                  \n",
        "                  # setting the context for this intent\n",
        "                  if \"context_set\" in intent:\n",
        "                      dict_context[userID] = intent[\"context_set\"]\n",
        "\n",
        "                  # checking if the context is relevant to the user\n",
        "                  if not \"context_filter\" in intent or \\\n",
        "                      (userID in dict_context and \"context_filter\" in intent and intent[\"context_filter\"] == dict_context[userID]):\n",
        "                      if show_details: \n",
        "                        print (\"tag:\", intent[\"tag\"]) \n",
        "                      \n",
        "                      # getting a random respons\n",
        "                      return print(random.choice(intent[\"responses\"]))\n",
        "          list_results.pop(0)"
      ],
      "metadata": {
        "id": "mAyXia7wAhvP"
      },
      "execution_count": null,
      "outputs": []
    },
    {
      "cell_type": "markdown",
      "source": [
        "# **Задание 1**\n",
        "Разработать чат бота"
      ],
      "metadata": {
        "id": "LdnjHllG5G05"
      }
    },
    {
      "cell_type": "code",
      "source": [
        "# loading the data from the json file\n",
        "path = Path(\"/content/drive/MyDrive/Colab Notebooks/AI/Other files/my_intents.json\")\n",
        "with open(path) as f:\n",
        "  my_intents = json.load(f)"
      ],
      "metadata": {
        "id": "nGSde5o65Uzc"
      },
      "execution_count": null,
      "outputs": []
    },
    {
      "cell_type": "code",
      "source": [
        "list_vocabulary_words = []\n",
        "list_documents = []\n",
        "list_tags = create_list_tags(my_intents)\n",
        "\n",
        "# clearing the text\n",
        "for intent in my_intents[\"intents\"]:\n",
        "  for pattern in intent[\"patterns\"]:\n",
        "    cleared_list_tokens = clear_text(pattern)\n",
        "    list_vocabulary_words.extend(cleared_list_tokens)\n",
        "\n",
        "    # saving a pattern as a document\n",
        "    list_documents.append((cleared_list_tokens, intent[\"tag\"]))"
      ],
      "metadata": {
        "id": "yGXikqCGNixB"
      },
      "execution_count": null,
      "outputs": []
    },
    {
      "cell_type": "code",
      "source": [
        "print(\"number of words:\", len(list_vocabulary_words))\n",
        "print(\"words:\")\n",
        "print(list_vocabulary_words)\n",
        "print()\n",
        "\n",
        "print(\"number of  documents:\", len(list_documents))\n",
        "print(\"documents:\")\n",
        "print(list_documents)\n",
        "print()\n",
        "\n",
        "print(\"number of tags:\", len(list_tags))\n",
        "print(\"tags:\")\n",
        "print(list_tags)\n",
        "print()"
      ],
      "metadata": {
        "colab": {
          "base_uri": "https://localhost:8080/"
        },
        "id": "NqgE7_rDTD98",
        "outputId": "e98a4dbe-d30d-4f84-ae3e-3aa4032eeff2"
      },
      "execution_count": null,
      "outputs": [
        {
          "output_type": "stream",
          "name": "stdout",
          "text": [
            "number of words: 42\n",
            "words:\n",
            "['привет', 'как', 'дела', 'ктонибудь', 'привет', 'добрый', 'день', 'пока', 'увидимся', 'позже', 'до', 'свидания', 'спасибо', 'спасибо', 'это', 'полезно', 'как', 'просмотреть', 'данные', 'своём', 'прогрессе', 'где', 'могу', 'узнать', 'количество', 'оставшихся', 'уроков', 'как', 'узнать', 'ежедневную', 'активность', 'сайте', 'где', 'могу', 'найти', 'уроки', 'где', 'находятся', 'уроки', 'как', 'просмотреть', 'уроки']\n",
            "\n",
            "number of  documents: 17\n",
            "documents:\n",
            "[(['привет'], 'приветствие'), (['как', 'дела'], 'приветствие'), (['ктонибудь'], 'приветствие'), (['привет'], 'приветствие'), (['добрый', 'день'], 'приветствие'), (['пока'], 'до свидания'), (['увидимся', 'позже'], 'до свидания'), (['до', 'свидания'], 'до свидания'), (['спасибо'], 'спасибо'), (['спасибо'], 'спасибо'), (['это', 'полезно'], 'спасибо'), (['как', 'просмотреть', 'данные', 'своём', 'прогрессе'], 'личный кабинет'), (['где', 'могу', 'узнать', 'количество', 'оставшихся', 'уроков'], 'личный кабинет'), (['как', 'узнать', 'ежедневную', 'активность', 'сайте'], 'личный кабинет'), (['где', 'могу', 'найти', 'уроки'], 'уроки'), (['где', 'находятся', 'уроки'], 'уроки'), (['как', 'просмотреть', 'уроки'], 'уроки')]\n",
            "\n",
            "number of tags: 5\n",
            "tags:\n",
            "['приветствие', 'до свидания', 'спасибо', 'личный кабинет', 'уроки']\n",
            "\n"
          ]
        }
      ]
    },
    {
      "cell_type": "code",
      "source": [
        "# deleting duplicates\n",
        "cleared_list_vocabulary_words = sorted(list(set(list_vocabulary_words)))\n",
        "print(\"number of words:\", len(cleared_list_vocabulary_words))\n",
        "print(cleared_list_vocabulary_words)"
      ],
      "metadata": {
        "id": "UA_Uah40kZ5I",
        "colab": {
          "base_uri": "https://localhost:8080/"
        },
        "outputId": "6db1f42f-1ca0-48ff-ee23-906231b3902b"
      },
      "execution_count": null,
      "outputs": [
        {
          "output_type": "stream",
          "name": "stdout",
          "text": [
            "number of words: 30\n",
            "['активность', 'где', 'данные', 'дела', 'день', 'до', 'добрый', 'ежедневную', 'как', 'количество', 'ктонибудь', 'могу', 'найти', 'находятся', 'оставшихся', 'позже', 'пока', 'полезно', 'привет', 'прогрессе', 'просмотреть', 'сайте', 'свидания', 'своём', 'спасибо', 'увидимся', 'узнать', 'уроки', 'уроков', 'это']\n"
          ]
        }
      ]
    },
    {
      "cell_type": "code",
      "source": [
        "# creating data to train the model\n",
        "list_training = []\n",
        "\n",
        "# creating a list to store outputs\n",
        "list_empty_outputs = [0] * len(list_tags)\n",
        "for document in list_documents:\n",
        "  bag_words = []\n",
        "\n",
        "  # saving the patterns from the tuples ([patters], tag)\n",
        "  list_patterns = document[0]\n",
        "  \n",
        "  # filling the bag of words\n",
        "  for word in cleared_list_vocabulary_words:\n",
        "    bag_words.append(1) if word in list_patterns else bag_words.append(0)\n",
        "\n",
        "  # marking the tag of a document as 1\n",
        "  list_output = list_empty_outputs.copy()\n",
        "  list_output[list_tags.index(document[1])] = 1\n",
        "  list_training.append([bag_words, list_output])\n",
        "  print(list_training)"
      ],
      "metadata": {
        "colab": {
          "base_uri": "https://localhost:8080/"
        },
        "id": "Ev9t4BBiKGUX",
        "outputId": "fad62a9f-2baa-4f0f-a826-298bc6c2e4ed"
      },
      "execution_count": null,
      "outputs": [
        {
          "output_type": "stream",
          "name": "stdout",
          "text": [
            "[[[0, 0, 0, 0, 0, 0, 0, 0, 0, 0, 0, 0, 0, 0, 0, 0, 0, 0, 1, 0, 0, 0, 0, 0, 0, 0, 0, 0, 0, 0], [1, 0, 0, 0, 0]]]\n",
            "[[[0, 0, 0, 0, 0, 0, 0, 0, 0, 0, 0, 0, 0, 0, 0, 0, 0, 0, 1, 0, 0, 0, 0, 0, 0, 0, 0, 0, 0, 0], [1, 0, 0, 0, 0]], [[0, 0, 0, 1, 0, 0, 0, 0, 1, 0, 0, 0, 0, 0, 0, 0, 0, 0, 0, 0, 0, 0, 0, 0, 0, 0, 0, 0, 0, 0], [1, 0, 0, 0, 0]]]\n",
            "[[[0, 0, 0, 0, 0, 0, 0, 0, 0, 0, 0, 0, 0, 0, 0, 0, 0, 0, 1, 0, 0, 0, 0, 0, 0, 0, 0, 0, 0, 0], [1, 0, 0, 0, 0]], [[0, 0, 0, 1, 0, 0, 0, 0, 1, 0, 0, 0, 0, 0, 0, 0, 0, 0, 0, 0, 0, 0, 0, 0, 0, 0, 0, 0, 0, 0], [1, 0, 0, 0, 0]], [[0, 0, 0, 0, 0, 0, 0, 0, 0, 0, 1, 0, 0, 0, 0, 0, 0, 0, 0, 0, 0, 0, 0, 0, 0, 0, 0, 0, 0, 0], [1, 0, 0, 0, 0]]]\n",
            "[[[0, 0, 0, 0, 0, 0, 0, 0, 0, 0, 0, 0, 0, 0, 0, 0, 0, 0, 1, 0, 0, 0, 0, 0, 0, 0, 0, 0, 0, 0], [1, 0, 0, 0, 0]], [[0, 0, 0, 1, 0, 0, 0, 0, 1, 0, 0, 0, 0, 0, 0, 0, 0, 0, 0, 0, 0, 0, 0, 0, 0, 0, 0, 0, 0, 0], [1, 0, 0, 0, 0]], [[0, 0, 0, 0, 0, 0, 0, 0, 0, 0, 1, 0, 0, 0, 0, 0, 0, 0, 0, 0, 0, 0, 0, 0, 0, 0, 0, 0, 0, 0], [1, 0, 0, 0, 0]], [[0, 0, 0, 0, 0, 0, 0, 0, 0, 0, 0, 0, 0, 0, 0, 0, 0, 0, 1, 0, 0, 0, 0, 0, 0, 0, 0, 0, 0, 0], [1, 0, 0, 0, 0]]]\n",
            "[[[0, 0, 0, 0, 0, 0, 0, 0, 0, 0, 0, 0, 0, 0, 0, 0, 0, 0, 1, 0, 0, 0, 0, 0, 0, 0, 0, 0, 0, 0], [1, 0, 0, 0, 0]], [[0, 0, 0, 1, 0, 0, 0, 0, 1, 0, 0, 0, 0, 0, 0, 0, 0, 0, 0, 0, 0, 0, 0, 0, 0, 0, 0, 0, 0, 0], [1, 0, 0, 0, 0]], [[0, 0, 0, 0, 0, 0, 0, 0, 0, 0, 1, 0, 0, 0, 0, 0, 0, 0, 0, 0, 0, 0, 0, 0, 0, 0, 0, 0, 0, 0], [1, 0, 0, 0, 0]], [[0, 0, 0, 0, 0, 0, 0, 0, 0, 0, 0, 0, 0, 0, 0, 0, 0, 0, 1, 0, 0, 0, 0, 0, 0, 0, 0, 0, 0, 0], [1, 0, 0, 0, 0]], [[0, 0, 0, 0, 1, 0, 1, 0, 0, 0, 0, 0, 0, 0, 0, 0, 0, 0, 0, 0, 0, 0, 0, 0, 0, 0, 0, 0, 0, 0], [1, 0, 0, 0, 0]]]\n",
            "[[[0, 0, 0, 0, 0, 0, 0, 0, 0, 0, 0, 0, 0, 0, 0, 0, 0, 0, 1, 0, 0, 0, 0, 0, 0, 0, 0, 0, 0, 0], [1, 0, 0, 0, 0]], [[0, 0, 0, 1, 0, 0, 0, 0, 1, 0, 0, 0, 0, 0, 0, 0, 0, 0, 0, 0, 0, 0, 0, 0, 0, 0, 0, 0, 0, 0], [1, 0, 0, 0, 0]], [[0, 0, 0, 0, 0, 0, 0, 0, 0, 0, 1, 0, 0, 0, 0, 0, 0, 0, 0, 0, 0, 0, 0, 0, 0, 0, 0, 0, 0, 0], [1, 0, 0, 0, 0]], [[0, 0, 0, 0, 0, 0, 0, 0, 0, 0, 0, 0, 0, 0, 0, 0, 0, 0, 1, 0, 0, 0, 0, 0, 0, 0, 0, 0, 0, 0], [1, 0, 0, 0, 0]], [[0, 0, 0, 0, 1, 0, 1, 0, 0, 0, 0, 0, 0, 0, 0, 0, 0, 0, 0, 0, 0, 0, 0, 0, 0, 0, 0, 0, 0, 0], [1, 0, 0, 0, 0]], [[0, 0, 0, 0, 0, 0, 0, 0, 0, 0, 0, 0, 0, 0, 0, 0, 1, 0, 0, 0, 0, 0, 0, 0, 0, 0, 0, 0, 0, 0], [0, 1, 0, 0, 0]]]\n",
            "[[[0, 0, 0, 0, 0, 0, 0, 0, 0, 0, 0, 0, 0, 0, 0, 0, 0, 0, 1, 0, 0, 0, 0, 0, 0, 0, 0, 0, 0, 0], [1, 0, 0, 0, 0]], [[0, 0, 0, 1, 0, 0, 0, 0, 1, 0, 0, 0, 0, 0, 0, 0, 0, 0, 0, 0, 0, 0, 0, 0, 0, 0, 0, 0, 0, 0], [1, 0, 0, 0, 0]], [[0, 0, 0, 0, 0, 0, 0, 0, 0, 0, 1, 0, 0, 0, 0, 0, 0, 0, 0, 0, 0, 0, 0, 0, 0, 0, 0, 0, 0, 0], [1, 0, 0, 0, 0]], [[0, 0, 0, 0, 0, 0, 0, 0, 0, 0, 0, 0, 0, 0, 0, 0, 0, 0, 1, 0, 0, 0, 0, 0, 0, 0, 0, 0, 0, 0], [1, 0, 0, 0, 0]], [[0, 0, 0, 0, 1, 0, 1, 0, 0, 0, 0, 0, 0, 0, 0, 0, 0, 0, 0, 0, 0, 0, 0, 0, 0, 0, 0, 0, 0, 0], [1, 0, 0, 0, 0]], [[0, 0, 0, 0, 0, 0, 0, 0, 0, 0, 0, 0, 0, 0, 0, 0, 1, 0, 0, 0, 0, 0, 0, 0, 0, 0, 0, 0, 0, 0], [0, 1, 0, 0, 0]], [[0, 0, 0, 0, 0, 0, 0, 0, 0, 0, 0, 0, 0, 0, 0, 1, 0, 0, 0, 0, 0, 0, 0, 0, 0, 1, 0, 0, 0, 0], [0, 1, 0, 0, 0]]]\n",
            "[[[0, 0, 0, 0, 0, 0, 0, 0, 0, 0, 0, 0, 0, 0, 0, 0, 0, 0, 1, 0, 0, 0, 0, 0, 0, 0, 0, 0, 0, 0], [1, 0, 0, 0, 0]], [[0, 0, 0, 1, 0, 0, 0, 0, 1, 0, 0, 0, 0, 0, 0, 0, 0, 0, 0, 0, 0, 0, 0, 0, 0, 0, 0, 0, 0, 0], [1, 0, 0, 0, 0]], [[0, 0, 0, 0, 0, 0, 0, 0, 0, 0, 1, 0, 0, 0, 0, 0, 0, 0, 0, 0, 0, 0, 0, 0, 0, 0, 0, 0, 0, 0], [1, 0, 0, 0, 0]], [[0, 0, 0, 0, 0, 0, 0, 0, 0, 0, 0, 0, 0, 0, 0, 0, 0, 0, 1, 0, 0, 0, 0, 0, 0, 0, 0, 0, 0, 0], [1, 0, 0, 0, 0]], [[0, 0, 0, 0, 1, 0, 1, 0, 0, 0, 0, 0, 0, 0, 0, 0, 0, 0, 0, 0, 0, 0, 0, 0, 0, 0, 0, 0, 0, 0], [1, 0, 0, 0, 0]], [[0, 0, 0, 0, 0, 0, 0, 0, 0, 0, 0, 0, 0, 0, 0, 0, 1, 0, 0, 0, 0, 0, 0, 0, 0, 0, 0, 0, 0, 0], [0, 1, 0, 0, 0]], [[0, 0, 0, 0, 0, 0, 0, 0, 0, 0, 0, 0, 0, 0, 0, 1, 0, 0, 0, 0, 0, 0, 0, 0, 0, 1, 0, 0, 0, 0], [0, 1, 0, 0, 0]], [[0, 0, 0, 0, 0, 1, 0, 0, 0, 0, 0, 0, 0, 0, 0, 0, 0, 0, 0, 0, 0, 0, 1, 0, 0, 0, 0, 0, 0, 0], [0, 1, 0, 0, 0]]]\n",
            "[[[0, 0, 0, 0, 0, 0, 0, 0, 0, 0, 0, 0, 0, 0, 0, 0, 0, 0, 1, 0, 0, 0, 0, 0, 0, 0, 0, 0, 0, 0], [1, 0, 0, 0, 0]], [[0, 0, 0, 1, 0, 0, 0, 0, 1, 0, 0, 0, 0, 0, 0, 0, 0, 0, 0, 0, 0, 0, 0, 0, 0, 0, 0, 0, 0, 0], [1, 0, 0, 0, 0]], [[0, 0, 0, 0, 0, 0, 0, 0, 0, 0, 1, 0, 0, 0, 0, 0, 0, 0, 0, 0, 0, 0, 0, 0, 0, 0, 0, 0, 0, 0], [1, 0, 0, 0, 0]], [[0, 0, 0, 0, 0, 0, 0, 0, 0, 0, 0, 0, 0, 0, 0, 0, 0, 0, 1, 0, 0, 0, 0, 0, 0, 0, 0, 0, 0, 0], [1, 0, 0, 0, 0]], [[0, 0, 0, 0, 1, 0, 1, 0, 0, 0, 0, 0, 0, 0, 0, 0, 0, 0, 0, 0, 0, 0, 0, 0, 0, 0, 0, 0, 0, 0], [1, 0, 0, 0, 0]], [[0, 0, 0, 0, 0, 0, 0, 0, 0, 0, 0, 0, 0, 0, 0, 0, 1, 0, 0, 0, 0, 0, 0, 0, 0, 0, 0, 0, 0, 0], [0, 1, 0, 0, 0]], [[0, 0, 0, 0, 0, 0, 0, 0, 0, 0, 0, 0, 0, 0, 0, 1, 0, 0, 0, 0, 0, 0, 0, 0, 0, 1, 0, 0, 0, 0], [0, 1, 0, 0, 0]], [[0, 0, 0, 0, 0, 1, 0, 0, 0, 0, 0, 0, 0, 0, 0, 0, 0, 0, 0, 0, 0, 0, 1, 0, 0, 0, 0, 0, 0, 0], [0, 1, 0, 0, 0]], [[0, 0, 0, 0, 0, 0, 0, 0, 0, 0, 0, 0, 0, 0, 0, 0, 0, 0, 0, 0, 0, 0, 0, 0, 1, 0, 0, 0, 0, 0], [0, 0, 1, 0, 0]]]\n",
            "[[[0, 0, 0, 0, 0, 0, 0, 0, 0, 0, 0, 0, 0, 0, 0, 0, 0, 0, 1, 0, 0, 0, 0, 0, 0, 0, 0, 0, 0, 0], [1, 0, 0, 0, 0]], [[0, 0, 0, 1, 0, 0, 0, 0, 1, 0, 0, 0, 0, 0, 0, 0, 0, 0, 0, 0, 0, 0, 0, 0, 0, 0, 0, 0, 0, 0], [1, 0, 0, 0, 0]], [[0, 0, 0, 0, 0, 0, 0, 0, 0, 0, 1, 0, 0, 0, 0, 0, 0, 0, 0, 0, 0, 0, 0, 0, 0, 0, 0, 0, 0, 0], [1, 0, 0, 0, 0]], [[0, 0, 0, 0, 0, 0, 0, 0, 0, 0, 0, 0, 0, 0, 0, 0, 0, 0, 1, 0, 0, 0, 0, 0, 0, 0, 0, 0, 0, 0], [1, 0, 0, 0, 0]], [[0, 0, 0, 0, 1, 0, 1, 0, 0, 0, 0, 0, 0, 0, 0, 0, 0, 0, 0, 0, 0, 0, 0, 0, 0, 0, 0, 0, 0, 0], [1, 0, 0, 0, 0]], [[0, 0, 0, 0, 0, 0, 0, 0, 0, 0, 0, 0, 0, 0, 0, 0, 1, 0, 0, 0, 0, 0, 0, 0, 0, 0, 0, 0, 0, 0], [0, 1, 0, 0, 0]], [[0, 0, 0, 0, 0, 0, 0, 0, 0, 0, 0, 0, 0, 0, 0, 1, 0, 0, 0, 0, 0, 0, 0, 0, 0, 1, 0, 0, 0, 0], [0, 1, 0, 0, 0]], [[0, 0, 0, 0, 0, 1, 0, 0, 0, 0, 0, 0, 0, 0, 0, 0, 0, 0, 0, 0, 0, 0, 1, 0, 0, 0, 0, 0, 0, 0], [0, 1, 0, 0, 0]], [[0, 0, 0, 0, 0, 0, 0, 0, 0, 0, 0, 0, 0, 0, 0, 0, 0, 0, 0, 0, 0, 0, 0, 0, 1, 0, 0, 0, 0, 0], [0, 0, 1, 0, 0]], [[0, 0, 0, 0, 0, 0, 0, 0, 0, 0, 0, 0, 0, 0, 0, 0, 0, 0, 0, 0, 0, 0, 0, 0, 1, 0, 0, 0, 0, 0], [0, 0, 1, 0, 0]]]\n",
            "[[[0, 0, 0, 0, 0, 0, 0, 0, 0, 0, 0, 0, 0, 0, 0, 0, 0, 0, 1, 0, 0, 0, 0, 0, 0, 0, 0, 0, 0, 0], [1, 0, 0, 0, 0]], [[0, 0, 0, 1, 0, 0, 0, 0, 1, 0, 0, 0, 0, 0, 0, 0, 0, 0, 0, 0, 0, 0, 0, 0, 0, 0, 0, 0, 0, 0], [1, 0, 0, 0, 0]], [[0, 0, 0, 0, 0, 0, 0, 0, 0, 0, 1, 0, 0, 0, 0, 0, 0, 0, 0, 0, 0, 0, 0, 0, 0, 0, 0, 0, 0, 0], [1, 0, 0, 0, 0]], [[0, 0, 0, 0, 0, 0, 0, 0, 0, 0, 0, 0, 0, 0, 0, 0, 0, 0, 1, 0, 0, 0, 0, 0, 0, 0, 0, 0, 0, 0], [1, 0, 0, 0, 0]], [[0, 0, 0, 0, 1, 0, 1, 0, 0, 0, 0, 0, 0, 0, 0, 0, 0, 0, 0, 0, 0, 0, 0, 0, 0, 0, 0, 0, 0, 0], [1, 0, 0, 0, 0]], [[0, 0, 0, 0, 0, 0, 0, 0, 0, 0, 0, 0, 0, 0, 0, 0, 1, 0, 0, 0, 0, 0, 0, 0, 0, 0, 0, 0, 0, 0], [0, 1, 0, 0, 0]], [[0, 0, 0, 0, 0, 0, 0, 0, 0, 0, 0, 0, 0, 0, 0, 1, 0, 0, 0, 0, 0, 0, 0, 0, 0, 1, 0, 0, 0, 0], [0, 1, 0, 0, 0]], [[0, 0, 0, 0, 0, 1, 0, 0, 0, 0, 0, 0, 0, 0, 0, 0, 0, 0, 0, 0, 0, 0, 1, 0, 0, 0, 0, 0, 0, 0], [0, 1, 0, 0, 0]], [[0, 0, 0, 0, 0, 0, 0, 0, 0, 0, 0, 0, 0, 0, 0, 0, 0, 0, 0, 0, 0, 0, 0, 0, 1, 0, 0, 0, 0, 0], [0, 0, 1, 0, 0]], [[0, 0, 0, 0, 0, 0, 0, 0, 0, 0, 0, 0, 0, 0, 0, 0, 0, 0, 0, 0, 0, 0, 0, 0, 1, 0, 0, 0, 0, 0], [0, 0, 1, 0, 0]], [[0, 0, 0, 0, 0, 0, 0, 0, 0, 0, 0, 0, 0, 0, 0, 0, 0, 1, 0, 0, 0, 0, 0, 0, 0, 0, 0, 0, 0, 1], [0, 0, 1, 0, 0]]]\n",
            "[[[0, 0, 0, 0, 0, 0, 0, 0, 0, 0, 0, 0, 0, 0, 0, 0, 0, 0, 1, 0, 0, 0, 0, 0, 0, 0, 0, 0, 0, 0], [1, 0, 0, 0, 0]], [[0, 0, 0, 1, 0, 0, 0, 0, 1, 0, 0, 0, 0, 0, 0, 0, 0, 0, 0, 0, 0, 0, 0, 0, 0, 0, 0, 0, 0, 0], [1, 0, 0, 0, 0]], [[0, 0, 0, 0, 0, 0, 0, 0, 0, 0, 1, 0, 0, 0, 0, 0, 0, 0, 0, 0, 0, 0, 0, 0, 0, 0, 0, 0, 0, 0], [1, 0, 0, 0, 0]], [[0, 0, 0, 0, 0, 0, 0, 0, 0, 0, 0, 0, 0, 0, 0, 0, 0, 0, 1, 0, 0, 0, 0, 0, 0, 0, 0, 0, 0, 0], [1, 0, 0, 0, 0]], [[0, 0, 0, 0, 1, 0, 1, 0, 0, 0, 0, 0, 0, 0, 0, 0, 0, 0, 0, 0, 0, 0, 0, 0, 0, 0, 0, 0, 0, 0], [1, 0, 0, 0, 0]], [[0, 0, 0, 0, 0, 0, 0, 0, 0, 0, 0, 0, 0, 0, 0, 0, 1, 0, 0, 0, 0, 0, 0, 0, 0, 0, 0, 0, 0, 0], [0, 1, 0, 0, 0]], [[0, 0, 0, 0, 0, 0, 0, 0, 0, 0, 0, 0, 0, 0, 0, 1, 0, 0, 0, 0, 0, 0, 0, 0, 0, 1, 0, 0, 0, 0], [0, 1, 0, 0, 0]], [[0, 0, 0, 0, 0, 1, 0, 0, 0, 0, 0, 0, 0, 0, 0, 0, 0, 0, 0, 0, 0, 0, 1, 0, 0, 0, 0, 0, 0, 0], [0, 1, 0, 0, 0]], [[0, 0, 0, 0, 0, 0, 0, 0, 0, 0, 0, 0, 0, 0, 0, 0, 0, 0, 0, 0, 0, 0, 0, 0, 1, 0, 0, 0, 0, 0], [0, 0, 1, 0, 0]], [[0, 0, 0, 0, 0, 0, 0, 0, 0, 0, 0, 0, 0, 0, 0, 0, 0, 0, 0, 0, 0, 0, 0, 0, 1, 0, 0, 0, 0, 0], [0, 0, 1, 0, 0]], [[0, 0, 0, 0, 0, 0, 0, 0, 0, 0, 0, 0, 0, 0, 0, 0, 0, 1, 0, 0, 0, 0, 0, 0, 0, 0, 0, 0, 0, 1], [0, 0, 1, 0, 0]], [[0, 0, 1, 0, 0, 0, 0, 0, 1, 0, 0, 0, 0, 0, 0, 0, 0, 0, 0, 1, 1, 0, 0, 1, 0, 0, 0, 0, 0, 0], [0, 0, 0, 1, 0]]]\n",
            "[[[0, 0, 0, 0, 0, 0, 0, 0, 0, 0, 0, 0, 0, 0, 0, 0, 0, 0, 1, 0, 0, 0, 0, 0, 0, 0, 0, 0, 0, 0], [1, 0, 0, 0, 0]], [[0, 0, 0, 1, 0, 0, 0, 0, 1, 0, 0, 0, 0, 0, 0, 0, 0, 0, 0, 0, 0, 0, 0, 0, 0, 0, 0, 0, 0, 0], [1, 0, 0, 0, 0]], [[0, 0, 0, 0, 0, 0, 0, 0, 0, 0, 1, 0, 0, 0, 0, 0, 0, 0, 0, 0, 0, 0, 0, 0, 0, 0, 0, 0, 0, 0], [1, 0, 0, 0, 0]], [[0, 0, 0, 0, 0, 0, 0, 0, 0, 0, 0, 0, 0, 0, 0, 0, 0, 0, 1, 0, 0, 0, 0, 0, 0, 0, 0, 0, 0, 0], [1, 0, 0, 0, 0]], [[0, 0, 0, 0, 1, 0, 1, 0, 0, 0, 0, 0, 0, 0, 0, 0, 0, 0, 0, 0, 0, 0, 0, 0, 0, 0, 0, 0, 0, 0], [1, 0, 0, 0, 0]], [[0, 0, 0, 0, 0, 0, 0, 0, 0, 0, 0, 0, 0, 0, 0, 0, 1, 0, 0, 0, 0, 0, 0, 0, 0, 0, 0, 0, 0, 0], [0, 1, 0, 0, 0]], [[0, 0, 0, 0, 0, 0, 0, 0, 0, 0, 0, 0, 0, 0, 0, 1, 0, 0, 0, 0, 0, 0, 0, 0, 0, 1, 0, 0, 0, 0], [0, 1, 0, 0, 0]], [[0, 0, 0, 0, 0, 1, 0, 0, 0, 0, 0, 0, 0, 0, 0, 0, 0, 0, 0, 0, 0, 0, 1, 0, 0, 0, 0, 0, 0, 0], [0, 1, 0, 0, 0]], [[0, 0, 0, 0, 0, 0, 0, 0, 0, 0, 0, 0, 0, 0, 0, 0, 0, 0, 0, 0, 0, 0, 0, 0, 1, 0, 0, 0, 0, 0], [0, 0, 1, 0, 0]], [[0, 0, 0, 0, 0, 0, 0, 0, 0, 0, 0, 0, 0, 0, 0, 0, 0, 0, 0, 0, 0, 0, 0, 0, 1, 0, 0, 0, 0, 0], [0, 0, 1, 0, 0]], [[0, 0, 0, 0, 0, 0, 0, 0, 0, 0, 0, 0, 0, 0, 0, 0, 0, 1, 0, 0, 0, 0, 0, 0, 0, 0, 0, 0, 0, 1], [0, 0, 1, 0, 0]], [[0, 0, 1, 0, 0, 0, 0, 0, 1, 0, 0, 0, 0, 0, 0, 0, 0, 0, 0, 1, 1, 0, 0, 1, 0, 0, 0, 0, 0, 0], [0, 0, 0, 1, 0]], [[0, 1, 0, 0, 0, 0, 0, 0, 0, 1, 0, 1, 0, 0, 1, 0, 0, 0, 0, 0, 0, 0, 0, 0, 0, 0, 1, 0, 1, 0], [0, 0, 0, 1, 0]]]\n",
            "[[[0, 0, 0, 0, 0, 0, 0, 0, 0, 0, 0, 0, 0, 0, 0, 0, 0, 0, 1, 0, 0, 0, 0, 0, 0, 0, 0, 0, 0, 0], [1, 0, 0, 0, 0]], [[0, 0, 0, 1, 0, 0, 0, 0, 1, 0, 0, 0, 0, 0, 0, 0, 0, 0, 0, 0, 0, 0, 0, 0, 0, 0, 0, 0, 0, 0], [1, 0, 0, 0, 0]], [[0, 0, 0, 0, 0, 0, 0, 0, 0, 0, 1, 0, 0, 0, 0, 0, 0, 0, 0, 0, 0, 0, 0, 0, 0, 0, 0, 0, 0, 0], [1, 0, 0, 0, 0]], [[0, 0, 0, 0, 0, 0, 0, 0, 0, 0, 0, 0, 0, 0, 0, 0, 0, 0, 1, 0, 0, 0, 0, 0, 0, 0, 0, 0, 0, 0], [1, 0, 0, 0, 0]], [[0, 0, 0, 0, 1, 0, 1, 0, 0, 0, 0, 0, 0, 0, 0, 0, 0, 0, 0, 0, 0, 0, 0, 0, 0, 0, 0, 0, 0, 0], [1, 0, 0, 0, 0]], [[0, 0, 0, 0, 0, 0, 0, 0, 0, 0, 0, 0, 0, 0, 0, 0, 1, 0, 0, 0, 0, 0, 0, 0, 0, 0, 0, 0, 0, 0], [0, 1, 0, 0, 0]], [[0, 0, 0, 0, 0, 0, 0, 0, 0, 0, 0, 0, 0, 0, 0, 1, 0, 0, 0, 0, 0, 0, 0, 0, 0, 1, 0, 0, 0, 0], [0, 1, 0, 0, 0]], [[0, 0, 0, 0, 0, 1, 0, 0, 0, 0, 0, 0, 0, 0, 0, 0, 0, 0, 0, 0, 0, 0, 1, 0, 0, 0, 0, 0, 0, 0], [0, 1, 0, 0, 0]], [[0, 0, 0, 0, 0, 0, 0, 0, 0, 0, 0, 0, 0, 0, 0, 0, 0, 0, 0, 0, 0, 0, 0, 0, 1, 0, 0, 0, 0, 0], [0, 0, 1, 0, 0]], [[0, 0, 0, 0, 0, 0, 0, 0, 0, 0, 0, 0, 0, 0, 0, 0, 0, 0, 0, 0, 0, 0, 0, 0, 1, 0, 0, 0, 0, 0], [0, 0, 1, 0, 0]], [[0, 0, 0, 0, 0, 0, 0, 0, 0, 0, 0, 0, 0, 0, 0, 0, 0, 1, 0, 0, 0, 0, 0, 0, 0, 0, 0, 0, 0, 1], [0, 0, 1, 0, 0]], [[0, 0, 1, 0, 0, 0, 0, 0, 1, 0, 0, 0, 0, 0, 0, 0, 0, 0, 0, 1, 1, 0, 0, 1, 0, 0, 0, 0, 0, 0], [0, 0, 0, 1, 0]], [[0, 1, 0, 0, 0, 0, 0, 0, 0, 1, 0, 1, 0, 0, 1, 0, 0, 0, 0, 0, 0, 0, 0, 0, 0, 0, 1, 0, 1, 0], [0, 0, 0, 1, 0]], [[1, 0, 0, 0, 0, 0, 0, 1, 1, 0, 0, 0, 0, 0, 0, 0, 0, 0, 0, 0, 0, 1, 0, 0, 0, 0, 1, 0, 0, 0], [0, 0, 0, 1, 0]]]\n",
            "[[[0, 0, 0, 0, 0, 0, 0, 0, 0, 0, 0, 0, 0, 0, 0, 0, 0, 0, 1, 0, 0, 0, 0, 0, 0, 0, 0, 0, 0, 0], [1, 0, 0, 0, 0]], [[0, 0, 0, 1, 0, 0, 0, 0, 1, 0, 0, 0, 0, 0, 0, 0, 0, 0, 0, 0, 0, 0, 0, 0, 0, 0, 0, 0, 0, 0], [1, 0, 0, 0, 0]], [[0, 0, 0, 0, 0, 0, 0, 0, 0, 0, 1, 0, 0, 0, 0, 0, 0, 0, 0, 0, 0, 0, 0, 0, 0, 0, 0, 0, 0, 0], [1, 0, 0, 0, 0]], [[0, 0, 0, 0, 0, 0, 0, 0, 0, 0, 0, 0, 0, 0, 0, 0, 0, 0, 1, 0, 0, 0, 0, 0, 0, 0, 0, 0, 0, 0], [1, 0, 0, 0, 0]], [[0, 0, 0, 0, 1, 0, 1, 0, 0, 0, 0, 0, 0, 0, 0, 0, 0, 0, 0, 0, 0, 0, 0, 0, 0, 0, 0, 0, 0, 0], [1, 0, 0, 0, 0]], [[0, 0, 0, 0, 0, 0, 0, 0, 0, 0, 0, 0, 0, 0, 0, 0, 1, 0, 0, 0, 0, 0, 0, 0, 0, 0, 0, 0, 0, 0], [0, 1, 0, 0, 0]], [[0, 0, 0, 0, 0, 0, 0, 0, 0, 0, 0, 0, 0, 0, 0, 1, 0, 0, 0, 0, 0, 0, 0, 0, 0, 1, 0, 0, 0, 0], [0, 1, 0, 0, 0]], [[0, 0, 0, 0, 0, 1, 0, 0, 0, 0, 0, 0, 0, 0, 0, 0, 0, 0, 0, 0, 0, 0, 1, 0, 0, 0, 0, 0, 0, 0], [0, 1, 0, 0, 0]], [[0, 0, 0, 0, 0, 0, 0, 0, 0, 0, 0, 0, 0, 0, 0, 0, 0, 0, 0, 0, 0, 0, 0, 0, 1, 0, 0, 0, 0, 0], [0, 0, 1, 0, 0]], [[0, 0, 0, 0, 0, 0, 0, 0, 0, 0, 0, 0, 0, 0, 0, 0, 0, 0, 0, 0, 0, 0, 0, 0, 1, 0, 0, 0, 0, 0], [0, 0, 1, 0, 0]], [[0, 0, 0, 0, 0, 0, 0, 0, 0, 0, 0, 0, 0, 0, 0, 0, 0, 1, 0, 0, 0, 0, 0, 0, 0, 0, 0, 0, 0, 1], [0, 0, 1, 0, 0]], [[0, 0, 1, 0, 0, 0, 0, 0, 1, 0, 0, 0, 0, 0, 0, 0, 0, 0, 0, 1, 1, 0, 0, 1, 0, 0, 0, 0, 0, 0], [0, 0, 0, 1, 0]], [[0, 1, 0, 0, 0, 0, 0, 0, 0, 1, 0, 1, 0, 0, 1, 0, 0, 0, 0, 0, 0, 0, 0, 0, 0, 0, 1, 0, 1, 0], [0, 0, 0, 1, 0]], [[1, 0, 0, 0, 0, 0, 0, 1, 1, 0, 0, 0, 0, 0, 0, 0, 0, 0, 0, 0, 0, 1, 0, 0, 0, 0, 1, 0, 0, 0], [0, 0, 0, 1, 0]], [[0, 1, 0, 0, 0, 0, 0, 0, 0, 0, 0, 1, 1, 0, 0, 0, 0, 0, 0, 0, 0, 0, 0, 0, 0, 0, 0, 1, 0, 0], [0, 0, 0, 0, 1]]]\n",
            "[[[0, 0, 0, 0, 0, 0, 0, 0, 0, 0, 0, 0, 0, 0, 0, 0, 0, 0, 1, 0, 0, 0, 0, 0, 0, 0, 0, 0, 0, 0], [1, 0, 0, 0, 0]], [[0, 0, 0, 1, 0, 0, 0, 0, 1, 0, 0, 0, 0, 0, 0, 0, 0, 0, 0, 0, 0, 0, 0, 0, 0, 0, 0, 0, 0, 0], [1, 0, 0, 0, 0]], [[0, 0, 0, 0, 0, 0, 0, 0, 0, 0, 1, 0, 0, 0, 0, 0, 0, 0, 0, 0, 0, 0, 0, 0, 0, 0, 0, 0, 0, 0], [1, 0, 0, 0, 0]], [[0, 0, 0, 0, 0, 0, 0, 0, 0, 0, 0, 0, 0, 0, 0, 0, 0, 0, 1, 0, 0, 0, 0, 0, 0, 0, 0, 0, 0, 0], [1, 0, 0, 0, 0]], [[0, 0, 0, 0, 1, 0, 1, 0, 0, 0, 0, 0, 0, 0, 0, 0, 0, 0, 0, 0, 0, 0, 0, 0, 0, 0, 0, 0, 0, 0], [1, 0, 0, 0, 0]], [[0, 0, 0, 0, 0, 0, 0, 0, 0, 0, 0, 0, 0, 0, 0, 0, 1, 0, 0, 0, 0, 0, 0, 0, 0, 0, 0, 0, 0, 0], [0, 1, 0, 0, 0]], [[0, 0, 0, 0, 0, 0, 0, 0, 0, 0, 0, 0, 0, 0, 0, 1, 0, 0, 0, 0, 0, 0, 0, 0, 0, 1, 0, 0, 0, 0], [0, 1, 0, 0, 0]], [[0, 0, 0, 0, 0, 1, 0, 0, 0, 0, 0, 0, 0, 0, 0, 0, 0, 0, 0, 0, 0, 0, 1, 0, 0, 0, 0, 0, 0, 0], [0, 1, 0, 0, 0]], [[0, 0, 0, 0, 0, 0, 0, 0, 0, 0, 0, 0, 0, 0, 0, 0, 0, 0, 0, 0, 0, 0, 0, 0, 1, 0, 0, 0, 0, 0], [0, 0, 1, 0, 0]], [[0, 0, 0, 0, 0, 0, 0, 0, 0, 0, 0, 0, 0, 0, 0, 0, 0, 0, 0, 0, 0, 0, 0, 0, 1, 0, 0, 0, 0, 0], [0, 0, 1, 0, 0]], [[0, 0, 0, 0, 0, 0, 0, 0, 0, 0, 0, 0, 0, 0, 0, 0, 0, 1, 0, 0, 0, 0, 0, 0, 0, 0, 0, 0, 0, 1], [0, 0, 1, 0, 0]], [[0, 0, 1, 0, 0, 0, 0, 0, 1, 0, 0, 0, 0, 0, 0, 0, 0, 0, 0, 1, 1, 0, 0, 1, 0, 0, 0, 0, 0, 0], [0, 0, 0, 1, 0]], [[0, 1, 0, 0, 0, 0, 0, 0, 0, 1, 0, 1, 0, 0, 1, 0, 0, 0, 0, 0, 0, 0, 0, 0, 0, 0, 1, 0, 1, 0], [0, 0, 0, 1, 0]], [[1, 0, 0, 0, 0, 0, 0, 1, 1, 0, 0, 0, 0, 0, 0, 0, 0, 0, 0, 0, 0, 1, 0, 0, 0, 0, 1, 0, 0, 0], [0, 0, 0, 1, 0]], [[0, 1, 0, 0, 0, 0, 0, 0, 0, 0, 0, 1, 1, 0, 0, 0, 0, 0, 0, 0, 0, 0, 0, 0, 0, 0, 0, 1, 0, 0], [0, 0, 0, 0, 1]], [[0, 1, 0, 0, 0, 0, 0, 0, 0, 0, 0, 0, 0, 1, 0, 0, 0, 0, 0, 0, 0, 0, 0, 0, 0, 0, 0, 1, 0, 0], [0, 0, 0, 0, 1]]]\n",
            "[[[0, 0, 0, 0, 0, 0, 0, 0, 0, 0, 0, 0, 0, 0, 0, 0, 0, 0, 1, 0, 0, 0, 0, 0, 0, 0, 0, 0, 0, 0], [1, 0, 0, 0, 0]], [[0, 0, 0, 1, 0, 0, 0, 0, 1, 0, 0, 0, 0, 0, 0, 0, 0, 0, 0, 0, 0, 0, 0, 0, 0, 0, 0, 0, 0, 0], [1, 0, 0, 0, 0]], [[0, 0, 0, 0, 0, 0, 0, 0, 0, 0, 1, 0, 0, 0, 0, 0, 0, 0, 0, 0, 0, 0, 0, 0, 0, 0, 0, 0, 0, 0], [1, 0, 0, 0, 0]], [[0, 0, 0, 0, 0, 0, 0, 0, 0, 0, 0, 0, 0, 0, 0, 0, 0, 0, 1, 0, 0, 0, 0, 0, 0, 0, 0, 0, 0, 0], [1, 0, 0, 0, 0]], [[0, 0, 0, 0, 1, 0, 1, 0, 0, 0, 0, 0, 0, 0, 0, 0, 0, 0, 0, 0, 0, 0, 0, 0, 0, 0, 0, 0, 0, 0], [1, 0, 0, 0, 0]], [[0, 0, 0, 0, 0, 0, 0, 0, 0, 0, 0, 0, 0, 0, 0, 0, 1, 0, 0, 0, 0, 0, 0, 0, 0, 0, 0, 0, 0, 0], [0, 1, 0, 0, 0]], [[0, 0, 0, 0, 0, 0, 0, 0, 0, 0, 0, 0, 0, 0, 0, 1, 0, 0, 0, 0, 0, 0, 0, 0, 0, 1, 0, 0, 0, 0], [0, 1, 0, 0, 0]], [[0, 0, 0, 0, 0, 1, 0, 0, 0, 0, 0, 0, 0, 0, 0, 0, 0, 0, 0, 0, 0, 0, 1, 0, 0, 0, 0, 0, 0, 0], [0, 1, 0, 0, 0]], [[0, 0, 0, 0, 0, 0, 0, 0, 0, 0, 0, 0, 0, 0, 0, 0, 0, 0, 0, 0, 0, 0, 0, 0, 1, 0, 0, 0, 0, 0], [0, 0, 1, 0, 0]], [[0, 0, 0, 0, 0, 0, 0, 0, 0, 0, 0, 0, 0, 0, 0, 0, 0, 0, 0, 0, 0, 0, 0, 0, 1, 0, 0, 0, 0, 0], [0, 0, 1, 0, 0]], [[0, 0, 0, 0, 0, 0, 0, 0, 0, 0, 0, 0, 0, 0, 0, 0, 0, 1, 0, 0, 0, 0, 0, 0, 0, 0, 0, 0, 0, 1], [0, 0, 1, 0, 0]], [[0, 0, 1, 0, 0, 0, 0, 0, 1, 0, 0, 0, 0, 0, 0, 0, 0, 0, 0, 1, 1, 0, 0, 1, 0, 0, 0, 0, 0, 0], [0, 0, 0, 1, 0]], [[0, 1, 0, 0, 0, 0, 0, 0, 0, 1, 0, 1, 0, 0, 1, 0, 0, 0, 0, 0, 0, 0, 0, 0, 0, 0, 1, 0, 1, 0], [0, 0, 0, 1, 0]], [[1, 0, 0, 0, 0, 0, 0, 1, 1, 0, 0, 0, 0, 0, 0, 0, 0, 0, 0, 0, 0, 1, 0, 0, 0, 0, 1, 0, 0, 0], [0, 0, 0, 1, 0]], [[0, 1, 0, 0, 0, 0, 0, 0, 0, 0, 0, 1, 1, 0, 0, 0, 0, 0, 0, 0, 0, 0, 0, 0, 0, 0, 0, 1, 0, 0], [0, 0, 0, 0, 1]], [[0, 1, 0, 0, 0, 0, 0, 0, 0, 0, 0, 0, 0, 1, 0, 0, 0, 0, 0, 0, 0, 0, 0, 0, 0, 0, 0, 1, 0, 0], [0, 0, 0, 0, 1]], [[0, 0, 0, 0, 0, 0, 0, 0, 1, 0, 0, 0, 0, 0, 0, 0, 0, 0, 0, 0, 1, 0, 0, 0, 0, 0, 0, 1, 0, 0], [0, 0, 0, 0, 1]]]\n"
          ]
        }
      ]
    },
    {
      "cell_type": "code",
      "source": [
        "# shuffling the list\n",
        "shuffle(list_training)\n",
        "for list_words in list_training:\n",
        "  print(list_words)"
      ],
      "metadata": {
        "colab": {
          "base_uri": "https://localhost:8080/"
        },
        "id": "I4SSXm75giFZ",
        "outputId": "5af2fef3-22a3-45db-de85-706052f3ac81"
      },
      "execution_count": null,
      "outputs": [
        {
          "output_type": "stream",
          "name": "stdout",
          "text": [
            "[[1, 0, 0, 0, 0, 0, 0, 1, 1, 0, 0, 0, 0, 0, 0, 0, 0, 0, 0, 0, 0, 1, 0, 0, 0, 0, 1, 0, 0, 0], [0, 0, 0, 1, 0]]\n",
            "[[0, 0, 0, 0, 0, 0, 0, 0, 0, 0, 0, 0, 0, 0, 0, 0, 0, 0, 0, 0, 0, 0, 0, 0, 1, 0, 0, 0, 0, 0], [0, 0, 1, 0, 0]]\n",
            "[[0, 0, 0, 0, 0, 0, 0, 0, 0, 0, 0, 0, 0, 0, 0, 0, 0, 1, 0, 0, 0, 0, 0, 0, 0, 0, 0, 0, 0, 1], [0, 0, 1, 0, 0]]\n",
            "[[0, 0, 0, 0, 1, 0, 1, 0, 0, 0, 0, 0, 0, 0, 0, 0, 0, 0, 0, 0, 0, 0, 0, 0, 0, 0, 0, 0, 0, 0], [1, 0, 0, 0, 0]]\n",
            "[[0, 0, 0, 0, 0, 0, 0, 0, 1, 0, 0, 0, 0, 0, 0, 0, 0, 0, 0, 0, 1, 0, 0, 0, 0, 0, 0, 1, 0, 0], [0, 0, 0, 0, 1]]\n",
            "[[0, 1, 0, 0, 0, 0, 0, 0, 0, 0, 0, 0, 0, 1, 0, 0, 0, 0, 0, 0, 0, 0, 0, 0, 0, 0, 0, 1, 0, 0], [0, 0, 0, 0, 1]]\n",
            "[[0, 0, 0, 0, 0, 0, 0, 0, 0, 0, 0, 0, 0, 0, 0, 0, 0, 0, 1, 0, 0, 0, 0, 0, 0, 0, 0, 0, 0, 0], [1, 0, 0, 0, 0]]\n",
            "[[0, 0, 0, 0, 0, 0, 0, 0, 0, 0, 0, 0, 0, 0, 0, 0, 1, 0, 0, 0, 0, 0, 0, 0, 0, 0, 0, 0, 0, 0], [0, 1, 0, 0, 0]]\n",
            "[[0, 0, 0, 0, 0, 0, 0, 0, 0, 0, 1, 0, 0, 0, 0, 0, 0, 0, 0, 0, 0, 0, 0, 0, 0, 0, 0, 0, 0, 0], [1, 0, 0, 0, 0]]\n",
            "[[0, 1, 0, 0, 0, 0, 0, 0, 0, 1, 0, 1, 0, 0, 1, 0, 0, 0, 0, 0, 0, 0, 0, 0, 0, 0, 1, 0, 1, 0], [0, 0, 0, 1, 0]]\n",
            "[[0, 0, 0, 0, 0, 0, 0, 0, 0, 0, 0, 0, 0, 0, 0, 0, 0, 0, 1, 0, 0, 0, 0, 0, 0, 0, 0, 0, 0, 0], [1, 0, 0, 0, 0]]\n",
            "[[0, 1, 0, 0, 0, 0, 0, 0, 0, 0, 0, 1, 1, 0, 0, 0, 0, 0, 0, 0, 0, 0, 0, 0, 0, 0, 0, 1, 0, 0], [0, 0, 0, 0, 1]]\n",
            "[[0, 0, 0, 0, 0, 0, 0, 0, 0, 0, 0, 0, 0, 0, 0, 1, 0, 0, 0, 0, 0, 0, 0, 0, 0, 1, 0, 0, 0, 0], [0, 1, 0, 0, 0]]\n",
            "[[0, 0, 1, 0, 0, 0, 0, 0, 1, 0, 0, 0, 0, 0, 0, 0, 0, 0, 0, 1, 1, 0, 0, 1, 0, 0, 0, 0, 0, 0], [0, 0, 0, 1, 0]]\n",
            "[[0, 0, 0, 1, 0, 0, 0, 0, 1, 0, 0, 0, 0, 0, 0, 0, 0, 0, 0, 0, 0, 0, 0, 0, 0, 0, 0, 0, 0, 0], [1, 0, 0, 0, 0]]\n",
            "[[0, 0, 0, 0, 0, 0, 0, 0, 0, 0, 0, 0, 0, 0, 0, 0, 0, 0, 0, 0, 0, 0, 0, 0, 1, 0, 0, 0, 0, 0], [0, 0, 1, 0, 0]]\n",
            "[[0, 0, 0, 0, 0, 1, 0, 0, 0, 0, 0, 0, 0, 0, 0, 0, 0, 0, 0, 0, 0, 0, 1, 0, 0, 0, 0, 0, 0, 0], [0, 1, 0, 0, 0]]\n"
          ]
        }
      ]
    },
    {
      "cell_type": "code",
      "source": [
        "# preparing the data\n",
        "arr_training = np.array(list_training, dtype=object)\n",
        "dataset = list(arr_training[:, 0])\n",
        "labels = list(arr_training[:, 1])\n",
        "train_dataset, test_dataset, train_labels, test_labels = train_test_split(dataset, labels, test_size=0.2, random_state=0)"
      ],
      "metadata": {
        "id": "YZEhnCD2d11J"
      },
      "execution_count": null,
      "outputs": []
    },
    {
      "cell_type": "code",
      "source": [
        "NUMBER_CLASSES = len(list_tags)\n",
        "input_layer_shape = (len(train_dataset[0]), )\n",
        "print(\"input_layer_shape:\", input_layer_shape)"
      ],
      "metadata": {
        "id": "0bVWNffKj28h",
        "colab": {
          "base_uri": "https://localhost:8080/"
        },
        "outputId": "8dbfaa62-1b9a-498d-d570-62c3510aff75"
      },
      "execution_count": null,
      "outputs": [
        {
          "output_type": "stream",
          "name": "stdout",
          "text": [
            "input_layer_shape: (30,)\n"
          ]
        }
      ]
    },
    {
      "cell_type": "code",
      "source": [
        "model = create_model(input_layer_shape, NUMBER_CLASSES)\n",
        "model.summary()"
      ],
      "metadata": {
        "id": "dPhd0OOahPwS",
        "colab": {
          "base_uri": "https://localhost:8080/"
        },
        "outputId": "181f84cd-7ca9-4d45-bb94-48eb4177d6b2"
      },
      "execution_count": null,
      "outputs": [
        {
          "output_type": "stream",
          "name": "stdout",
          "text": [
            "Model: \"model_3\"\n",
            "_________________________________________________________________\n",
            " Layer (type)                Output Shape              Param #   \n",
            "=================================================================\n",
            " input_4 (InputLayer)        [(None, 30)]              0         \n",
            "                                                                 \n",
            " dense_9 (Dense)             (None, 128)               3968      \n",
            "                                                                 \n",
            " batch_normalization_6 (Batc  (None, 128)              512       \n",
            " hNormalization)                                                 \n",
            "                                                                 \n",
            " re_lu_6 (ReLU)              (None, 128)               0         \n",
            "                                                                 \n",
            " dropout_6 (Dropout)         (None, 128)               0         \n",
            "                                                                 \n",
            " dense_10 (Dense)            (None, 64)                8256      \n",
            "                                                                 \n",
            " batch_normalization_7 (Batc  (None, 64)               256       \n",
            " hNormalization)                                                 \n",
            "                                                                 \n",
            " re_lu_7 (ReLU)              (None, 64)                0         \n",
            "                                                                 \n",
            " dropout_7 (Dropout)         (None, 64)                0         \n",
            "                                                                 \n",
            " dense_11 (Dense)            (None, 5)                 325       \n",
            "                                                                 \n",
            " softmax_3 (Softmax)         (None, 5)                 0         \n",
            "                                                                 \n",
            "=================================================================\n",
            "Total params: 13,317\n",
            "Trainable params: 12,933\n",
            "Non-trainable params: 384\n",
            "_________________________________________________________________\n"
          ]
        }
      ]
    },
    {
      "cell_type": "code",
      "source": [
        "model_history = model.fit(train_dataset, train_labels,\n",
        "          validation_data=(test_dataset, test_labels),\n",
        "          epochs=200, batch_size=1024,\n",
        "          verbose=1)"
      ],
      "metadata": {
        "id": "6IbIo0D2jyId",
        "colab": {
          "base_uri": "https://localhost:8080/"
        },
        "outputId": "16d055bd-b270-43ee-957d-7d1fc2b1b945"
      },
      "execution_count": null,
      "outputs": [
        {
          "output_type": "stream",
          "name": "stdout",
          "text": [
            "Epoch 1/200\n",
            "1/1 [==============================] - 2s 2s/step - loss: 2.1302 - accuracy: 0.1538 - val_loss: 1.4286 - val_accuracy: 0.5000\n",
            "Epoch 2/200\n",
            "1/1 [==============================] - 0s 98ms/step - loss: 1.8983 - accuracy: 0.2308 - val_loss: 1.4152 - val_accuracy: 0.5000\n",
            "Epoch 3/200\n",
            "1/1 [==============================] - 0s 90ms/step - loss: 1.8833 - accuracy: 0.1538 - val_loss: 1.4043 - val_accuracy: 0.5000\n",
            "Epoch 4/200\n",
            "1/1 [==============================] - 0s 106ms/step - loss: 1.5359 - accuracy: 0.3077 - val_loss: 1.3935 - val_accuracy: 0.5000\n",
            "Epoch 5/200\n",
            "1/1 [==============================] - 0s 95ms/step - loss: 1.4073 - accuracy: 0.6154 - val_loss: 1.3855 - val_accuracy: 0.5000\n",
            "Epoch 6/200\n",
            "1/1 [==============================] - 0s 90ms/step - loss: 1.4214 - accuracy: 0.3846 - val_loss: 1.3767 - val_accuracy: 0.5000\n",
            "Epoch 7/200\n",
            "1/1 [==============================] - 0s 105ms/step - loss: 1.2236 - accuracy: 0.4615 - val_loss: 1.3672 - val_accuracy: 0.5000\n",
            "Epoch 8/200\n",
            "1/1 [==============================] - 0s 101ms/step - loss: 1.2380 - accuracy: 0.5385 - val_loss: 1.3573 - val_accuracy: 0.5000\n",
            "Epoch 9/200\n",
            "1/1 [==============================] - 0s 81ms/step - loss: 1.1577 - accuracy: 0.6154 - val_loss: 1.3474 - val_accuracy: 0.5000\n",
            "Epoch 10/200\n",
            "1/1 [==============================] - 0s 103ms/step - loss: 1.1187 - accuracy: 0.7692 - val_loss: 1.3375 - val_accuracy: 0.5000\n",
            "Epoch 11/200\n",
            "1/1 [==============================] - 0s 104ms/step - loss: 1.0235 - accuracy: 0.6923 - val_loss: 1.3282 - val_accuracy: 0.5000\n",
            "Epoch 12/200\n",
            "1/1 [==============================] - 0s 112ms/step - loss: 0.9476 - accuracy: 0.6923 - val_loss: 1.3185 - val_accuracy: 0.5000\n",
            "Epoch 13/200\n",
            "1/1 [==============================] - 0s 116ms/step - loss: 0.7735 - accuracy: 0.8462 - val_loss: 1.3101 - val_accuracy: 0.5000\n",
            "Epoch 14/200\n",
            "1/1 [==============================] - 0s 103ms/step - loss: 0.9123 - accuracy: 0.6923 - val_loss: 1.3002 - val_accuracy: 0.5000\n",
            "Epoch 15/200\n",
            "1/1 [==============================] - 0s 83ms/step - loss: 0.9062 - accuracy: 0.6923 - val_loss: 1.2908 - val_accuracy: 0.5000\n",
            "Epoch 16/200\n",
            "1/1 [==============================] - 0s 80ms/step - loss: 0.7143 - accuracy: 0.8462 - val_loss: 1.2813 - val_accuracy: 0.5000\n",
            "Epoch 17/200\n",
            "1/1 [==============================] - 0s 107ms/step - loss: 0.8138 - accuracy: 0.7692 - val_loss: 1.2731 - val_accuracy: 0.7500\n",
            "Epoch 18/200\n",
            "1/1 [==============================] - 0s 88ms/step - loss: 0.8173 - accuracy: 0.7692 - val_loss: 1.2644 - val_accuracy: 0.7500\n",
            "Epoch 19/200\n",
            "1/1 [==============================] - 0s 97ms/step - loss: 0.7218 - accuracy: 0.6923 - val_loss: 1.2548 - val_accuracy: 0.7500\n",
            "Epoch 20/200\n",
            "1/1 [==============================] - 0s 102ms/step - loss: 0.5649 - accuracy: 0.9231 - val_loss: 1.2452 - val_accuracy: 0.7500\n",
            "Epoch 21/200\n",
            "1/1 [==============================] - 0s 103ms/step - loss: 0.6817 - accuracy: 0.8462 - val_loss: 1.2341 - val_accuracy: 0.7500\n",
            "Epoch 22/200\n",
            "1/1 [==============================] - 0s 88ms/step - loss: 0.4268 - accuracy: 1.0000 - val_loss: 1.2237 - val_accuracy: 0.7500\n",
            "Epoch 23/200\n",
            "1/1 [==============================] - 0s 84ms/step - loss: 0.4868 - accuracy: 1.0000 - val_loss: 1.2131 - val_accuracy: 0.7500\n",
            "Epoch 24/200\n",
            "1/1 [==============================] - 0s 60ms/step - loss: 0.5067 - accuracy: 0.8462 - val_loss: 1.2023 - val_accuracy: 0.7500\n",
            "Epoch 25/200\n",
            "1/1 [==============================] - 0s 61ms/step - loss: 0.4450 - accuracy: 1.0000 - val_loss: 1.1939 - val_accuracy: 0.7500\n",
            "Epoch 26/200\n",
            "1/1 [==============================] - 0s 58ms/step - loss: 0.4014 - accuracy: 1.0000 - val_loss: 1.1822 - val_accuracy: 0.7500\n",
            "Epoch 27/200\n",
            "1/1 [==============================] - 0s 84ms/step - loss: 0.3407 - accuracy: 1.0000 - val_loss: 1.1730 - val_accuracy: 0.7500\n",
            "Epoch 28/200\n",
            "1/1 [==============================] - 0s 57ms/step - loss: 0.3558 - accuracy: 1.0000 - val_loss: 1.1628 - val_accuracy: 0.7500\n",
            "Epoch 29/200\n",
            "1/1 [==============================] - 0s 80ms/step - loss: 0.3271 - accuracy: 0.9231 - val_loss: 1.1525 - val_accuracy: 0.7500\n",
            "Epoch 30/200\n",
            "1/1 [==============================] - 0s 58ms/step - loss: 0.3853 - accuracy: 1.0000 - val_loss: 1.1428 - val_accuracy: 0.7500\n",
            "Epoch 31/200\n",
            "1/1 [==============================] - 0s 76ms/step - loss: 0.3258 - accuracy: 0.9231 - val_loss: 1.1334 - val_accuracy: 0.7500\n",
            "Epoch 32/200\n",
            "1/1 [==============================] - 0s 60ms/step - loss: 0.3469 - accuracy: 1.0000 - val_loss: 1.1244 - val_accuracy: 0.7500\n",
            "Epoch 33/200\n",
            "1/1 [==============================] - 0s 63ms/step - loss: 0.3635 - accuracy: 1.0000 - val_loss: 1.1152 - val_accuracy: 0.7500\n",
            "Epoch 34/200\n",
            "1/1 [==============================] - 0s 61ms/step - loss: 0.3477 - accuracy: 1.0000 - val_loss: 1.1070 - val_accuracy: 0.7500\n",
            "Epoch 35/200\n",
            "1/1 [==============================] - 0s 57ms/step - loss: 0.2600 - accuracy: 1.0000 - val_loss: 1.0985 - val_accuracy: 0.7500\n",
            "Epoch 36/200\n",
            "1/1 [==============================] - 0s 85ms/step - loss: 0.2758 - accuracy: 1.0000 - val_loss: 1.0900 - val_accuracy: 0.7500\n",
            "Epoch 37/200\n",
            "1/1 [==============================] - 0s 59ms/step - loss: 0.1712 - accuracy: 1.0000 - val_loss: 1.0816 - val_accuracy: 0.7500\n",
            "Epoch 38/200\n",
            "1/1 [==============================] - 0s 59ms/step - loss: 0.2790 - accuracy: 1.0000 - val_loss: 1.0744 - val_accuracy: 0.7500\n",
            "Epoch 39/200\n",
            "1/1 [==============================] - 0s 59ms/step - loss: 0.2064 - accuracy: 1.0000 - val_loss: 1.0661 - val_accuracy: 0.7500\n",
            "Epoch 40/200\n",
            "1/1 [==============================] - 0s 66ms/step - loss: 0.2775 - accuracy: 1.0000 - val_loss: 1.0589 - val_accuracy: 0.7500\n",
            "Epoch 41/200\n",
            "1/1 [==============================] - 0s 61ms/step - loss: 0.2015 - accuracy: 1.0000 - val_loss: 1.0506 - val_accuracy: 0.7500\n",
            "Epoch 42/200\n",
            "1/1 [==============================] - 0s 83ms/step - loss: 0.1799 - accuracy: 1.0000 - val_loss: 1.0427 - val_accuracy: 0.7500\n",
            "Epoch 43/200\n",
            "1/1 [==============================] - 0s 72ms/step - loss: 0.2952 - accuracy: 1.0000 - val_loss: 1.0343 - val_accuracy: 0.7500\n",
            "Epoch 44/200\n",
            "1/1 [==============================] - 0s 65ms/step - loss: 0.1741 - accuracy: 1.0000 - val_loss: 1.0251 - val_accuracy: 0.7500\n",
            "Epoch 45/200\n",
            "1/1 [==============================] - 0s 59ms/step - loss: 0.3046 - accuracy: 1.0000 - val_loss: 1.0170 - val_accuracy: 0.7500\n",
            "Epoch 46/200\n",
            "1/1 [==============================] - 0s 58ms/step - loss: 0.1964 - accuracy: 1.0000 - val_loss: 1.0096 - val_accuracy: 0.7500\n",
            "Epoch 47/200\n",
            "1/1 [==============================] - 0s 67ms/step - loss: 0.2460 - accuracy: 1.0000 - val_loss: 1.0027 - val_accuracy: 0.7500\n",
            "Epoch 48/200\n",
            "1/1 [==============================] - 0s 58ms/step - loss: 0.1793 - accuracy: 1.0000 - val_loss: 0.9967 - val_accuracy: 0.7500\n",
            "Epoch 49/200\n",
            "1/1 [==============================] - 0s 62ms/step - loss: 0.1650 - accuracy: 1.0000 - val_loss: 0.9902 - val_accuracy: 0.7500\n",
            "Epoch 50/200\n",
            "1/1 [==============================] - 0s 59ms/step - loss: 0.1633 - accuracy: 1.0000 - val_loss: 0.9842 - val_accuracy: 0.7500\n",
            "Epoch 51/200\n",
            "1/1 [==============================] - 0s 77ms/step - loss: 0.1779 - accuracy: 1.0000 - val_loss: 0.9787 - val_accuracy: 0.7500\n",
            "Epoch 52/200\n",
            "1/1 [==============================] - 0s 62ms/step - loss: 0.1602 - accuracy: 1.0000 - val_loss: 0.9723 - val_accuracy: 0.7500\n",
            "Epoch 53/200\n",
            "1/1 [==============================] - 0s 68ms/step - loss: 0.1312 - accuracy: 1.0000 - val_loss: 0.9658 - val_accuracy: 0.7500\n",
            "Epoch 54/200\n",
            "1/1 [==============================] - 0s 63ms/step - loss: 0.1205 - accuracy: 1.0000 - val_loss: 0.9585 - val_accuracy: 0.7500\n",
            "Epoch 55/200\n",
            "1/1 [==============================] - 0s 73ms/step - loss: 0.0888 - accuracy: 1.0000 - val_loss: 0.9528 - val_accuracy: 0.7500\n",
            "Epoch 56/200\n",
            "1/1 [==============================] - 0s 88ms/step - loss: 0.1323 - accuracy: 1.0000 - val_loss: 0.9467 - val_accuracy: 0.7500\n",
            "Epoch 57/200\n",
            "1/1 [==============================] - 0s 78ms/step - loss: 0.1840 - accuracy: 1.0000 - val_loss: 0.9406 - val_accuracy: 0.7500\n",
            "Epoch 58/200\n",
            "1/1 [==============================] - 0s 79ms/step - loss: 0.0937 - accuracy: 1.0000 - val_loss: 0.9354 - val_accuracy: 0.7500\n",
            "Epoch 59/200\n",
            "1/1 [==============================] - 0s 64ms/step - loss: 0.1384 - accuracy: 1.0000 - val_loss: 0.9309 - val_accuracy: 0.7500\n",
            "Epoch 60/200\n",
            "1/1 [==============================] - 0s 60ms/step - loss: 0.1284 - accuracy: 1.0000 - val_loss: 0.9258 - val_accuracy: 0.7500\n",
            "Epoch 61/200\n",
            "1/1 [==============================] - 0s 60ms/step - loss: 0.1374 - accuracy: 1.0000 - val_loss: 0.9213 - val_accuracy: 0.7500\n",
            "Epoch 62/200\n",
            "1/1 [==============================] - 0s 60ms/step - loss: 0.0952 - accuracy: 1.0000 - val_loss: 0.9162 - val_accuracy: 0.7500\n",
            "Epoch 63/200\n",
            "1/1 [==============================] - 0s 61ms/step - loss: 0.1024 - accuracy: 1.0000 - val_loss: 0.9130 - val_accuracy: 0.7500\n",
            "Epoch 64/200\n",
            "1/1 [==============================] - 0s 78ms/step - loss: 0.2176 - accuracy: 0.9231 - val_loss: 0.9077 - val_accuracy: 0.7500\n",
            "Epoch 65/200\n",
            "1/1 [==============================] - 0s 58ms/step - loss: 0.1359 - accuracy: 1.0000 - val_loss: 0.9021 - val_accuracy: 0.7500\n",
            "Epoch 66/200\n",
            "1/1 [==============================] - 0s 73ms/step - loss: 0.1255 - accuracy: 1.0000 - val_loss: 0.8978 - val_accuracy: 0.7500\n",
            "Epoch 67/200\n",
            "1/1 [==============================] - 0s 65ms/step - loss: 0.0972 - accuracy: 1.0000 - val_loss: 0.8934 - val_accuracy: 0.7500\n",
            "Epoch 68/200\n",
            "1/1 [==============================] - 0s 58ms/step - loss: 0.1675 - accuracy: 1.0000 - val_loss: 0.8895 - val_accuracy: 0.7500\n",
            "Epoch 69/200\n",
            "1/1 [==============================] - 0s 60ms/step - loss: 0.0989 - accuracy: 1.0000 - val_loss: 0.8838 - val_accuracy: 0.7500\n",
            "Epoch 70/200\n",
            "1/1 [==============================] - 0s 80ms/step - loss: 0.1184 - accuracy: 1.0000 - val_loss: 0.8796 - val_accuracy: 0.7500\n",
            "Epoch 71/200\n",
            "1/1 [==============================] - 0s 60ms/step - loss: 0.1119 - accuracy: 1.0000 - val_loss: 0.8749 - val_accuracy: 0.7500\n",
            "Epoch 72/200\n",
            "1/1 [==============================] - 0s 60ms/step - loss: 0.0795 - accuracy: 1.0000 - val_loss: 0.8719 - val_accuracy: 0.7500\n",
            "Epoch 73/200\n",
            "1/1 [==============================] - 0s 80ms/step - loss: 0.0781 - accuracy: 1.0000 - val_loss: 0.8671 - val_accuracy: 0.7500\n",
            "Epoch 74/200\n",
            "1/1 [==============================] - 0s 70ms/step - loss: 0.1062 - accuracy: 1.0000 - val_loss: 0.8647 - val_accuracy: 0.7500\n",
            "Epoch 75/200\n",
            "1/1 [==============================] - 0s 61ms/step - loss: 0.0631 - accuracy: 1.0000 - val_loss: 0.8598 - val_accuracy: 0.7500\n",
            "Epoch 76/200\n",
            "1/1 [==============================] - 0s 64ms/step - loss: 0.0573 - accuracy: 1.0000 - val_loss: 0.8561 - val_accuracy: 0.7500\n",
            "Epoch 77/200\n",
            "1/1 [==============================] - 0s 66ms/step - loss: 0.0855 - accuracy: 1.0000 - val_loss: 0.8512 - val_accuracy: 0.7500\n",
            "Epoch 78/200\n",
            "1/1 [==============================] - 0s 61ms/step - loss: 0.0586 - accuracy: 1.0000 - val_loss: 0.8471 - val_accuracy: 0.7500\n",
            "Epoch 79/200\n",
            "1/1 [==============================] - 0s 63ms/step - loss: 0.1481 - accuracy: 1.0000 - val_loss: 0.8435 - val_accuracy: 0.7500\n",
            "Epoch 80/200\n",
            "1/1 [==============================] - 0s 62ms/step - loss: 0.0996 - accuracy: 1.0000 - val_loss: 0.8401 - val_accuracy: 0.7500\n",
            "Epoch 81/200\n",
            "1/1 [==============================] - 0s 62ms/step - loss: 0.0840 - accuracy: 1.0000 - val_loss: 0.8381 - val_accuracy: 0.7500\n",
            "Epoch 82/200\n",
            "1/1 [==============================] - 0s 62ms/step - loss: 0.0815 - accuracy: 1.0000 - val_loss: 0.8343 - val_accuracy: 0.7500\n",
            "Epoch 83/200\n",
            "1/1 [==============================] - 0s 78ms/step - loss: 0.1004 - accuracy: 1.0000 - val_loss: 0.8320 - val_accuracy: 0.7500\n",
            "Epoch 84/200\n",
            "1/1 [==============================] - 0s 61ms/step - loss: 0.0661 - accuracy: 1.0000 - val_loss: 0.8283 - val_accuracy: 0.7500\n",
            "Epoch 85/200\n",
            "1/1 [==============================] - 0s 61ms/step - loss: 0.0820 - accuracy: 1.0000 - val_loss: 0.8231 - val_accuracy: 0.7500\n",
            "Epoch 86/200\n",
            "1/1 [==============================] - 0s 61ms/step - loss: 0.0682 - accuracy: 1.0000 - val_loss: 0.8197 - val_accuracy: 0.7500\n",
            "Epoch 87/200\n",
            "1/1 [==============================] - 0s 85ms/step - loss: 0.0568 - accuracy: 1.0000 - val_loss: 0.8162 - val_accuracy: 0.7500\n",
            "Epoch 88/200\n",
            "1/1 [==============================] - 0s 77ms/step - loss: 0.0550 - accuracy: 1.0000 - val_loss: 0.8131 - val_accuracy: 0.7500\n",
            "Epoch 89/200\n",
            "1/1 [==============================] - 0s 62ms/step - loss: 0.0820 - accuracy: 1.0000 - val_loss: 0.8091 - val_accuracy: 0.7500\n",
            "Epoch 90/200\n",
            "1/1 [==============================] - 0s 59ms/step - loss: 0.0534 - accuracy: 1.0000 - val_loss: 0.8054 - val_accuracy: 0.7500\n",
            "Epoch 91/200\n",
            "1/1 [==============================] - 0s 70ms/step - loss: 0.0993 - accuracy: 1.0000 - val_loss: 0.8010 - val_accuracy: 0.7500\n",
            "Epoch 92/200\n",
            "1/1 [==============================] - 0s 60ms/step - loss: 0.0801 - accuracy: 1.0000 - val_loss: 0.7978 - val_accuracy: 0.7500\n",
            "Epoch 93/200\n",
            "1/1 [==============================] - 0s 62ms/step - loss: 0.0656 - accuracy: 1.0000 - val_loss: 0.7942 - val_accuracy: 0.7500\n",
            "Epoch 94/200\n",
            "1/1 [==============================] - 0s 61ms/step - loss: 0.0919 - accuracy: 1.0000 - val_loss: 0.7898 - val_accuracy: 0.7500\n",
            "Epoch 95/200\n",
            "1/1 [==============================] - 0s 59ms/step - loss: 0.0848 - accuracy: 1.0000 - val_loss: 0.7844 - val_accuracy: 0.7500\n",
            "Epoch 96/200\n",
            "1/1 [==============================] - 0s 58ms/step - loss: 0.0823 - accuracy: 1.0000 - val_loss: 0.7811 - val_accuracy: 0.7500\n",
            "Epoch 97/200\n",
            "1/1 [==============================] - 0s 62ms/step - loss: 0.0613 - accuracy: 1.0000 - val_loss: 0.7785 - val_accuracy: 0.7500\n",
            "Epoch 98/200\n",
            "1/1 [==============================] - 0s 68ms/step - loss: 0.0508 - accuracy: 1.0000 - val_loss: 0.7747 - val_accuracy: 0.7500\n",
            "Epoch 99/200\n",
            "1/1 [==============================] - 0s 62ms/step - loss: 0.0636 - accuracy: 1.0000 - val_loss: 0.7715 - val_accuracy: 0.7500\n",
            "Epoch 100/200\n",
            "1/1 [==============================] - 0s 70ms/step - loss: 0.0982 - accuracy: 1.0000 - val_loss: 0.7683 - val_accuracy: 0.7500\n",
            "Epoch 101/200\n",
            "1/1 [==============================] - 0s 60ms/step - loss: 0.0702 - accuracy: 1.0000 - val_loss: 0.7648 - val_accuracy: 0.7500\n",
            "Epoch 102/200\n",
            "1/1 [==============================] - 0s 64ms/step - loss: 0.0665 - accuracy: 1.0000 - val_loss: 0.7617 - val_accuracy: 0.7500\n",
            "Epoch 103/200\n",
            "1/1 [==============================] - 0s 100ms/step - loss: 0.0439 - accuracy: 1.0000 - val_loss: 0.7606 - val_accuracy: 0.7500\n",
            "Epoch 104/200\n",
            "1/1 [==============================] - 0s 91ms/step - loss: 0.0380 - accuracy: 1.0000 - val_loss: 0.7578 - val_accuracy: 0.7500\n",
            "Epoch 105/200\n",
            "1/1 [==============================] - 0s 95ms/step - loss: 0.0334 - accuracy: 1.0000 - val_loss: 0.7551 - val_accuracy: 0.7500\n",
            "Epoch 106/200\n",
            "1/1 [==============================] - 0s 105ms/step - loss: 0.0503 - accuracy: 1.0000 - val_loss: 0.7526 - val_accuracy: 0.7500\n",
            "Epoch 107/200\n",
            "1/1 [==============================] - 0s 92ms/step - loss: 0.0640 - accuracy: 1.0000 - val_loss: 0.7500 - val_accuracy: 0.7500\n",
            "Epoch 108/200\n",
            "1/1 [==============================] - 0s 120ms/step - loss: 0.1264 - accuracy: 1.0000 - val_loss: 0.7467 - val_accuracy: 0.7500\n",
            "Epoch 109/200\n",
            "1/1 [==============================] - 0s 104ms/step - loss: 0.0957 - accuracy: 1.0000 - val_loss: 0.7445 - val_accuracy: 0.7500\n",
            "Epoch 110/200\n",
            "1/1 [==============================] - 0s 94ms/step - loss: 0.0401 - accuracy: 1.0000 - val_loss: 0.7418 - val_accuracy: 0.7500\n",
            "Epoch 111/200\n",
            "1/1 [==============================] - 0s 83ms/step - loss: 0.0648 - accuracy: 1.0000 - val_loss: 0.7395 - val_accuracy: 0.7500\n",
            "Epoch 112/200\n",
            "1/1 [==============================] - 0s 89ms/step - loss: 0.0427 - accuracy: 1.0000 - val_loss: 0.7372 - val_accuracy: 0.7500\n",
            "Epoch 113/200\n",
            "1/1 [==============================] - 0s 112ms/step - loss: 0.0584 - accuracy: 1.0000 - val_loss: 0.7343 - val_accuracy: 0.7500\n",
            "Epoch 114/200\n",
            "1/1 [==============================] - 0s 89ms/step - loss: 0.0575 - accuracy: 1.0000 - val_loss: 0.7307 - val_accuracy: 0.7500\n",
            "Epoch 115/200\n",
            "1/1 [==============================] - 0s 90ms/step - loss: 0.0367 - accuracy: 1.0000 - val_loss: 0.7286 - val_accuracy: 0.7500\n",
            "Epoch 116/200\n",
            "1/1 [==============================] - 0s 108ms/step - loss: 0.0576 - accuracy: 1.0000 - val_loss: 0.7258 - val_accuracy: 0.7500\n",
            "Epoch 117/200\n",
            "1/1 [==============================] - 0s 112ms/step - loss: 0.0322 - accuracy: 1.0000 - val_loss: 0.7233 - val_accuracy: 0.7500\n",
            "Epoch 118/200\n",
            "1/1 [==============================] - 0s 111ms/step - loss: 0.0612 - accuracy: 1.0000 - val_loss: 0.7198 - val_accuracy: 0.7500\n",
            "Epoch 119/200\n",
            "1/1 [==============================] - 0s 93ms/step - loss: 0.0357 - accuracy: 1.0000 - val_loss: 0.7174 - val_accuracy: 0.7500\n",
            "Epoch 120/200\n",
            "1/1 [==============================] - 0s 102ms/step - loss: 0.0560 - accuracy: 1.0000 - val_loss: 0.7139 - val_accuracy: 0.7500\n",
            "Epoch 121/200\n",
            "1/1 [==============================] - 0s 85ms/step - loss: 0.0420 - accuracy: 1.0000 - val_loss: 0.7112 - val_accuracy: 0.7500\n",
            "Epoch 122/200\n",
            "1/1 [==============================] - 0s 99ms/step - loss: 0.0533 - accuracy: 1.0000 - val_loss: 0.7091 - val_accuracy: 0.7500\n",
            "Epoch 123/200\n",
            "1/1 [==============================] - 0s 100ms/step - loss: 0.0630 - accuracy: 1.0000 - val_loss: 0.7062 - val_accuracy: 0.7500\n",
            "Epoch 124/200\n",
            "1/1 [==============================] - 0s 107ms/step - loss: 0.0416 - accuracy: 1.0000 - val_loss: 0.7031 - val_accuracy: 0.7500\n",
            "Epoch 125/200\n",
            "1/1 [==============================] - 0s 73ms/step - loss: 0.0406 - accuracy: 1.0000 - val_loss: 0.7009 - val_accuracy: 0.7500\n",
            "Epoch 126/200\n",
            "1/1 [==============================] - 0s 60ms/step - loss: 0.0365 - accuracy: 1.0000 - val_loss: 0.6995 - val_accuracy: 0.7500\n",
            "Epoch 127/200\n",
            "1/1 [==============================] - 0s 59ms/step - loss: 0.0539 - accuracy: 1.0000 - val_loss: 0.6984 - val_accuracy: 0.7500\n",
            "Epoch 128/200\n",
            "1/1 [==============================] - 0s 62ms/step - loss: 0.0393 - accuracy: 1.0000 - val_loss: 0.6966 - val_accuracy: 0.7500\n",
            "Epoch 129/200\n",
            "1/1 [==============================] - 0s 59ms/step - loss: 0.0491 - accuracy: 1.0000 - val_loss: 0.6946 - val_accuracy: 0.7500\n",
            "Epoch 130/200\n",
            "1/1 [==============================] - 0s 63ms/step - loss: 0.0459 - accuracy: 1.0000 - val_loss: 0.6934 - val_accuracy: 0.7500\n",
            "Epoch 131/200\n",
            "1/1 [==============================] - 0s 79ms/step - loss: 0.0504 - accuracy: 1.0000 - val_loss: 0.6932 - val_accuracy: 0.7500\n",
            "Epoch 132/200\n",
            "1/1 [==============================] - 0s 72ms/step - loss: 0.0264 - accuracy: 1.0000 - val_loss: 0.6919 - val_accuracy: 0.7500\n",
            "Epoch 133/200\n",
            "1/1 [==============================] - 0s 61ms/step - loss: 0.0582 - accuracy: 1.0000 - val_loss: 0.6901 - val_accuracy: 0.7500\n",
            "Epoch 134/200\n",
            "1/1 [==============================] - 0s 70ms/step - loss: 0.0383 - accuracy: 1.0000 - val_loss: 0.6880 - val_accuracy: 0.7500\n",
            "Epoch 135/200\n",
            "1/1 [==============================] - 0s 57ms/step - loss: 0.0194 - accuracy: 1.0000 - val_loss: 0.6852 - val_accuracy: 0.7500\n",
            "Epoch 136/200\n",
            "1/1 [==============================] - 0s 84ms/step - loss: 0.0952 - accuracy: 1.0000 - val_loss: 0.6828 - val_accuracy: 0.7500\n",
            "Epoch 137/200\n",
            "1/1 [==============================] - 0s 58ms/step - loss: 0.0299 - accuracy: 1.0000 - val_loss: 0.6810 - val_accuracy: 0.7500\n",
            "Epoch 138/200\n",
            "1/1 [==============================] - 0s 59ms/step - loss: 0.0346 - accuracy: 1.0000 - val_loss: 0.6791 - val_accuracy: 0.7500\n",
            "Epoch 139/200\n",
            "1/1 [==============================] - 0s 58ms/step - loss: 0.0264 - accuracy: 1.0000 - val_loss: 0.6778 - val_accuracy: 0.7500\n",
            "Epoch 140/200\n",
            "1/1 [==============================] - 0s 67ms/step - loss: 0.0280 - accuracy: 1.0000 - val_loss: 0.6772 - val_accuracy: 0.7500\n",
            "Epoch 141/200\n",
            "1/1 [==============================] - 0s 74ms/step - loss: 0.0388 - accuracy: 1.0000 - val_loss: 0.6760 - val_accuracy: 0.7500\n",
            "Epoch 142/200\n",
            "1/1 [==============================] - 0s 61ms/step - loss: 0.0692 - accuracy: 1.0000 - val_loss: 0.6749 - val_accuracy: 0.7500\n",
            "Epoch 143/200\n",
            "1/1 [==============================] - 0s 61ms/step - loss: 0.0354 - accuracy: 1.0000 - val_loss: 0.6740 - val_accuracy: 0.7500\n",
            "Epoch 144/200\n",
            "1/1 [==============================] - 0s 62ms/step - loss: 0.0601 - accuracy: 1.0000 - val_loss: 0.6724 - val_accuracy: 0.7500\n",
            "Epoch 145/200\n",
            "1/1 [==============================] - 0s 61ms/step - loss: 0.0285 - accuracy: 1.0000 - val_loss: 0.6720 - val_accuracy: 0.7500\n",
            "Epoch 146/200\n",
            "1/1 [==============================] - 0s 77ms/step - loss: 0.0358 - accuracy: 1.0000 - val_loss: 0.6720 - val_accuracy: 0.7500\n",
            "Epoch 147/200\n",
            "1/1 [==============================] - 0s 59ms/step - loss: 0.0159 - accuracy: 1.0000 - val_loss: 0.6721 - val_accuracy: 0.7500\n",
            "Epoch 148/200\n",
            "1/1 [==============================] - 0s 64ms/step - loss: 0.0374 - accuracy: 1.0000 - val_loss: 0.6714 - val_accuracy: 0.7500\n",
            "Epoch 149/200\n",
            "1/1 [==============================] - 0s 63ms/step - loss: 0.0879 - accuracy: 1.0000 - val_loss: 0.6705 - val_accuracy: 0.7500\n",
            "Epoch 150/200\n",
            "1/1 [==============================] - 0s 57ms/step - loss: 0.0342 - accuracy: 1.0000 - val_loss: 0.6701 - val_accuracy: 0.7500\n",
            "Epoch 151/200\n",
            "1/1 [==============================] - 0s 59ms/step - loss: 0.0577 - accuracy: 1.0000 - val_loss: 0.6678 - val_accuracy: 0.7500\n",
            "Epoch 152/200\n",
            "1/1 [==============================] - 0s 61ms/step - loss: 0.0205 - accuracy: 1.0000 - val_loss: 0.6666 - val_accuracy: 0.7500\n",
            "Epoch 153/200\n",
            "1/1 [==============================] - 0s 63ms/step - loss: 0.0350 - accuracy: 1.0000 - val_loss: 0.6665 - val_accuracy: 0.7500\n",
            "Epoch 154/200\n",
            "1/1 [==============================] - 0s 61ms/step - loss: 0.0625 - accuracy: 1.0000 - val_loss: 0.6656 - val_accuracy: 0.7500\n",
            "Epoch 155/200\n",
            "1/1 [==============================] - 0s 59ms/step - loss: 0.0244 - accuracy: 1.0000 - val_loss: 0.6655 - val_accuracy: 0.7500\n",
            "Epoch 156/200\n",
            "1/1 [==============================] - 0s 61ms/step - loss: 0.0170 - accuracy: 1.0000 - val_loss: 0.6649 - val_accuracy: 0.7500\n",
            "Epoch 157/200\n",
            "1/1 [==============================] - 0s 60ms/step - loss: 0.0336 - accuracy: 1.0000 - val_loss: 0.6633 - val_accuracy: 0.7500\n",
            "Epoch 158/200\n",
            "1/1 [==============================] - 0s 59ms/step - loss: 0.0335 - accuracy: 1.0000 - val_loss: 0.6617 - val_accuracy: 0.7500\n",
            "Epoch 159/200\n",
            "1/1 [==============================] - 0s 60ms/step - loss: 0.0351 - accuracy: 1.0000 - val_loss: 0.6615 - val_accuracy: 0.7500\n",
            "Epoch 160/200\n",
            "1/1 [==============================] - 0s 62ms/step - loss: 0.0227 - accuracy: 1.0000 - val_loss: 0.6590 - val_accuracy: 0.7500\n",
            "Epoch 161/200\n",
            "1/1 [==============================] - 0s 84ms/step - loss: 0.0324 - accuracy: 1.0000 - val_loss: 0.6590 - val_accuracy: 0.7500\n",
            "Epoch 162/200\n",
            "1/1 [==============================] - 0s 64ms/step - loss: 0.0192 - accuracy: 1.0000 - val_loss: 0.6586 - val_accuracy: 0.7500\n",
            "Epoch 163/200\n",
            "1/1 [==============================] - 0s 59ms/step - loss: 0.0318 - accuracy: 1.0000 - val_loss: 0.6587 - val_accuracy: 0.7500\n",
            "Epoch 164/200\n",
            "1/1 [==============================] - 0s 60ms/step - loss: 0.0142 - accuracy: 1.0000 - val_loss: 0.6581 - val_accuracy: 0.7500\n",
            "Epoch 165/200\n",
            "1/1 [==============================] - 0s 85ms/step - loss: 0.0296 - accuracy: 1.0000 - val_loss: 0.6565 - val_accuracy: 0.7500\n",
            "Epoch 166/200\n",
            "1/1 [==============================] - 0s 66ms/step - loss: 0.0192 - accuracy: 1.0000 - val_loss: 0.6551 - val_accuracy: 0.7500\n",
            "Epoch 167/200\n",
            "1/1 [==============================] - 0s 60ms/step - loss: 0.0457 - accuracy: 1.0000 - val_loss: 0.6537 - val_accuracy: 0.7500\n",
            "Epoch 168/200\n",
            "1/1 [==============================] - 0s 60ms/step - loss: 0.0252 - accuracy: 1.0000 - val_loss: 0.6543 - val_accuracy: 0.7500\n",
            "Epoch 169/200\n",
            "1/1 [==============================] - 0s 82ms/step - loss: 0.0263 - accuracy: 1.0000 - val_loss: 0.6531 - val_accuracy: 0.7500\n",
            "Epoch 170/200\n",
            "1/1 [==============================] - 0s 80ms/step - loss: 0.0175 - accuracy: 1.0000 - val_loss: 0.6532 - val_accuracy: 0.7500\n",
            "Epoch 171/200\n",
            "1/1 [==============================] - 0s 64ms/step - loss: 0.0241 - accuracy: 1.0000 - val_loss: 0.6527 - val_accuracy: 0.7500\n",
            "Epoch 172/200\n",
            "1/1 [==============================] - 0s 61ms/step - loss: 0.0540 - accuracy: 1.0000 - val_loss: 0.6522 - val_accuracy: 0.7500\n",
            "Epoch 173/200\n",
            "1/1 [==============================] - 0s 64ms/step - loss: 0.0198 - accuracy: 1.0000 - val_loss: 0.6525 - val_accuracy: 0.7500\n",
            "Epoch 174/200\n",
            "1/1 [==============================] - 0s 69ms/step - loss: 0.0208 - accuracy: 1.0000 - val_loss: 0.6519 - val_accuracy: 0.7500\n",
            "Epoch 175/200\n",
            "1/1 [==============================] - 0s 81ms/step - loss: 0.0335 - accuracy: 1.0000 - val_loss: 0.6513 - val_accuracy: 0.7500\n",
            "Epoch 176/200\n",
            "1/1 [==============================] - 0s 80ms/step - loss: 0.0320 - accuracy: 1.0000 - val_loss: 0.6514 - val_accuracy: 0.7500\n",
            "Epoch 177/200\n",
            "1/1 [==============================] - 0s 65ms/step - loss: 0.0255 - accuracy: 1.0000 - val_loss: 0.6518 - val_accuracy: 0.7500\n",
            "Epoch 178/200\n",
            "1/1 [==============================] - 0s 61ms/step - loss: 0.0312 - accuracy: 1.0000 - val_loss: 0.6506 - val_accuracy: 0.7500\n",
            "Epoch 179/200\n",
            "1/1 [==============================] - 0s 58ms/step - loss: 0.0381 - accuracy: 1.0000 - val_loss: 0.6501 - val_accuracy: 0.7500\n",
            "Epoch 180/200\n",
            "1/1 [==============================] - 0s 61ms/step - loss: 0.0315 - accuracy: 1.0000 - val_loss: 0.6495 - val_accuracy: 0.7500\n",
            "Epoch 181/200\n",
            "1/1 [==============================] - 0s 61ms/step - loss: 0.0119 - accuracy: 1.0000 - val_loss: 0.6486 - val_accuracy: 0.7500\n",
            "Epoch 182/200\n",
            "1/1 [==============================] - 0s 70ms/step - loss: 0.0306 - accuracy: 1.0000 - val_loss: 0.6471 - val_accuracy: 0.7500\n",
            "Epoch 183/200\n",
            "1/1 [==============================] - 0s 60ms/step - loss: 0.0241 - accuracy: 1.0000 - val_loss: 0.6475 - val_accuracy: 0.7500\n",
            "Epoch 184/200\n",
            "1/1 [==============================] - 0s 62ms/step - loss: 0.0407 - accuracy: 1.0000 - val_loss: 0.6468 - val_accuracy: 0.7500\n",
            "Epoch 185/200\n",
            "1/1 [==============================] - 0s 79ms/step - loss: 0.0588 - accuracy: 1.0000 - val_loss: 0.6470 - val_accuracy: 0.7500\n",
            "Epoch 186/200\n",
            "1/1 [==============================] - 0s 78ms/step - loss: 0.0205 - accuracy: 1.0000 - val_loss: 0.6469 - val_accuracy: 0.7500\n",
            "Epoch 187/200\n",
            "1/1 [==============================] - 0s 65ms/step - loss: 0.0194 - accuracy: 1.0000 - val_loss: 0.6471 - val_accuracy: 0.7500\n",
            "Epoch 188/200\n",
            "1/1 [==============================] - 0s 66ms/step - loss: 0.0356 - accuracy: 1.0000 - val_loss: 0.6446 - val_accuracy: 0.7500\n",
            "Epoch 189/200\n",
            "1/1 [==============================] - 0s 83ms/step - loss: 0.0120 - accuracy: 1.0000 - val_loss: 0.6436 - val_accuracy: 0.7500\n",
            "Epoch 190/200\n",
            "1/1 [==============================] - 0s 75ms/step - loss: 0.0162 - accuracy: 1.0000 - val_loss: 0.6434 - val_accuracy: 0.7500\n",
            "Epoch 191/200\n",
            "1/1 [==============================] - 0s 85ms/step - loss: 0.0238 - accuracy: 1.0000 - val_loss: 0.6427 - val_accuracy: 0.7500\n",
            "Epoch 192/200\n",
            "1/1 [==============================] - 0s 77ms/step - loss: 0.0187 - accuracy: 1.0000 - val_loss: 0.6424 - val_accuracy: 0.7500\n",
            "Epoch 193/200\n",
            "1/1 [==============================] - 0s 61ms/step - loss: 0.0168 - accuracy: 1.0000 - val_loss: 0.6428 - val_accuracy: 0.7500\n",
            "Epoch 194/200\n",
            "1/1 [==============================] - 0s 62ms/step - loss: 0.0137 - accuracy: 1.0000 - val_loss: 0.6441 - val_accuracy: 0.7500\n",
            "Epoch 195/200\n",
            "1/1 [==============================] - 0s 80ms/step - loss: 0.0113 - accuracy: 1.0000 - val_loss: 0.6438 - val_accuracy: 0.7500\n",
            "Epoch 196/200\n",
            "1/1 [==============================] - 0s 60ms/step - loss: 0.0135 - accuracy: 1.0000 - val_loss: 0.6433 - val_accuracy: 0.7500\n",
            "Epoch 197/200\n",
            "1/1 [==============================] - 0s 82ms/step - loss: 0.0356 - accuracy: 1.0000 - val_loss: 0.6423 - val_accuracy: 0.7500\n",
            "Epoch 198/200\n",
            "1/1 [==============================] - 0s 63ms/step - loss: 0.0144 - accuracy: 1.0000 - val_loss: 0.6438 - val_accuracy: 0.7500\n",
            "Epoch 199/200\n",
            "1/1 [==============================] - 0s 68ms/step - loss: 0.0139 - accuracy: 1.0000 - val_loss: 0.6442 - val_accuracy: 0.7500\n",
            "Epoch 200/200\n",
            "1/1 [==============================] - 0s 84ms/step - loss: 0.0076 - accuracy: 1.0000 - val_loss: 0.6451 - val_accuracy: 0.7500\n"
          ]
        }
      ]
    },
    {
      "cell_type": "code",
      "source": [
        "plot_model_history(model_history)"
      ],
      "metadata": {
        "id": "KhOL8wcYstJq",
        "colab": {
          "base_uri": "https://localhost:8080/",
          "height": 494
        },
        "outputId": "6413786a-a085-49a7-ed36-95ae4d034075"
      },
      "execution_count": null,
      "outputs": [
        {
          "output_type": "display_data",
          "data": {
            "text/plain": [
              "<Figure size 1400x500 with 2 Axes>"
            ],
            "image/png": "[encoded data removed]"
          },
          "metadata": {}
        }
      ]
    },
    {
      "cell_type": "code",
      "source": [
        "model.save(\"lab15_model.h5\")"
      ],
      "metadata": {
        "id": "5Sncq7IUCIaa"
      },
      "execution_count": null,
      "outputs": []
    },
    {
      "cell_type": "code",
      "source": [
        "# loading the saved model\n",
        "path = Path(\"/content/drive/MyDrive/Colab Notebooks/AI/Other files/lab15_model.h5\")\n",
        "model = load_model(path)"
      ],
      "metadata": {
        "id": "SznYvPZLn6tj"
      },
      "execution_count": null,
      "outputs": []
    },
    {
      "cell_type": "code",
      "source": [
        "query(\"Привет\", cleared_list_vocabulary_words, \n",
        "      list_tags, my_intents, show_details=True)"
      ],
      "metadata": {
        "id": "NN97-ucxLYxJ",
        "colab": {
          "base_uri": "https://localhost:8080/"
        },
        "outputId": "3c5d0d3b-9fc8-4fcb-a690-b325d2ee32a8"
      },
      "execution_count": null,
      "outputs": [
        {
          "output_type": "stream",
          "name": "stdout",
          "text": [
            "bag_words for the text: [[0 0 0 0 0 0 0 0 0 0 0 0 0 0 0 1 0 0 0 0 0 0 0 0 0 0 0]]\n",
            "1/1 [==============================] - 0s 22ms/step\n",
            "tag: приветствие\n",
            "Здравствуйте, спасибо за визит\n"
          ]
        }
      ]
    },
    {
      "cell_type": "code",
      "source": [
        "query(\"Как дела\", cleared_list_vocabulary_words, \n",
        "      list_tags, my_intents, show_details=True)"
      ],
      "metadata": {
        "colab": {
          "base_uri": "https://localhost:8080/"
        },
        "id": "HY0vQ4oKXQEK",
        "outputId": "5789f664-3eb4-42a6-8f85-da1708c7b224"
      },
      "execution_count": null,
      "outputs": [
        {
          "output_type": "stream",
          "name": "stdout",
          "text": [
            "bag_words for the text: [[0 0 1 0 0 0 0 0 0 0 0 0 0 0 0 0 0 0 0 0 0 0 0 0 0 0 0]]\n",
            "1/1 [==============================] - 0s 23ms/step\n",
            "tag: приветствие\n",
            "Рад вас снова видеть\n"
          ]
        }
      ]
    },
    {
      "cell_type": "code",
      "source": [
        "query(\"Где я могу найти уроки?\", cleared_list_vocabulary_words, \n",
        "      list_tags, my_intents, show_details=True)"
      ],
      "metadata": {
        "colab": {
          "base_uri": "https://localhost:8080/"
        },
        "id": "ZCePefIkWbzh",
        "outputId": "54ec4c6f-92fa-4a13-c62d-ea837102cb83"
      },
      "execution_count": null,
      "outputs": [
        {
          "output_type": "stream",
          "name": "stdout",
          "text": [
            "bag_words for the text: [[0 0 0 0 0 0 0 0 1 1 0 0 0 0 0 0 0 0 0 0 0 0 0 0 1 0 0]]\n",
            "1/1 [==============================] - 0s 43ms/step\n",
            "tag: уроки\n",
            "Вы можете просмотреть все имеющиеся на сайте уроки в разделе \"Каталог уроков\"\n"
          ]
        }
      ]
    },
    {
      "cell_type": "code",
      "source": [
        "query(\"Спасибо\", cleared_list_vocabulary_words, \n",
        "      list_tags, my_intents, show_details=True)"
      ],
      "metadata": {
        "colab": {
          "base_uri": "https://localhost:8080/"
        },
        "id": "WaBUqCo5W8XM",
        "outputId": "2096a412-3d5d-4638-ab7f-a9e39c749d25"
      },
      "execution_count": null,
      "outputs": [
        {
          "output_type": "stream",
          "name": "stdout",
          "text": [
            "bag_words for the text: [[0 0 0 0 0 0 0 0 0 0 0 0 0 0 0 0 0 0 0 0 0 1 0 0 0 0 0]]\n",
            "1/1 [==============================] - 0s 23ms/step\n",
            "tag: спасибо\n",
            "Рады помочь!\n"
          ]
        }
      ]
    }
  ]
}