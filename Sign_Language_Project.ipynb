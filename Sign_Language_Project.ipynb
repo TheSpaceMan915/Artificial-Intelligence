{
  "nbformat": 4,
  "nbformat_minor": 0,
  "metadata": {
    "colab": {
      "provenance": [],
      "collapsed_sections": [
        "p6rHvPmYcU_P"
      ],
      "gpuType": "T4",
      "toc_visible": true,
      "mount_file_id": "1_N3oo2RhNhVOxuSHvZYoo_TYcmY0tCxA",
      "authorship_tag": "ABX9TyNQ8ibP+IobkCkhMfIQA31Q",
      "include_colab_link": true
    },
    "kernelspec": {
      "name": "python3",
      "display_name": "Python 3"
    },
    "language_info": {
      "name": "python"
    }
  },
  "cells": [
    {
      "cell_type": "markdown",
      "metadata": {
        "id": "view-in-github",
        "colab_type": "text"
      },
      "source": [
        "<a href=\"https://colab.research.google.com/github/TheSpaceMan915/artificial-intelligence/blob/main/Sign_Language_Project.ipynb\" target=\"_parent\"><img src=\"https://colab.research.google.com/assets/colab-badge.svg\" alt=\"Open In Colab\"/></a>"
      ]
    },
    {
      "cell_type": "markdown",
      "source": [
        "# **Imports**"
      ],
      "metadata": {
        "id": "G5NE-7mCT9fY"
      }
    },
    {
      "cell_type": "code",
      "execution_count": null,
      "metadata": {
        "id": "OFpFNQW0iOpQ"
      },
      "outputs": [],
      "source": [
        "import pandas as pd\n",
        "import numpy as np\n",
        "import matplotlib.pyplot as plt\n",
        "import random\n",
        "from pathlib import Path\n",
        "from joblib import dump, load\n",
        "from sklearn.preprocessing import LabelBinarizer\n",
        "from sklearn.model_selection import KFold, cross_val_score, \\\n",
        "LeaveOneOut\n",
        "from sklearn.tree import DecisionTreeClassifier\n",
        "from sklearn.ensemble import AdaBoostClassifier, \\\n",
        "HistGradientBoostingClassifier, RandomForestClassifier\n",
        "from tensorflow.keras.preprocessing.image import ImageDataGenerator\n",
        "from tensorflow.keras.utils import plot_model\n",
        "from tensorflow.keras.saving import load_model\n",
        "from tensorflow.keras.callbacks import ReduceLROnPlateau\n",
        "from tensorflow.keras.optimizers import SGD\n",
        "from tensorflow.keras.models import Model, Sequential\n",
        "from tensorflow.keras.layers import Dense, BatchNormalization, \\\n",
        "Dropout, Conv2D, MaxPooling2D, Input, ReLU, Softmax, Flatten, \\\n",
        "RandomFlip, RandomRotation, RandomZoom"
      ]
    },
    {
      "cell_type": "markdown",
      "source": [
        "# **Image Functions**"
      ],
      "metadata": {
        "id": "dSFrjeJXyLw5"
      }
    },
    {
      "cell_type": "code",
      "source": [
        "def show_dataset_images(dataset_images):\n",
        "  plt.figure(figsize=(10, 10))\n",
        "  for i in range(25):\n",
        "    plt.subplot(5, 5, i + 1)\n",
        "    plt.xticks([])\n",
        "    plt.yticks([])\n",
        "    plt.grid(False)\n",
        "    plt.imshow(dataset_images[i], cmap=plt.cm.binary)\n",
        "    plt.tight_layout()"
      ],
      "metadata": {
        "id": "ILwk6Z2SyLLR"
      },
      "execution_count": null,
      "outputs": []
    },
    {
      "cell_type": "code",
      "source": [
        "def normalize_img(arr_img):\n",
        "  arr_img = arr_img.astype(\"float32\")\n",
        "  arr_img /= 255\n",
        "  return arr_img"
      ],
      "metadata": {
        "id": "ZiBFGwo_Hrv0"
      },
      "execution_count": null,
      "outputs": []
    },
    {
      "cell_type": "code",
      "source": [
        "def reshape_img(arr_img):\n",
        "  arr_img = arr_img.reshape(-1, 28, 28, 1)\n",
        "  return arr_img"
      ],
      "metadata": {
        "id": "trW_ZqRCIr8J"
      },
      "execution_count": null,
      "outputs": []
    },
    {
      "cell_type": "markdown",
      "source": [
        "# **Model Functions**"
      ],
      "metadata": {
        "id": "1oPS9vnB1ejk"
      }
    },
    {
      "cell_type": "code",
      "source": [
        "# creating an optimizer (SGD) with Time-Based Learning Rate Schedule\n",
        "def create_optimizer(n_epochs):\n",
        "  learning_rate = 0.1\n",
        "  decay_rate = learning_rate / n_epochs\n",
        "  momentum = 0.8\n",
        "  \n",
        "  sgd = SGD(learning_rate, momentum, weight_decay=decay_rate)\n",
        "  return sgd"
      ],
      "metadata": {
        "id": "9C085uslAP-_"
      },
      "execution_count": null,
      "outputs": []
    },
    {
      "cell_type": "code",
      "source": [
        "def create_model(n_epochs, input_layer_shape=(28, 28, 1), n_classes=24):\n",
        "  inputs = Input(input_layer_shape)\n",
        "  x = Conv2D(16, (3,3), strides=1, padding = \"same\")(inputs)\n",
        "  x = BatchNormalization()(x)\n",
        "  x = ReLU()(x)\n",
        "  x = MaxPooling2D((2,2), strides = 2, padding = \"same\")(x)\n",
        "\n",
        "  x = Conv2D(32, (3,3), strides=1, padding = \"same\")(x)\n",
        "  x = BatchNormalization()(x)\n",
        "  x = ReLU()(x)\n",
        "  x = MaxPooling2D((2,2), strides = 2, padding = \"same\")(x)\n",
        "\n",
        "  x = Conv2D(64, (3,3), strides=1, padding = \"same\")(x)\n",
        "  x = BatchNormalization()(x)\n",
        "  x = ReLU()(x)\n",
        "  x = MaxPooling2D((2,2), strides = 2, padding = \"same\")(x)\n",
        "  x = Flatten()(x)\n",
        "\n",
        "  x = Dense(64, kernel_initializer=\"he_uniform\")(x)\n",
        "  x = BatchNormalization()(x)\n",
        "  x = ReLU()(x)\n",
        "  x = Dropout(0.2)(x)\n",
        "\n",
        "  x = Dense(32, kernel_initializer=\"he_uniform\")(x)\n",
        "  x = BatchNormalization()(x)\n",
        "  x = ReLU()(x)\n",
        "  x = Dropout(0.2)(x)\n",
        "\n",
        "  x = Dense(n_classes)(x)\n",
        "  outputs = Softmax()(x)\n",
        "  \n",
        "  model = Model(inputs, outputs)\n",
        "  # sgd = create_optimizer(n_epochs)\n",
        "  # model.compile(optimizer=sgd, loss=\"categorical_crossentropy\", metrics=[\"accuracy\"])\n",
        "\n",
        "  model.compile(optimizer=\"adam\", loss=\"categorical_crossentropy\", metrics=[\"accuracy\"])\n",
        "  return model"
      ],
      "metadata": {
        "id": "ETMVotDy1eII"
      },
      "execution_count": null,
      "outputs": []
    },
    {
      "cell_type": "code",
      "source": [
        "def create_model_with_data_augmentation(n_epochs, input_layer_shape=(28, 28, 1), n_classes=24):\n",
        "  inputs = Input(input_layer_shape)\n",
        "  # data_augmentation = Sequential([\n",
        "  #     RandomFlip(\"horizontal_and_vertical\"),\n",
        "  #     RandomRotation(0.2),\n",
        "  #     RandomZoom(0.1)\n",
        "  #     ])\n",
        "  \n",
        "  # x = data_augmentation(inputs)\n",
        "  x = Conv2D(16, (3,3), strides=1, padding = \"same\")(x)\n",
        "  x = BatchNormalization()(x)\n",
        "  x = ReLU()(x)\n",
        "  x = MaxPooling2D((2,2), strides = 2, padding = \"same\")(x)\n",
        "\n",
        "  x = Conv2D(32, (3,3), strides=1, padding = \"same\")(x)\n",
        "  x = BatchNormalization()(x)\n",
        "  x = ReLU()(x)\n",
        "  x = MaxPooling2D((2,2), strides = 2, padding = \"same\")(x)\n",
        "\n",
        "  x = Conv2D(64, (3,3), strides=1, padding = \"same\")(x)\n",
        "  x = BatchNormalization()(x)\n",
        "  x = ReLU()(x)\n",
        "  x = MaxPooling2D((2,2), strides = 2, padding = \"same\")(x)\n",
        "  x = Flatten()(x)\n",
        "\n",
        "  x = Dense(64, kernel_initializer=\"he_uniform\")(x)\n",
        "  x = BatchNormalization()(x)\n",
        "  x = ReLU()(x)\n",
        "  x = Dropout(0.2)(x)\n",
        "\n",
        "  x = Dense(32, kernel_initializer=\"he_uniform\")(x)\n",
        "  x = BatchNormalization()(x)\n",
        "  x = ReLU()(x)\n",
        "  x = Dropout(0.2)(x)\n",
        "\n",
        "  x = Dense(n_classes)(x)\n",
        "  outputs = Softmax()(x)\n",
        "  \n",
        "  model = Model(inputs, outputs)\n",
        "  sgd = create_optimizer(n_epochs)\n",
        "  model.compile(optimizer=sgd, loss=\"categorical_crossentropy\", metrics=[\"accuracy\"])\n",
        "  return model"
      ],
      "metadata": {
        "id": "MdM-QmECYWAl"
      },
      "execution_count": null,
      "outputs": []
    },
    {
      "cell_type": "code",
      "source": [
        "def test_ml_model_accuracy(model, train_dataset, test_dataset, train_labels, test_labels):\n",
        "  train_accuracy = model.score(train_dataset, train_labels)\n",
        "  test_accuracy = model.score(test_dataset, test_labels)\n",
        "  print(f\"train_accuracy: {train_accuracy:.3f}\")  \n",
        "  print(f\"test_accuracy: {test_accuracy:.3f}\")"
      ],
      "metadata": {
        "id": "UOOWO5tXb6Sh"
      },
      "execution_count": null,
      "outputs": []
    },
    {
      "cell_type": "code",
      "source": [
        "def evaluate_model(model, dataset, labels, cross_validator):\n",
        "  # evaluating the model\n",
        "  arr_scores = cross_val_score(model, dataset,\n",
        "                                labels, scoring=\"accuracy\",\n",
        "                                cv=cross_validator, n_jobs=-1,\n",
        "                               error_score=\"raise\")\n",
        "  \n",
        "  return arr_scores.mean(), arr_scores.min(), arr_scores.max()"
      ],
      "metadata": {
        "id": "IV6-ROJI1KRw"
      },
      "execution_count": null,
      "outputs": []
    },
    {
      "cell_type": "code",
      "source": [
        "# evaluating the model using a test condition that represents an \"ideal\"\n",
        "# or as-best-as-we-can-achieve estimate of model performance\n",
        "def perform_leave_one_out_cross_validation(model, dataset, labels):\n",
        "  ideal_score, _, _ = evaluate_model(model, dataset, labels, LeaveOneOut())\n",
        "  print(\"ideal_score: %.3f\" % ideal_score)\n",
        "  return ideal_score"
      ],
      "metadata": {
        "id": "HB1MOUVSoK-U"
      },
      "execution_count": null,
      "outputs": []
    },
    {
      "cell_type": "code",
      "source": [
        "def cross_validate_model(model, dataset, labels, folds):\n",
        "  list_means, list_mins, list_maxs = list(), list(), list()\n",
        "  \n",
        "  for k in folds:\n",
        "    cross_validator = KFold(n_splits=k, shuffle=True, random_state=1)\n",
        "    mean_score, min_score, max_score = evaluate_model(model, dataset, labels, cross_validator)\n",
        "    print(\"> folds=%d, mean_score=%.3f (min_score=%.3f, max_score=%.3f)\" % k, mean_score, min_score, max_score)\n",
        "\n",
        "    list_means.append(mean_score)\n",
        "    list_mins.append(min_score)\n",
        "    list_maxs.append(max_score)\n",
        "\n",
        "  return list_means, list_mins, list_maxs"
      ],
      "metadata": {
        "id": "pcTk0qn5zUCx"
      },
      "execution_count": null,
      "outputs": []
    },
    {
      "cell_type": "markdown",
      "source": [
        "# **Plotting Functions**"
      ],
      "metadata": {
        "id": "ul52yKAZ7iQc"
      }
    },
    {
      "cell_type": "code",
      "source": [
        "def plot_model_history(model_history, title):\n",
        "    fig, (axes1, axes2) = plt.subplots(1, 2, figsize=(14, 5))\n",
        "    plt.rcParams.update({\"font.size\": 14, \"font.family\": \"serif\"})\n",
        "\n",
        "    axes1.plot(model_history.history[\"accuracy\"], label=\"accuracy\")\n",
        "    axes1.plot(model_history.history[\"val_accuracy\"], label=\"val_accuracy\")\n",
        "    axes1.set(title=\"Accuracy of the model\")\n",
        "    axes1.set(xlabel=\"Epoch\")\n",
        "    axes1.set(ylabel=\"Accuracy\")\n",
        "    axes1.legend(loc=4)\n",
        "\n",
        "    axes2.plot(model_history.history[\"loss\"], label=\"loss\")\n",
        "    axes2.plot(model_history.history[\"val_loss\"], label=\"val_loss\")\n",
        "    axes2.set(title=\"Losses of the model\")\n",
        "    axes2.set(xlabel=\"Epoch\")\n",
        "    axes2.set(ylabel=\"Loss\")\n",
        "    axes2.legend(loc=1)\n",
        "\n",
        "    fig.tight_layout()\n",
        "    plt.savefig(title)"
      ],
      "metadata": {
        "id": "so0tEdFl7mPg"
      },
      "execution_count": null,
      "outputs": []
    },
    {
      "cell_type": "code",
      "source": [
        "def plot_cross_validation_results(folds, ideal_score, list_means,list_mins, list_maxs, title):\n",
        "  plt.errorbar(folds, list_means, yerr=[list_mins, list_maxs], fmt=\"o\")\n",
        "  plt.plot(folds, [ideal_score for _ in range(len(folds))], color=\"coral\")\n",
        "  \n",
        "  plt.rcParams.update({\"font.size\": 14, \"font.family\": \"serif\"})\n",
        "  plt.title(\"Cross validation results\")\n",
        "  plt.savefig(title)"
      ],
      "metadata": {
        "id": "re_UfuXXOdeQ"
      },
      "execution_count": null,
      "outputs": []
    },
    {
      "cell_type": "markdown",
      "source": [
        "# **MobileNetV2 Functions**"
      ],
      "metadata": {
        "id": "p6rHvPmYcU_P"
      }
    },
    {
      "cell_type": "code",
      "source": [
        "# def create_expansion_block(x,t,filters,block_id):\n",
        "#     prefix = \"block_{}_\".format(block_id)\n",
        "#     total_filters = t*filters\n",
        "#     # print(total_filters)\n",
        "#     x = Conv2D(total_filters,1,padding=\"same\",use_bias=False, name = prefix +\"expand\")(x)\n",
        "#     x = BatchNormalization(name=prefix +\"expand_bn\")(x)\n",
        "#     x = ReLU(6,name = prefix +\"expand_relu\")(x)\n",
        "#     return x\n",
        "\n",
        "# def create_depthwise_block(x,stride,block_id):\n",
        "#     prefix = \"block_{}_\".format(block_id)\n",
        "#     x = DepthwiseConv2D(3,strides=(stride,stride),padding =\"same\", use_bias = False, name = prefix + \"depthwise_conv\")(x)\n",
        "#     x = BatchNormalization(name=prefix +\"dw_bn\")(x)\n",
        "#     x = ReLU(6,name=prefix +\"dw_relu\")(x)\n",
        "#     return x\n",
        "\n",
        "# def create_projection_block(x,out_channels,block_id):\n",
        "#     prefix = \"block_{}_\".format(block_id)\n",
        "#     x = Conv2D(filters = out_channels,kernel_size = 1,padding=\"same\",use_bias=False,name= prefix + \"compress\")(x)\n",
        "#     x = BatchNormalization(name=prefix +\"compress_bn\")(x)\n",
        "#     return x"
      ],
      "metadata": {
        "id": "0KTienEHx8MK"
      },
      "execution_count": null,
      "outputs": []
    },
    {
      "cell_type": "code",
      "source": [
        "# def create_bottleneck(x,t,filters, out_channels,stride,block_id):\n",
        "#     y = create_expansion_block(x,t,filters,block_id)\n",
        "#     y = create_depthwise_block(y,stride,block_id)\n",
        "#     y = create_projection_block(y, out_channels,block_id)\n",
        "#     if y.shape[-1]==x.shape[-1]:\n",
        "#         y = add([x,y])\n",
        "#     return y"
      ],
      "metadata": {
        "id": "xGGE8z4ryQSH"
      },
      "execution_count": null,
      "outputs": []
    },
    {
      "cell_type": "code",
      "source": [
        "# # initial shape: (28,28,1) \n",
        "# # mobilenetv2 shape: (224,224,3)\n",
        "# def create_mobilenetv2(input_image_shape = (28,28,1), n_classes=25):\n",
        "#   input = Input(input_image_shape)\n",
        "#   x = Conv2D(32,kernel_size=3,strides=(2,2),padding = 'same', use_bias=False)(input)\n",
        "#   x = BatchNormalization(name='conv1_bn')(x)\n",
        "#   x = ReLU(6, name = 'conv1_relu')(x)\n",
        "\n",
        "#   # 17 bottleneck layers\n",
        "#   x = create_depthwise_block(x,stride=1,block_id=1)\n",
        "#   x = create_projection_block(x, out_channels=16,block_id=1)\n",
        "\n",
        "#   x = create_bottleneck(x, t = 6, filters = x.shape[-1], out_channels = 24, stride = 2,block_id = 2)\n",
        "#   x = create_bottleneck(x, t = 6, filters = x.shape[-1], out_channels = 24, stride = 1,block_id = 3)\n",
        "\n",
        "#   x = create_bottleneck(x, t = 6, filters = x.shape[-1], out_channels = 32, stride = 2,block_id = 4)\n",
        "#   x = create_bottleneck(x, t = 6, filters = x.shape[-1], out_channels = 32, stride = 1,block_id = 5)\n",
        "#   x = create_bottleneck(x, t = 6, filters = x.shape[-1], out_channels = 32, stride = 1,block_id = 6)\n",
        "\n",
        "#   x = create_bottleneck(x, t = 6, filters = x.shape[-1], out_channels = 64, stride = 2,block_id = 7)\n",
        "#   x = create_bottleneck(x, t = 6, filters = x.shape[-1], out_channels = 64, stride = 1,block_id = 8)\n",
        "#   x = create_bottleneck(x, t = 6, filters = x.shape[-1], out_channels = 64, stride = 1,block_id = 9)\n",
        "#   x = create_bottleneck(x, t = 6, filters = x.shape[-1], out_channels = 64, stride = 1,block_id = 10)\n",
        "\n",
        "#   x = create_bottleneck(x, t = 6, filters = x.shape[-1], out_channels = 96, stride = 1,block_id = 11)\n",
        "#   x = create_bottleneck(x, t = 6, filters = x.shape[-1], out_channels = 96, stride = 1,block_id = 12)\n",
        "#   x = create_bottleneck(x, t = 6, filters = x.shape[-1], out_channels = 96, stride = 1,block_id = 13)\n",
        "\n",
        "#   x = create_bottleneck(x, t = 6, filters = x.shape[-1], out_channels = 160, stride = 2,block_id = 14)\n",
        "#   x = create_bottleneck(x, t = 6, filters = x.shape[-1], out_channels = 160, stride = 1,block_id = 15)\n",
        "#   x = create_bottleneck(x, t = 6, filters = x.shape[-1], out_channels = 160, stride = 1,block_id = 16)\n",
        "\n",
        "#   x = create_bottleneck(x, t = 6, filters = x.shape[-1], out_channels = 320, stride = 1,block_id = 17)\n",
        "\n",
        "#   # 1*1 convolution\n",
        "#   x = Conv2D(filters = 1280,kernel_size = 1,padding='same',use_bias=False, name = 'last_conv')(x)\n",
        "#   x = BatchNormalization(name='last_bn')(x)\n",
        "#   x = ReLU(6,name='last_relu')(x)\n",
        "\n",
        "#   # AveragePooling 7*7\n",
        "#   x = GlobalAveragePooling2D(name='global_average_pool')(x)\n",
        "\n",
        "#   output = Dense(n_classes,activation='softmax')(x)\n",
        "#   model = Model(input, output)\n",
        "\n",
        "#   model.compile(optimizer=\"adam\", loss=\"categorical_crossentropy\", metrics=[\"accuracy\"])\n",
        "#   return model"
      ],
      "metadata": {
        "id": "AStZgPKG6HQJ"
      },
      "execution_count": null,
      "outputs": []
    },
    {
      "cell_type": "code",
      "source": [
        "# create_mobilenetv2()\n",
        "# was checking the number of filters in each convolution layer:"
      ],
      "metadata": {
        "id": "CJKiOj121z2x"
      },
      "execution_count": null,
      "outputs": []
    },
    {
      "cell_type": "markdown",
      "source": [
        "# **Loading Data**"
      ],
      "metadata": {
        "id": "CHRdVylLizVc"
      }
    },
    {
      "cell_type": "code",
      "execution_count": null,
      "metadata": {
        "colab": {
          "base_uri": "https://localhost:8080/"
        },
        "id": "j1SJlpQgqO8S",
        "outputId": "c5c42ce8-12c5-49d0-cf8f-23b424b7cda1"
      },
      "outputs": [
        {
          "output_type": "stream",
          "name": "stdout",
          "text": [
            "Looking in indexes: https://pypi.org/simple, https://us-python.pkg.dev/colab-wheels/public/simple/\n",
            "Requirement already satisfied: kaggle in /usr/local/lib/python3.10/dist-packages (1.5.13)\n",
            "Requirement already satisfied: six>=1.10 in /usr/local/lib/python3.10/dist-packages (from kaggle) (1.16.0)\n",
            "Requirement already satisfied: certifi in /usr/local/lib/python3.10/dist-packages (from kaggle) (2022.12.7)\n",
            "Requirement already satisfied: python-dateutil in /usr/local/lib/python3.10/dist-packages (from kaggle) (2.8.2)\n",
            "Requirement already satisfied: requests in /usr/local/lib/python3.10/dist-packages (from kaggle) (2.27.1)\n",
            "Requirement already satisfied: tqdm in /usr/local/lib/python3.10/dist-packages (from kaggle) (4.65.0)\n",
            "Requirement already satisfied: python-slugify in /usr/local/lib/python3.10/dist-packages (from kaggle) (8.0.1)\n",
            "Requirement already satisfied: urllib3 in /usr/local/lib/python3.10/dist-packages (from kaggle) (1.26.15)\n",
            "Requirement already satisfied: text-unidecode>=1.3 in /usr/local/lib/python3.10/dist-packages (from python-slugify->kaggle) (1.3)\n",
            "Requirement already satisfied: charset-normalizer~=2.0.0 in /usr/local/lib/python3.10/dist-packages (from requests->kaggle) (2.0.12)\n",
            "Requirement already satisfied: idna<4,>=2.5 in /usr/local/lib/python3.10/dist-packages (from requests->kaggle) (3.4)\n"
          ]
        }
      ],
      "source": [
        "# don't forget to load kaggle.json to the content folder before\n",
        "!pip install kaggle\n",
        "!rm -r ~/.kaggle\n",
        "!mkdir ~/.kaggle"
      ]
    },
    {
      "cell_type": "code",
      "execution_count": null,
      "metadata": {
        "id": "tKI_IjFPe33P"
      },
      "outputs": [],
      "source": [
        "!cp /content/kaggle.json ~/.kaggle/\n",
        "!chmod 600 ~/.kaggle/kaggle.json"
      ]
    },
    {
      "cell_type": "code",
      "execution_count": null,
      "metadata": {
        "colab": {
          "base_uri": "https://localhost:8080/"
        },
        "id": "WZ7OfvPcTz-b",
        "outputId": "5f750f55-1b00-465a-939c-0f646387f7a7"
      },
      "outputs": [
        {
          "output_type": "stream",
          "name": "stdout",
          "text": [
            "Downloading sign-language-mnist.zip to /content\n",
            " 67% 42.0M/62.6M [00:00<00:00, 142MB/s]\n",
            "100% 62.6M/62.6M [00:00<00:00, 152MB/s]\n"
          ]
        }
      ],
      "source": [
        "!kaggle datasets download -d datamunge/sign-language-mnist"
      ]
    },
    {
      "cell_type": "code",
      "execution_count": null,
      "metadata": {
        "id": "otonmf9jga0l",
        "colab": {
          "base_uri": "https://localhost:8080/"
        },
        "outputId": "51d04620-84a3-4198-f4c7-29c5dbd2ffb1"
      },
      "outputs": [
        {
          "output_type": "stream",
          "name": "stdout",
          "text": [
            "mkdir: cannot create directory ‘datasets’: File exists\n"
          ]
        }
      ],
      "source": [
        "!mkdir datasets\n",
        "!mv /content/sign-language-mnist.zip  /content/datasets\n",
        "!unzip -q /content/datasets/sign-language-mnist.zip -d /content/datasets\n",
        "!rm -rf /content/datasets/sign-language-mnist.zip"
      ]
    },
    {
      "cell_type": "code",
      "source": [
        "path_train_dataset = Path(\"/content/datasets/sign_mnist_train.csv\")\n",
        "path_test_dataset = Path(\"/content/datasets/sign_mnist_test.csv\")\n",
        "train_df = pd.read_csv(path_train_dataset)\n",
        "test_df = pd.read_csv(path_test_dataset)"
      ],
      "metadata": {
        "id": "6u-JNMVglMGZ"
      },
      "execution_count": null,
      "outputs": []
    },
    {
      "cell_type": "code",
      "source": [
        "train_df.head()"
      ],
      "metadata": {
        "id": "VDnxjdI9nIRs",
        "colab": {
          "base_uri": "https://localhost:8080/",
          "height": 297
        },
        "outputId": "4a158d47-b4e7-4e0a-bc28-94baf626032b"
      },
      "execution_count": null,
      "outputs": [
        {
          "output_type": "execute_result",
          "data": {
            "text/plain": [
              "   label  pixel1  pixel2  pixel3  pixel4  pixel5  pixel6  pixel7  pixel8  \\\n",
              "0      3     107     118     127     134     139     143     146     150   \n",
              "1      6     155     157     156     156     156     157     156     158   \n",
              "2      2     187     188     188     187     187     186     187     188   \n",
              "3      2     211     211     212     212     211     210     211     210   \n",
              "4     13     164     167     170     172     176     179     180     184   \n",
              "\n",
              "   pixel9  ...  pixel775  pixel776  pixel777  pixel778  pixel779  pixel780  \\\n",
              "0     153  ...       207       207       207       207       206       206   \n",
              "1     158  ...        69       149       128        87        94       163   \n",
              "2     187  ...       202       201       200       199       198       199   \n",
              "3     210  ...       235       234       233       231       230       226   \n",
              "4     185  ...        92       105       105       108       133       163   \n",
              "\n",
              "   pixel781  pixel782  pixel783  pixel784  \n",
              "0       206       204       203       202  \n",
              "1       175       103       135       149  \n",
              "2       198       195       194       195  \n",
              "3       225       222       229       163  \n",
              "4       157       163       164       179  \n",
              "\n",
              "[5 rows x 785 columns]"
            ],
            "text/html": [
              "\n",
              "  <div id=\"df-c9d597f5-a277-43f7-998b-141c441e5d4f\">\n",
              "    <div class=\"colab-df-container\">\n",
              "      <div>\n",
              "<style scoped>\n",
              "    .dataframe tbody tr th:only-of-type {\n",
              "        vertical-align: middle;\n",
              "    }\n",
              "\n",
              "    .dataframe tbody tr th {\n",
              "        vertical-align: top;\n",
              "    }\n",
              "\n",
              "    .dataframe thead th {\n",
              "        text-align: right;\n",
              "    }\n",
              "</style>\n",
              "<table border=\"1\" class=\"dataframe\">\n",
              "  <thead>\n",
              "    <tr style=\"text-align: right;\">\n",
              "      <th></th>\n",
              "      <th>label</th>\n",
              "      <th>pixel1</th>\n",
              "      <th>pixel2</th>\n",
              "      <th>pixel3</th>\n",
              "      <th>pixel4</th>\n",
              "      <th>pixel5</th>\n",
              "      <th>pixel6</th>\n",
              "      <th>pixel7</th>\n",
              "      <th>pixel8</th>\n",
              "      <th>pixel9</th>\n",
              "      <th>...</th>\n",
              "      <th>pixel775</th>\n",
              "      <th>pixel776</th>\n",
              "      <th>pixel777</th>\n",
              "      <th>pixel778</th>\n",
              "      <th>pixel779</th>\n",
              "      <th>pixel780</th>\n",
              "      <th>pixel781</th>\n",
              "      <th>pixel782</th>\n",
              "      <th>pixel783</th>\n",
              "      <th>pixel784</th>\n",
              "    </tr>\n",
              "  </thead>\n",
              "  <tbody>\n",
              "    <tr>\n",
              "      <th>0</th>\n",
              "      <td>3</td>\n",
              "      <td>107</td>\n",
              "      <td>118</td>\n",
              "      <td>127</td>\n",
              "      <td>134</td>\n",
              "      <td>139</td>\n",
              "      <td>143</td>\n",
              "      <td>146</td>\n",
              "      <td>150</td>\n",
              "      <td>153</td>\n",
              "      <td>...</td>\n",
              "      <td>207</td>\n",
              "      <td>207</td>\n",
              "      <td>207</td>\n",
              "      <td>207</td>\n",
              "      <td>206</td>\n",
              "      <td>206</td>\n",
              "      <td>206</td>\n",
              "      <td>204</td>\n",
              "      <td>203</td>\n",
              "      <td>202</td>\n",
              "    </tr>\n",
              "    <tr>\n",
              "      <th>1</th>\n",
              "      <td>6</td>\n",
              "      <td>155</td>\n",
              "      <td>157</td>\n",
              "      <td>156</td>\n",
              "      <td>156</td>\n",
              "      <td>156</td>\n",
              "      <td>157</td>\n",
              "      <td>156</td>\n",
              "      <td>158</td>\n",
              "      <td>158</td>\n",
              "      <td>...</td>\n",
              "      <td>69</td>\n",
              "      <td>149</td>\n",
              "      <td>128</td>\n",
              "      <td>87</td>\n",
              "      <td>94</td>\n",
              "      <td>163</td>\n",
              "      <td>175</td>\n",
              "      <td>103</td>\n",
              "      <td>135</td>\n",
              "      <td>149</td>\n",
              "    </tr>\n",
              "    <tr>\n",
              "      <th>2</th>\n",
              "      <td>2</td>\n",
              "      <td>187</td>\n",
              "      <td>188</td>\n",
              "      <td>188</td>\n",
              "      <td>187</td>\n",
              "      <td>187</td>\n",
              "      <td>186</td>\n",
              "      <td>187</td>\n",
              "      <td>188</td>\n",
              "      <td>187</td>\n",
              "      <td>...</td>\n",
              "      <td>202</td>\n",
              "      <td>201</td>\n",
              "      <td>200</td>\n",
              "      <td>199</td>\n",
              "      <td>198</td>\n",
              "      <td>199</td>\n",
              "      <td>198</td>\n",
              "      <td>195</td>\n",
              "      <td>194</td>\n",
              "      <td>195</td>\n",
              "    </tr>\n",
              "    <tr>\n",
              "      <th>3</th>\n",
              "      <td>2</td>\n",
              "      <td>211</td>\n",
              "      <td>211</td>\n",
              "      <td>212</td>\n",
              "      <td>212</td>\n",
              "      <td>211</td>\n",
              "      <td>210</td>\n",
              "      <td>211</td>\n",
              "      <td>210</td>\n",
              "      <td>210</td>\n",
              "      <td>...</td>\n",
              "      <td>235</td>\n",
              "      <td>234</td>\n",
              "      <td>233</td>\n",
              "      <td>231</td>\n",
              "      <td>230</td>\n",
              "      <td>226</td>\n",
              "      <td>225</td>\n",
              "      <td>222</td>\n",
              "      <td>229</td>\n",
              "      <td>163</td>\n",
              "    </tr>\n",
              "    <tr>\n",
              "      <th>4</th>\n",
              "      <td>13</td>\n",
              "      <td>164</td>\n",
              "      <td>167</td>\n",
              "      <td>170</td>\n",
              "      <td>172</td>\n",
              "      <td>176</td>\n",
              "      <td>179</td>\n",
              "      <td>180</td>\n",
              "      <td>184</td>\n",
              "      <td>185</td>\n",
              "      <td>...</td>\n",
              "      <td>92</td>\n",
              "      <td>105</td>\n",
              "      <td>105</td>\n",
              "      <td>108</td>\n",
              "      <td>133</td>\n",
              "      <td>163</td>\n",
              "      <td>157</td>\n",
              "      <td>163</td>\n",
              "      <td>164</td>\n",
              "      <td>179</td>\n",
              "    </tr>\n",
              "  </tbody>\n",
              "</table>\n",
              "<p>5 rows × 785 columns</p>\n",
              "</div>\n",
              "      <button class=\"colab-df-convert\" onclick=\"convertToInteractive('df-c9d597f5-a277-43f7-998b-141c441e5d4f')\"\n",
              "              title=\"Convert this dataframe to an interactive table.\"\n",
              "              style=\"display:none;\">\n",
              "        \n",
              "  <svg xmlns=\"http://www.w3.org/2000/svg\" height=\"24px\"viewBox=\"0 0 24 24\"\n",
              "       width=\"24px\">\n",
              "    <path d=\"M0 0h24v24H0V0z\" fill=\"none\"/>\n",
              "    <path d=\"M18.56 5.44l.94 2.06.94-2.06 2.06-.94-2.06-.94-.94-2.06-.94 2.06-2.06.94zm-11 1L8.5 8.5l.94-2.06 2.06-.94-2.06-.94L8.5 2.5l-.94 2.06-2.06.94zm10 10l.94 2.06.94-2.06 2.06-.94-2.06-.94-.94-2.06-.94 2.06-2.06.94z\"/><path d=\"M17.41 7.96l-1.37-1.37c-.4-.4-.92-.59-1.43-.59-.52 0-1.04.2-1.43.59L10.3 9.45l-7.72 7.72c-.78.78-.78 2.05 0 2.83L4 21.41c.39.39.9.59 1.41.59.51 0 1.02-.2 1.41-.59l7.78-7.78 2.81-2.81c.8-.78.8-2.07 0-2.86zM5.41 20L4 18.59l7.72-7.72 1.47 1.35L5.41 20z\"/>\n",
              "  </svg>\n",
              "      </button>\n",
              "      \n",
              "  <style>\n",
              "    .colab-df-container {\n",
              "      display:flex;\n",
              "      flex-wrap:wrap;\n",
              "      gap: 12px;\n",
              "    }\n",
              "\n",
              "    .colab-df-convert {\n",
              "      background-color: #E8F0FE;\n",
              "      border: none;\n",
              "      border-radius: 50%;\n",
              "      cursor: pointer;\n",
              "      display: none;\n",
              "      fill: #1967D2;\n",
              "      height: 32px;\n",
              "      padding: 0 0 0 0;\n",
              "      width: 32px;\n",
              "    }\n",
              "\n",
              "    .colab-df-convert:hover {\n",
              "      background-color: #E2EBFA;\n",
              "      box-shadow: 0px 1px 2px rgba(60, 64, 67, 0.3), 0px 1px 3px 1px rgba(60, 64, 67, 0.15);\n",
              "      fill: #174EA6;\n",
              "    }\n",
              "\n",
              "    [theme=dark] .colab-df-convert {\n",
              "      background-color: #3B4455;\n",
              "      fill: #D2E3FC;\n",
              "    }\n",
              "\n",
              "    [theme=dark] .colab-df-convert:hover {\n",
              "      background-color: #434B5C;\n",
              "      box-shadow: 0px 1px 3px 1px rgba(0, 0, 0, 0.15);\n",
              "      filter: drop-shadow(0px 1px 2px rgba(0, 0, 0, 0.3));\n",
              "      fill: #FFFFFF;\n",
              "    }\n",
              "  </style>\n",
              "\n",
              "      <script>\n",
              "        const buttonEl =\n",
              "          document.querySelector('#df-c9d597f5-a277-43f7-998b-141c441e5d4f button.colab-df-convert');\n",
              "        buttonEl.style.display =\n",
              "          google.colab.kernel.accessAllowed ? 'block' : 'none';\n",
              "\n",
              "        async function convertToInteractive(key) {\n",
              "          const element = document.querySelector('#df-c9d597f5-a277-43f7-998b-141c441e5d4f');\n",
              "          const dataTable =\n",
              "            await google.colab.kernel.invokeFunction('convertToInteractive',\n",
              "                                                     [key], {});\n",
              "          if (!dataTable) return;\n",
              "\n",
              "          const docLinkHtml = 'Like what you see? Visit the ' +\n",
              "            '<a target=\"_blank\" href=https://colab.research.google.com/notebooks/data_table.ipynb>data table notebook</a>'\n",
              "            + ' to learn more about interactive tables.';\n",
              "          element.innerHTML = '';\n",
              "          dataTable['output_type'] = 'display_data';\n",
              "          await google.colab.output.renderOutput(dataTable, element);\n",
              "          const docLink = document.createElement('div');\n",
              "          docLink.innerHTML = docLinkHtml;\n",
              "          element.appendChild(docLink);\n",
              "        }\n",
              "      </script>\n",
              "    </div>\n",
              "  </div>\n",
              "  "
            ]
          },
          "metadata": {},
          "execution_count": 28
        }
      ]
    },
    {
      "cell_type": "code",
      "source": [
        "test_df.head()"
      ],
      "metadata": {
        "id": "n484krMLnIjc",
        "colab": {
          "base_uri": "https://localhost:8080/",
          "height": 297
        },
        "outputId": "8e382e0f-259c-44a6-9cea-0cc0d0d8e830"
      },
      "execution_count": null,
      "outputs": [
        {
          "output_type": "execute_result",
          "data": {
            "text/plain": [
              "   label  pixel1  pixel2  pixel3  pixel4  pixel5  pixel6  pixel7  pixel8  \\\n",
              "0      6     149     149     150     150     150     151     151     150   \n",
              "1      5     126     128     131     132     133     134     135     135   \n",
              "2     10      85      88      92      96     105     123     135     143   \n",
              "3      0     203     205     207     206     207     209     210     209   \n",
              "4      3     188     191     193     195     199     201     202     203   \n",
              "\n",
              "   pixel9  ...  pixel775  pixel776  pixel777  pixel778  pixel779  pixel780  \\\n",
              "0     151  ...       138       148       127        89        82        96   \n",
              "1     136  ...        47       104       194       183       186       184   \n",
              "2     147  ...        68       166       242       227       230       227   \n",
              "3     210  ...       154       248       247       248       253       236   \n",
              "4     203  ...        26        40        64        48        29        46   \n",
              "\n",
              "   pixel781  pixel782  pixel783  pixel784  \n",
              "0       106       112       120       107  \n",
              "1       184       184       182       180  \n",
              "2       226       225       224       222  \n",
              "3       230       240       253       255  \n",
              "4        49        46        46        53  \n",
              "\n",
              "[5 rows x 785 columns]"
            ],
            "text/html": [
              "\n",
              "  <div id=\"df-1adca5a3-24ae-4fd5-a894-2185349d5671\">\n",
              "    <div class=\"colab-df-container\">\n",
              "      <div>\n",
              "<style scoped>\n",
              "    .dataframe tbody tr th:only-of-type {\n",
              "        vertical-align: middle;\n",
              "    }\n",
              "\n",
              "    .dataframe tbody tr th {\n",
              "        vertical-align: top;\n",
              "    }\n",
              "\n",
              "    .dataframe thead th {\n",
              "        text-align: right;\n",
              "    }\n",
              "</style>\n",
              "<table border=\"1\" class=\"dataframe\">\n",
              "  <thead>\n",
              "    <tr style=\"text-align: right;\">\n",
              "      <th></th>\n",
              "      <th>label</th>\n",
              "      <th>pixel1</th>\n",
              "      <th>pixel2</th>\n",
              "      <th>pixel3</th>\n",
              "      <th>pixel4</th>\n",
              "      <th>pixel5</th>\n",
              "      <th>pixel6</th>\n",
              "      <th>pixel7</th>\n",
              "      <th>pixel8</th>\n",
              "      <th>pixel9</th>\n",
              "      <th>...</th>\n",
              "      <th>pixel775</th>\n",
              "      <th>pixel776</th>\n",
              "      <th>pixel777</th>\n",
              "      <th>pixel778</th>\n",
              "      <th>pixel779</th>\n",
              "      <th>pixel780</th>\n",
              "      <th>pixel781</th>\n",
              "      <th>pixel782</th>\n",
              "      <th>pixel783</th>\n",
              "      <th>pixel784</th>\n",
              "    </tr>\n",
              "  </thead>\n",
              "  <tbody>\n",
              "    <tr>\n",
              "      <th>0</th>\n",
              "      <td>6</td>\n",
              "      <td>149</td>\n",
              "      <td>149</td>\n",
              "      <td>150</td>\n",
              "      <td>150</td>\n",
              "      <td>150</td>\n",
              "      <td>151</td>\n",
              "      <td>151</td>\n",
              "      <td>150</td>\n",
              "      <td>151</td>\n",
              "      <td>...</td>\n",
              "      <td>138</td>\n",
              "      <td>148</td>\n",
              "      <td>127</td>\n",
              "      <td>89</td>\n",
              "      <td>82</td>\n",
              "      <td>96</td>\n",
              "      <td>106</td>\n",
              "      <td>112</td>\n",
              "      <td>120</td>\n",
              "      <td>107</td>\n",
              "    </tr>\n",
              "    <tr>\n",
              "      <th>1</th>\n",
              "      <td>5</td>\n",
              "      <td>126</td>\n",
              "      <td>128</td>\n",
              "      <td>131</td>\n",
              "      <td>132</td>\n",
              "      <td>133</td>\n",
              "      <td>134</td>\n",
              "      <td>135</td>\n",
              "      <td>135</td>\n",
              "      <td>136</td>\n",
              "      <td>...</td>\n",
              "      <td>47</td>\n",
              "      <td>104</td>\n",
              "      <td>194</td>\n",
              "      <td>183</td>\n",
              "      <td>186</td>\n",
              "      <td>184</td>\n",
              "      <td>184</td>\n",
              "      <td>184</td>\n",
              "      <td>182</td>\n",
              "      <td>180</td>\n",
              "    </tr>\n",
              "    <tr>\n",
              "      <th>2</th>\n",
              "      <td>10</td>\n",
              "      <td>85</td>\n",
              "      <td>88</td>\n",
              "      <td>92</td>\n",
              "      <td>96</td>\n",
              "      <td>105</td>\n",
              "      <td>123</td>\n",
              "      <td>135</td>\n",
              "      <td>143</td>\n",
              "      <td>147</td>\n",
              "      <td>...</td>\n",
              "      <td>68</td>\n",
              "      <td>166</td>\n",
              "      <td>242</td>\n",
              "      <td>227</td>\n",
              "      <td>230</td>\n",
              "      <td>227</td>\n",
              "      <td>226</td>\n",
              "      <td>225</td>\n",
              "      <td>224</td>\n",
              "      <td>222</td>\n",
              "    </tr>\n",
              "    <tr>\n",
              "      <th>3</th>\n",
              "      <td>0</td>\n",
              "      <td>203</td>\n",
              "      <td>205</td>\n",
              "      <td>207</td>\n",
              "      <td>206</td>\n",
              "      <td>207</td>\n",
              "      <td>209</td>\n",
              "      <td>210</td>\n",
              "      <td>209</td>\n",
              "      <td>210</td>\n",
              "      <td>...</td>\n",
              "      <td>154</td>\n",
              "      <td>248</td>\n",
              "      <td>247</td>\n",
              "      <td>248</td>\n",
              "      <td>253</td>\n",
              "      <td>236</td>\n",
              "      <td>230</td>\n",
              "      <td>240</td>\n",
              "      <td>253</td>\n",
              "      <td>255</td>\n",
              "    </tr>\n",
              "    <tr>\n",
              "      <th>4</th>\n",
              "      <td>3</td>\n",
              "      <td>188</td>\n",
              "      <td>191</td>\n",
              "      <td>193</td>\n",
              "      <td>195</td>\n",
              "      <td>199</td>\n",
              "      <td>201</td>\n",
              "      <td>202</td>\n",
              "      <td>203</td>\n",
              "      <td>203</td>\n",
              "      <td>...</td>\n",
              "      <td>26</td>\n",
              "      <td>40</td>\n",
              "      <td>64</td>\n",
              "      <td>48</td>\n",
              "      <td>29</td>\n",
              "      <td>46</td>\n",
              "      <td>49</td>\n",
              "      <td>46</td>\n",
              "      <td>46</td>\n",
              "      <td>53</td>\n",
              "    </tr>\n",
              "  </tbody>\n",
              "</table>\n",
              "<p>5 rows × 785 columns</p>\n",
              "</div>\n",
              "      <button class=\"colab-df-convert\" onclick=\"convertToInteractive('df-1adca5a3-24ae-4fd5-a894-2185349d5671')\"\n",
              "              title=\"Convert this dataframe to an interactive table.\"\n",
              "              style=\"display:none;\">\n",
              "        \n",
              "  <svg xmlns=\"http://www.w3.org/2000/svg\" height=\"24px\"viewBox=\"0 0 24 24\"\n",
              "       width=\"24px\">\n",
              "    <path d=\"M0 0h24v24H0V0z\" fill=\"none\"/>\n",
              "    <path d=\"M18.56 5.44l.94 2.06.94-2.06 2.06-.94-2.06-.94-.94-2.06-.94 2.06-2.06.94zm-11 1L8.5 8.5l.94-2.06 2.06-.94-2.06-.94L8.5 2.5l-.94 2.06-2.06.94zm10 10l.94 2.06.94-2.06 2.06-.94-2.06-.94-.94-2.06-.94 2.06-2.06.94z\"/><path d=\"M17.41 7.96l-1.37-1.37c-.4-.4-.92-.59-1.43-.59-.52 0-1.04.2-1.43.59L10.3 9.45l-7.72 7.72c-.78.78-.78 2.05 0 2.83L4 21.41c.39.39.9.59 1.41.59.51 0 1.02-.2 1.41-.59l7.78-7.78 2.81-2.81c.8-.78.8-2.07 0-2.86zM5.41 20L4 18.59l7.72-7.72 1.47 1.35L5.41 20z\"/>\n",
              "  </svg>\n",
              "      </button>\n",
              "      \n",
              "  <style>\n",
              "    .colab-df-container {\n",
              "      display:flex;\n",
              "      flex-wrap:wrap;\n",
              "      gap: 12px;\n",
              "    }\n",
              "\n",
              "    .colab-df-convert {\n",
              "      background-color: #E8F0FE;\n",
              "      border: none;\n",
              "      border-radius: 50%;\n",
              "      cursor: pointer;\n",
              "      display: none;\n",
              "      fill: #1967D2;\n",
              "      height: 32px;\n",
              "      padding: 0 0 0 0;\n",
              "      width: 32px;\n",
              "    }\n",
              "\n",
              "    .colab-df-convert:hover {\n",
              "      background-color: #E2EBFA;\n",
              "      box-shadow: 0px 1px 2px rgba(60, 64, 67, 0.3), 0px 1px 3px 1px rgba(60, 64, 67, 0.15);\n",
              "      fill: #174EA6;\n",
              "    }\n",
              "\n",
              "    [theme=dark] .colab-df-convert {\n",
              "      background-color: #3B4455;\n",
              "      fill: #D2E3FC;\n",
              "    }\n",
              "\n",
              "    [theme=dark] .colab-df-convert:hover {\n",
              "      background-color: #434B5C;\n",
              "      box-shadow: 0px 1px 3px 1px rgba(0, 0, 0, 0.15);\n",
              "      filter: drop-shadow(0px 1px 2px rgba(0, 0, 0, 0.3));\n",
              "      fill: #FFFFFF;\n",
              "    }\n",
              "  </style>\n",
              "\n",
              "      <script>\n",
              "        const buttonEl =\n",
              "          document.querySelector('#df-1adca5a3-24ae-4fd5-a894-2185349d5671 button.colab-df-convert');\n",
              "        buttonEl.style.display =\n",
              "          google.colab.kernel.accessAllowed ? 'block' : 'none';\n",
              "\n",
              "        async function convertToInteractive(key) {\n",
              "          const element = document.querySelector('#df-1adca5a3-24ae-4fd5-a894-2185349d5671');\n",
              "          const dataTable =\n",
              "            await google.colab.kernel.invokeFunction('convertToInteractive',\n",
              "                                                     [key], {});\n",
              "          if (!dataTable) return;\n",
              "\n",
              "          const docLinkHtml = 'Like what you see? Visit the ' +\n",
              "            '<a target=\"_blank\" href=https://colab.research.google.com/notebooks/data_table.ipynb>data table notebook</a>'\n",
              "            + ' to learn more about interactive tables.';\n",
              "          element.innerHTML = '';\n",
              "          dataTable['output_type'] = 'display_data';\n",
              "          await google.colab.output.renderOutput(dataTable, element);\n",
              "          const docLink = document.createElement('div');\n",
              "          docLink.innerHTML = docLinkHtml;\n",
              "          element.appendChild(docLink);\n",
              "        }\n",
              "      </script>\n",
              "    </div>\n",
              "  </div>\n",
              "  "
            ]
          },
          "metadata": {},
          "execution_count": 29
        }
      ]
    },
    {
      "cell_type": "markdown",
      "source": [
        "# **Transforming Data**"
      ],
      "metadata": {
        "id": "418MvRzejnpO"
      }
    },
    {
      "cell_type": "code",
      "source": [
        "train_labels = train_df[\"label\"]\n",
        "test_labels = test_df[\"label\"]\n",
        "\n",
        "# deleting labels from the dataframes\n",
        "del train_df[\"label\"]\n",
        "del test_df[\"label\"]"
      ],
      "metadata": {
        "id": "8vItjGY0nxfS"
      },
      "execution_count": null,
      "outputs": []
    },
    {
      "cell_type": "code",
      "source": [
        "train_df.head()"
      ],
      "metadata": {
        "id": "39YKQ-ahoFrM",
        "colab": {
          "base_uri": "https://localhost:8080/",
          "height": 297
        },
        "outputId": "d5fc7107-fe5c-4c22-e43b-a908f4327c6c"
      },
      "execution_count": null,
      "outputs": [
        {
          "output_type": "execute_result",
          "data": {
            "text/plain": [
              "   pixel1  pixel2  pixel3  pixel4  pixel5  pixel6  pixel7  pixel8  pixel9  \\\n",
              "0     107     118     127     134     139     143     146     150     153   \n",
              "1     155     157     156     156     156     157     156     158     158   \n",
              "2     187     188     188     187     187     186     187     188     187   \n",
              "3     211     211     212     212     211     210     211     210     210   \n",
              "4     164     167     170     172     176     179     180     184     185   \n",
              "\n",
              "   pixel10  ...  pixel775  pixel776  pixel777  pixel778  pixel779  pixel780  \\\n",
              "0      156  ...       207       207       207       207       206       206   \n",
              "1      157  ...        69       149       128        87        94       163   \n",
              "2      186  ...       202       201       200       199       198       199   \n",
              "3      211  ...       235       234       233       231       230       226   \n",
              "4      186  ...        92       105       105       108       133       163   \n",
              "\n",
              "   pixel781  pixel782  pixel783  pixel784  \n",
              "0       206       204       203       202  \n",
              "1       175       103       135       149  \n",
              "2       198       195       194       195  \n",
              "3       225       222       229       163  \n",
              "4       157       163       164       179  \n",
              "\n",
              "[5 rows x 784 columns]"
            ],
            "text/html": [
              "\n",
              "  <div id=\"df-51231f7c-c87a-4188-8b5a-14cea2095267\">\n",
              "    <div class=\"colab-df-container\">\n",
              "      <div>\n",
              "<style scoped>\n",
              "    .dataframe tbody tr th:only-of-type {\n",
              "        vertical-align: middle;\n",
              "    }\n",
              "\n",
              "    .dataframe tbody tr th {\n",
              "        vertical-align: top;\n",
              "    }\n",
              "\n",
              "    .dataframe thead th {\n",
              "        text-align: right;\n",
              "    }\n",
              "</style>\n",
              "<table border=\"1\" class=\"dataframe\">\n",
              "  <thead>\n",
              "    <tr style=\"text-align: right;\">\n",
              "      <th></th>\n",
              "      <th>pixel1</th>\n",
              "      <th>pixel2</th>\n",
              "      <th>pixel3</th>\n",
              "      <th>pixel4</th>\n",
              "      <th>pixel5</th>\n",
              "      <th>pixel6</th>\n",
              "      <th>pixel7</th>\n",
              "      <th>pixel8</th>\n",
              "      <th>pixel9</th>\n",
              "      <th>pixel10</th>\n",
              "      <th>...</th>\n",
              "      <th>pixel775</th>\n",
              "      <th>pixel776</th>\n",
              "      <th>pixel777</th>\n",
              "      <th>pixel778</th>\n",
              "      <th>pixel779</th>\n",
              "      <th>pixel780</th>\n",
              "      <th>pixel781</th>\n",
              "      <th>pixel782</th>\n",
              "      <th>pixel783</th>\n",
              "      <th>pixel784</th>\n",
              "    </tr>\n",
              "  </thead>\n",
              "  <tbody>\n",
              "    <tr>\n",
              "      <th>0</th>\n",
              "      <td>107</td>\n",
              "      <td>118</td>\n",
              "      <td>127</td>\n",
              "      <td>134</td>\n",
              "      <td>139</td>\n",
              "      <td>143</td>\n",
              "      <td>146</td>\n",
              "      <td>150</td>\n",
              "      <td>153</td>\n",
              "      <td>156</td>\n",
              "      <td>...</td>\n",
              "      <td>207</td>\n",
              "      <td>207</td>\n",
              "      <td>207</td>\n",
              "      <td>207</td>\n",
              "      <td>206</td>\n",
              "      <td>206</td>\n",
              "      <td>206</td>\n",
              "      <td>204</td>\n",
              "      <td>203</td>\n",
              "      <td>202</td>\n",
              "    </tr>\n",
              "    <tr>\n",
              "      <th>1</th>\n",
              "      <td>155</td>\n",
              "      <td>157</td>\n",
              "      <td>156</td>\n",
              "      <td>156</td>\n",
              "      <td>156</td>\n",
              "      <td>157</td>\n",
              "      <td>156</td>\n",
              "      <td>158</td>\n",
              "      <td>158</td>\n",
              "      <td>157</td>\n",
              "      <td>...</td>\n",
              "      <td>69</td>\n",
              "      <td>149</td>\n",
              "      <td>128</td>\n",
              "      <td>87</td>\n",
              "      <td>94</td>\n",
              "      <td>163</td>\n",
              "      <td>175</td>\n",
              "      <td>103</td>\n",
              "      <td>135</td>\n",
              "      <td>149</td>\n",
              "    </tr>\n",
              "    <tr>\n",
              "      <th>2</th>\n",
              "      <td>187</td>\n",
              "      <td>188</td>\n",
              "      <td>188</td>\n",
              "      <td>187</td>\n",
              "      <td>187</td>\n",
              "      <td>186</td>\n",
              "      <td>187</td>\n",
              "      <td>188</td>\n",
              "      <td>187</td>\n",
              "      <td>186</td>\n",
              "      <td>...</td>\n",
              "      <td>202</td>\n",
              "      <td>201</td>\n",
              "      <td>200</td>\n",
              "      <td>199</td>\n",
              "      <td>198</td>\n",
              "      <td>199</td>\n",
              "      <td>198</td>\n",
              "      <td>195</td>\n",
              "      <td>194</td>\n",
              "      <td>195</td>\n",
              "    </tr>\n",
              "    <tr>\n",
              "      <th>3</th>\n",
              "      <td>211</td>\n",
              "      <td>211</td>\n",
              "      <td>212</td>\n",
              "      <td>212</td>\n",
              "      <td>211</td>\n",
              "      <td>210</td>\n",
              "      <td>211</td>\n",
              "      <td>210</td>\n",
              "      <td>210</td>\n",
              "      <td>211</td>\n",
              "      <td>...</td>\n",
              "      <td>235</td>\n",
              "      <td>234</td>\n",
              "      <td>233</td>\n",
              "      <td>231</td>\n",
              "      <td>230</td>\n",
              "      <td>226</td>\n",
              "      <td>225</td>\n",
              "      <td>222</td>\n",
              "      <td>229</td>\n",
              "      <td>163</td>\n",
              "    </tr>\n",
              "    <tr>\n",
              "      <th>4</th>\n",
              "      <td>164</td>\n",
              "      <td>167</td>\n",
              "      <td>170</td>\n",
              "      <td>172</td>\n",
              "      <td>176</td>\n",
              "      <td>179</td>\n",
              "      <td>180</td>\n",
              "      <td>184</td>\n",
              "      <td>185</td>\n",
              "      <td>186</td>\n",
              "      <td>...</td>\n",
              "      <td>92</td>\n",
              "      <td>105</td>\n",
              "      <td>105</td>\n",
              "      <td>108</td>\n",
              "      <td>133</td>\n",
              "      <td>163</td>\n",
              "      <td>157</td>\n",
              "      <td>163</td>\n",
              "      <td>164</td>\n",
              "      <td>179</td>\n",
              "    </tr>\n",
              "  </tbody>\n",
              "</table>\n",
              "<p>5 rows × 784 columns</p>\n",
              "</div>\n",
              "      <button class=\"colab-df-convert\" onclick=\"convertToInteractive('df-51231f7c-c87a-4188-8b5a-14cea2095267')\"\n",
              "              title=\"Convert this dataframe to an interactive table.\"\n",
              "              style=\"display:none;\">\n",
              "        \n",
              "  <svg xmlns=\"http://www.w3.org/2000/svg\" height=\"24px\"viewBox=\"0 0 24 24\"\n",
              "       width=\"24px\">\n",
              "    <path d=\"M0 0h24v24H0V0z\" fill=\"none\"/>\n",
              "    <path d=\"M18.56 5.44l.94 2.06.94-2.06 2.06-.94-2.06-.94-.94-2.06-.94 2.06-2.06.94zm-11 1L8.5 8.5l.94-2.06 2.06-.94-2.06-.94L8.5 2.5l-.94 2.06-2.06.94zm10 10l.94 2.06.94-2.06 2.06-.94-2.06-.94-.94-2.06-.94 2.06-2.06.94z\"/><path d=\"M17.41 7.96l-1.37-1.37c-.4-.4-.92-.59-1.43-.59-.52 0-1.04.2-1.43.59L10.3 9.45l-7.72 7.72c-.78.78-.78 2.05 0 2.83L4 21.41c.39.39.9.59 1.41.59.51 0 1.02-.2 1.41-.59l7.78-7.78 2.81-2.81c.8-.78.8-2.07 0-2.86zM5.41 20L4 18.59l7.72-7.72 1.47 1.35L5.41 20z\"/>\n",
              "  </svg>\n",
              "      </button>\n",
              "      \n",
              "  <style>\n",
              "    .colab-df-container {\n",
              "      display:flex;\n",
              "      flex-wrap:wrap;\n",
              "      gap: 12px;\n",
              "    }\n",
              "\n",
              "    .colab-df-convert {\n",
              "      background-color: #E8F0FE;\n",
              "      border: none;\n",
              "      border-radius: 50%;\n",
              "      cursor: pointer;\n",
              "      display: none;\n",
              "      fill: #1967D2;\n",
              "      height: 32px;\n",
              "      padding: 0 0 0 0;\n",
              "      width: 32px;\n",
              "    }\n",
              "\n",
              "    .colab-df-convert:hover {\n",
              "      background-color: #E2EBFA;\n",
              "      box-shadow: 0px 1px 2px rgba(60, 64, 67, 0.3), 0px 1px 3px 1px rgba(60, 64, 67, 0.15);\n",
              "      fill: #174EA6;\n",
              "    }\n",
              "\n",
              "    [theme=dark] .colab-df-convert {\n",
              "      background-color: #3B4455;\n",
              "      fill: #D2E3FC;\n",
              "    }\n",
              "\n",
              "    [theme=dark] .colab-df-convert:hover {\n",
              "      background-color: #434B5C;\n",
              "      box-shadow: 0px 1px 3px 1px rgba(0, 0, 0, 0.15);\n",
              "      filter: drop-shadow(0px 1px 2px rgba(0, 0, 0, 0.3));\n",
              "      fill: #FFFFFF;\n",
              "    }\n",
              "  </style>\n",
              "\n",
              "      <script>\n",
              "        const buttonEl =\n",
              "          document.querySelector('#df-51231f7c-c87a-4188-8b5a-14cea2095267 button.colab-df-convert');\n",
              "        buttonEl.style.display =\n",
              "          google.colab.kernel.accessAllowed ? 'block' : 'none';\n",
              "\n",
              "        async function convertToInteractive(key) {\n",
              "          const element = document.querySelector('#df-51231f7c-c87a-4188-8b5a-14cea2095267');\n",
              "          const dataTable =\n",
              "            await google.colab.kernel.invokeFunction('convertToInteractive',\n",
              "                                                     [key], {});\n",
              "          if (!dataTable) return;\n",
              "\n",
              "          const docLinkHtml = 'Like what you see? Visit the ' +\n",
              "            '<a target=\"_blank\" href=https://colab.research.google.com/notebooks/data_table.ipynb>data table notebook</a>'\n",
              "            + ' to learn more about interactive tables.';\n",
              "          element.innerHTML = '';\n",
              "          dataTable['output_type'] = 'display_data';\n",
              "          await google.colab.output.renderOutput(dataTable, element);\n",
              "          const docLink = document.createElement('div');\n",
              "          docLink.innerHTML = docLinkHtml;\n",
              "          element.appendChild(docLink);\n",
              "        }\n",
              "      </script>\n",
              "    </div>\n",
              "  </div>\n",
              "  "
            ]
          },
          "metadata": {},
          "execution_count": 32
        }
      ]
    },
    {
      "cell_type": "code",
      "source": [
        "test_df.head()"
      ],
      "metadata": {
        "id": "mx4EzJ-yqH3W",
        "colab": {
          "base_uri": "https://localhost:8080/",
          "height": 297
        },
        "outputId": "fd1453c9-1de9-4149-c796-7c0355b155a5"
      },
      "execution_count": null,
      "outputs": [
        {
          "output_type": "execute_result",
          "data": {
            "text/plain": [
              "   pixel1  pixel2  pixel3  pixel4  pixel5  pixel6  pixel7  pixel8  pixel9  \\\n",
              "0     149     149     150     150     150     151     151     150     151   \n",
              "1     126     128     131     132     133     134     135     135     136   \n",
              "2      85      88      92      96     105     123     135     143     147   \n",
              "3     203     205     207     206     207     209     210     209     210   \n",
              "4     188     191     193     195     199     201     202     203     203   \n",
              "\n",
              "   pixel10  ...  pixel775  pixel776  pixel777  pixel778  pixel779  pixel780  \\\n",
              "0      152  ...       138       148       127        89        82        96   \n",
              "1      138  ...        47       104       194       183       186       184   \n",
              "2      152  ...        68       166       242       227       230       227   \n",
              "3      209  ...       154       248       247       248       253       236   \n",
              "4      203  ...        26        40        64        48        29        46   \n",
              "\n",
              "   pixel781  pixel782  pixel783  pixel784  \n",
              "0       106       112       120       107  \n",
              "1       184       184       182       180  \n",
              "2       226       225       224       222  \n",
              "3       230       240       253       255  \n",
              "4        49        46        46        53  \n",
              "\n",
              "[5 rows x 784 columns]"
            ],
            "text/html": [
              "\n",
              "  <div id=\"df-f7aa24f9-4fc2-42d5-80c9-d96e07a65eb0\">\n",
              "    <div class=\"colab-df-container\">\n",
              "      <div>\n",
              "<style scoped>\n",
              "    .dataframe tbody tr th:only-of-type {\n",
              "        vertical-align: middle;\n",
              "    }\n",
              "\n",
              "    .dataframe tbody tr th {\n",
              "        vertical-align: top;\n",
              "    }\n",
              "\n",
              "    .dataframe thead th {\n",
              "        text-align: right;\n",
              "    }\n",
              "</style>\n",
              "<table border=\"1\" class=\"dataframe\">\n",
              "  <thead>\n",
              "    <tr style=\"text-align: right;\">\n",
              "      <th></th>\n",
              "      <th>pixel1</th>\n",
              "      <th>pixel2</th>\n",
              "      <th>pixel3</th>\n",
              "      <th>pixel4</th>\n",
              "      <th>pixel5</th>\n",
              "      <th>pixel6</th>\n",
              "      <th>pixel7</th>\n",
              "      <th>pixel8</th>\n",
              "      <th>pixel9</th>\n",
              "      <th>pixel10</th>\n",
              "      <th>...</th>\n",
              "      <th>pixel775</th>\n",
              "      <th>pixel776</th>\n",
              "      <th>pixel777</th>\n",
              "      <th>pixel778</th>\n",
              "      <th>pixel779</th>\n",
              "      <th>pixel780</th>\n",
              "      <th>pixel781</th>\n",
              "      <th>pixel782</th>\n",
              "      <th>pixel783</th>\n",
              "      <th>pixel784</th>\n",
              "    </tr>\n",
              "  </thead>\n",
              "  <tbody>\n",
              "    <tr>\n",
              "      <th>0</th>\n",
              "      <td>149</td>\n",
              "      <td>149</td>\n",
              "      <td>150</td>\n",
              "      <td>150</td>\n",
              "      <td>150</td>\n",
              "      <td>151</td>\n",
              "      <td>151</td>\n",
              "      <td>150</td>\n",
              "      <td>151</td>\n",
              "      <td>152</td>\n",
              "      <td>...</td>\n",
              "      <td>138</td>\n",
              "      <td>148</td>\n",
              "      <td>127</td>\n",
              "      <td>89</td>\n",
              "      <td>82</td>\n",
              "      <td>96</td>\n",
              "      <td>106</td>\n",
              "      <td>112</td>\n",
              "      <td>120</td>\n",
              "      <td>107</td>\n",
              "    </tr>\n",
              "    <tr>\n",
              "      <th>1</th>\n",
              "      <td>126</td>\n",
              "      <td>128</td>\n",
              "      <td>131</td>\n",
              "      <td>132</td>\n",
              "      <td>133</td>\n",
              "      <td>134</td>\n",
              "      <td>135</td>\n",
              "      <td>135</td>\n",
              "      <td>136</td>\n",
              "      <td>138</td>\n",
              "      <td>...</td>\n",
              "      <td>47</td>\n",
              "      <td>104</td>\n",
              "      <td>194</td>\n",
              "      <td>183</td>\n",
              "      <td>186</td>\n",
              "      <td>184</td>\n",
              "      <td>184</td>\n",
              "      <td>184</td>\n",
              "      <td>182</td>\n",
              "      <td>180</td>\n",
              "    </tr>\n",
              "    <tr>\n",
              "      <th>2</th>\n",
              "      <td>85</td>\n",
              "      <td>88</td>\n",
              "      <td>92</td>\n",
              "      <td>96</td>\n",
              "      <td>105</td>\n",
              "      <td>123</td>\n",
              "      <td>135</td>\n",
              "      <td>143</td>\n",
              "      <td>147</td>\n",
              "      <td>152</td>\n",
              "      <td>...</td>\n",
              "      <td>68</td>\n",
              "      <td>166</td>\n",
              "      <td>242</td>\n",
              "      <td>227</td>\n",
              "      <td>230</td>\n",
              "      <td>227</td>\n",
              "      <td>226</td>\n",
              "      <td>225</td>\n",
              "      <td>224</td>\n",
              "      <td>222</td>\n",
              "    </tr>\n",
              "    <tr>\n",
              "      <th>3</th>\n",
              "      <td>203</td>\n",
              "      <td>205</td>\n",
              "      <td>207</td>\n",
              "      <td>206</td>\n",
              "      <td>207</td>\n",
              "      <td>209</td>\n",
              "      <td>210</td>\n",
              "      <td>209</td>\n",
              "      <td>210</td>\n",
              "      <td>209</td>\n",
              "      <td>...</td>\n",
              "      <td>154</td>\n",
              "      <td>248</td>\n",
              "      <td>247</td>\n",
              "      <td>248</td>\n",
              "      <td>253</td>\n",
              "      <td>236</td>\n",
              "      <td>230</td>\n",
              "      <td>240</td>\n",
              "      <td>253</td>\n",
              "      <td>255</td>\n",
              "    </tr>\n",
              "    <tr>\n",
              "      <th>4</th>\n",
              "      <td>188</td>\n",
              "      <td>191</td>\n",
              "      <td>193</td>\n",
              "      <td>195</td>\n",
              "      <td>199</td>\n",
              "      <td>201</td>\n",
              "      <td>202</td>\n",
              "      <td>203</td>\n",
              "      <td>203</td>\n",
              "      <td>203</td>\n",
              "      <td>...</td>\n",
              "      <td>26</td>\n",
              "      <td>40</td>\n",
              "      <td>64</td>\n",
              "      <td>48</td>\n",
              "      <td>29</td>\n",
              "      <td>46</td>\n",
              "      <td>49</td>\n",
              "      <td>46</td>\n",
              "      <td>46</td>\n",
              "      <td>53</td>\n",
              "    </tr>\n",
              "  </tbody>\n",
              "</table>\n",
              "<p>5 rows × 784 columns</p>\n",
              "</div>\n",
              "      <button class=\"colab-df-convert\" onclick=\"convertToInteractive('df-f7aa24f9-4fc2-42d5-80c9-d96e07a65eb0')\"\n",
              "              title=\"Convert this dataframe to an interactive table.\"\n",
              "              style=\"display:none;\">\n",
              "        \n",
              "  <svg xmlns=\"http://www.w3.org/2000/svg\" height=\"24px\"viewBox=\"0 0 24 24\"\n",
              "       width=\"24px\">\n",
              "    <path d=\"M0 0h24v24H0V0z\" fill=\"none\"/>\n",
              "    <path d=\"M18.56 5.44l.94 2.06.94-2.06 2.06-.94-2.06-.94-.94-2.06-.94 2.06-2.06.94zm-11 1L8.5 8.5l.94-2.06 2.06-.94-2.06-.94L8.5 2.5l-.94 2.06-2.06.94zm10 10l.94 2.06.94-2.06 2.06-.94-2.06-.94-.94-2.06-.94 2.06-2.06.94z\"/><path d=\"M17.41 7.96l-1.37-1.37c-.4-.4-.92-.59-1.43-.59-.52 0-1.04.2-1.43.59L10.3 9.45l-7.72 7.72c-.78.78-.78 2.05 0 2.83L4 21.41c.39.39.9.59 1.41.59.51 0 1.02-.2 1.41-.59l7.78-7.78 2.81-2.81c.8-.78.8-2.07 0-2.86zM5.41 20L4 18.59l7.72-7.72 1.47 1.35L5.41 20z\"/>\n",
              "  </svg>\n",
              "      </button>\n",
              "      \n",
              "  <style>\n",
              "    .colab-df-container {\n",
              "      display:flex;\n",
              "      flex-wrap:wrap;\n",
              "      gap: 12px;\n",
              "    }\n",
              "\n",
              "    .colab-df-convert {\n",
              "      background-color: #E8F0FE;\n",
              "      border: none;\n",
              "      border-radius: 50%;\n",
              "      cursor: pointer;\n",
              "      display: none;\n",
              "      fill: #1967D2;\n",
              "      height: 32px;\n",
              "      padding: 0 0 0 0;\n",
              "      width: 32px;\n",
              "    }\n",
              "\n",
              "    .colab-df-convert:hover {\n",
              "      background-color: #E2EBFA;\n",
              "      box-shadow: 0px 1px 2px rgba(60, 64, 67, 0.3), 0px 1px 3px 1px rgba(60, 64, 67, 0.15);\n",
              "      fill: #174EA6;\n",
              "    }\n",
              "\n",
              "    [theme=dark] .colab-df-convert {\n",
              "      background-color: #3B4455;\n",
              "      fill: #D2E3FC;\n",
              "    }\n",
              "\n",
              "    [theme=dark] .colab-df-convert:hover {\n",
              "      background-color: #434B5C;\n",
              "      box-shadow: 0px 1px 3px 1px rgba(0, 0, 0, 0.15);\n",
              "      filter: drop-shadow(0px 1px 2px rgba(0, 0, 0, 0.3));\n",
              "      fill: #FFFFFF;\n",
              "    }\n",
              "  </style>\n",
              "\n",
              "      <script>\n",
              "        const buttonEl =\n",
              "          document.querySelector('#df-f7aa24f9-4fc2-42d5-80c9-d96e07a65eb0 button.colab-df-convert');\n",
              "        buttonEl.style.display =\n",
              "          google.colab.kernel.accessAllowed ? 'block' : 'none';\n",
              "\n",
              "        async function convertToInteractive(key) {\n",
              "          const element = document.querySelector('#df-f7aa24f9-4fc2-42d5-80c9-d96e07a65eb0');\n",
              "          const dataTable =\n",
              "            await google.colab.kernel.invokeFunction('convertToInteractive',\n",
              "                                                     [key], {});\n",
              "          if (!dataTable) return;\n",
              "\n",
              "          const docLinkHtml = 'Like what you see? Visit the ' +\n",
              "            '<a target=\"_blank\" href=https://colab.research.google.com/notebooks/data_table.ipynb>data table notebook</a>'\n",
              "            + ' to learn more about interactive tables.';\n",
              "          element.innerHTML = '';\n",
              "          dataTable['output_type'] = 'display_data';\n",
              "          await google.colab.output.renderOutput(dataTable, element);\n",
              "          const docLink = document.createElement('div');\n",
              "          docLink.innerHTML = docLinkHtml;\n",
              "          element.appendChild(docLink);\n",
              "        }\n",
              "      </script>\n",
              "    </div>\n",
              "  </div>\n",
              "  "
            ]
          },
          "metadata": {},
          "execution_count": 33
        }
      ]
    },
    {
      "cell_type": "code",
      "source": [
        "# converting the labels to binary matrixes\n",
        "label_binarizer = LabelBinarizer()\n",
        "reshaped_train_labels = label_binarizer.fit_transform(train_labels)\n",
        "reshaped_test_labels = label_binarizer.fit_transform(test_labels)"
      ],
      "metadata": {
        "id": "8D0LQEbmqkE1"
      },
      "execution_count": null,
      "outputs": []
    },
    {
      "cell_type": "code",
      "source": [
        "train_dataset = train_df.values\n",
        "test_dataset = test_df.values"
      ],
      "metadata": {
        "id": "XJ_tY4D9LRiu"
      },
      "execution_count": null,
      "outputs": []
    },
    {
      "cell_type": "code",
      "source": [
        "train_dataset = normalize_img(train_dataset)\n",
        "test_dataset = normalize_img(test_dataset)"
      ],
      "metadata": {
        "id": "4HzZFw4lrw3D"
      },
      "execution_count": null,
      "outputs": []
    },
    {
      "cell_type": "code",
      "source": [
        "print(train_dataset)"
      ],
      "metadata": {
        "id": "ok87h_MxslQM",
        "colab": {
          "base_uri": "https://localhost:8080/"
        },
        "outputId": "403d0da0-635c-4273-b7b6-e070feb1f595"
      },
      "execution_count": null,
      "outputs": [
        {
          "output_type": "stream",
          "name": "stdout",
          "text": [
            "[[0.41960785 0.4627451  0.49803922 ... 0.8        0.79607844 0.7921569 ]\n",
            " [0.60784316 0.6156863  0.6117647  ... 0.40392157 0.5294118  0.58431375]\n",
            " [0.73333335 0.7372549  0.7372549  ... 0.7647059  0.7607843  0.7647059 ]\n",
            " ...\n",
            " [0.68235296 0.68235296 0.68235296 ... 0.7921569  0.78431374 0.78431374]\n",
            " [0.69411767 0.70980394 0.72156864 ... 0.2509804  0.34117648 0.3647059 ]\n",
            " [0.7019608  0.7058824  0.7058824  ... 0.8039216  0.81960785 0.84313726]]\n"
          ]
        }
      ]
    },
    {
      "cell_type": "code",
      "source": [
        "print(\"train_dataset shape:\", train_dataset.shape)"
      ],
      "metadata": {
        "id": "PFtk6dp4vHjS",
        "colab": {
          "base_uri": "https://localhost:8080/"
        },
        "outputId": "571a8ecb-c82a-4f90-f324-a1ad3c58f95c"
      },
      "execution_count": null,
      "outputs": [
        {
          "output_type": "stream",
          "name": "stdout",
          "text": [
            "train_dataset shape: (27455, 784)\n"
          ]
        }
      ]
    },
    {
      "cell_type": "code",
      "source": [
        "# reshaping the data from 2-D to 3-D\n",
        "reshaped_train_dataset = reshape_img(train_dataset)\n",
        "reshaped_test_dataset = reshape_img(test_dataset)"
      ],
      "metadata": {
        "id": "gdwtmXyMrzNr"
      },
      "execution_count": null,
      "outputs": []
    },
    {
      "cell_type": "code",
      "source": [
        "print(\"reshaped_train_dataset shape:\", reshaped_train_dataset.shape)"
      ],
      "metadata": {
        "id": "lsoZMZW2u5XR",
        "colab": {
          "base_uri": "https://localhost:8080/"
        },
        "outputId": "17d357e6-4b24-4217-de12-764647392819"
      },
      "execution_count": null,
      "outputs": [
        {
          "output_type": "stream",
          "name": "stdout",
          "text": [
            "reshaped_train_dataset shape: (27455, 28, 28, 1)\n"
          ]
        }
      ]
    },
    {
      "cell_type": "code",
      "source": [
        "# this is an array of 3-D arrays. One 3-D array is one picture\n",
        "print(reshaped_train_dataset)"
      ],
      "metadata": {
        "id": "_RPtkD3yxdP-",
        "colab": {
          "base_uri": "https://localhost:8080/"
        },
        "outputId": "b8ef05aa-4cbb-4ffd-a08c-b2fd06abd48b"
      },
      "execution_count": null,
      "outputs": [
        {
          "output_type": "stream",
          "name": "stdout",
          "text": [
            "[[[[0.41960785]\n",
            "   [0.4627451 ]\n",
            "   [0.49803922]\n",
            "   ...\n",
            "   [0.6666667 ]\n",
            "   [0.6666667 ]\n",
            "   [0.6627451 ]]\n",
            "\n",
            "  [[0.43529412]\n",
            "   [0.4745098 ]\n",
            "   [0.5058824 ]\n",
            "   ...\n",
            "   [0.67058825]\n",
            "   [0.67058825]\n",
            "   [0.6666667 ]]\n",
            "\n",
            "  [[0.44313726]\n",
            "   [0.48235294]\n",
            "   [0.5137255 ]\n",
            "   ...\n",
            "   [0.67058825]\n",
            "   [0.67058825]\n",
            "   [0.67058825]]\n",
            "\n",
            "  ...\n",
            "\n",
            "  [[0.5568628 ]\n",
            "   [0.5882353 ]\n",
            "   [0.62352943]\n",
            "   ...\n",
            "   [0.7921569 ]\n",
            "   [0.7882353 ]\n",
            "   [0.78431374]]\n",
            "\n",
            "  [[0.5568628 ]\n",
            "   [0.5921569 ]\n",
            "   [0.627451  ]\n",
            "   ...\n",
            "   [0.8       ]\n",
            "   [0.79607844]\n",
            "   [0.7921569 ]]\n",
            "\n",
            "  [[0.5568628 ]\n",
            "   [0.5921569 ]\n",
            "   [0.627451  ]\n",
            "   ...\n",
            "   [0.8       ]\n",
            "   [0.79607844]\n",
            "   [0.7921569 ]]]\n",
            "\n",
            "\n",
            " [[[0.60784316]\n",
            "   [0.6156863 ]\n",
            "   [0.6117647 ]\n",
            "   ...\n",
            "   [0.5411765 ]\n",
            "   [0.36078432]\n",
            "   [0.42352942]]\n",
            "\n",
            "  [[0.61960787]\n",
            "   [0.62352943]\n",
            "   [0.62352943]\n",
            "   ...\n",
            "   [0.5568628 ]\n",
            "   [0.45490196]\n",
            "   [0.56078434]]\n",
            "\n",
            "  [[0.6313726 ]\n",
            "   [0.6313726 ]\n",
            "   [0.6313726 ]\n",
            "   ...\n",
            "   [0.5764706 ]\n",
            "   [0.49019608]\n",
            "   [0.54901963]]\n",
            "\n",
            "  ...\n",
            "\n",
            "  [[0.63529414]\n",
            "   [0.62352943]\n",
            "   [0.5686275 ]\n",
            "   ...\n",
            "   [0.35686275]\n",
            "   [0.39607844]\n",
            "   [0.36862746]]\n",
            "\n",
            "  [[0.6       ]\n",
            "   [0.54509807]\n",
            "   [0.4509804 ]\n",
            "   ...\n",
            "   [0.38039216]\n",
            "   [0.37254903]\n",
            "   [0.47058824]]\n",
            "\n",
            "  [[0.5294118 ]\n",
            "   [0.45490196]\n",
            "   [0.37254903]\n",
            "   ...\n",
            "   [0.40392157]\n",
            "   [0.5294118 ]\n",
            "   [0.58431375]]]\n",
            "\n",
            "\n",
            " [[[0.73333335]\n",
            "   [0.7372549 ]\n",
            "   [0.7372549 ]\n",
            "   ...\n",
            "   [0.25882354]\n",
            "   [0.3019608 ]\n",
            "   [0.3254902 ]]\n",
            "\n",
            "  [[0.7372549 ]\n",
            "   [0.7411765 ]\n",
            "   [0.7411765 ]\n",
            "   ...\n",
            "   [0.28627452]\n",
            "   [0.28627452]\n",
            "   [0.2784314 ]]\n",
            "\n",
            "  [[0.74509805]\n",
            "   [0.74509805]\n",
            "   [0.74509805]\n",
            "   ...\n",
            "   [0.2901961 ]\n",
            "   [0.26666668]\n",
            "   [0.23921569]]\n",
            "\n",
            "  ...\n",
            "\n",
            "  [[0.83137256]\n",
            "   [0.7764706 ]\n",
            "   [0.6862745 ]\n",
            "   ...\n",
            "   [0.7647059 ]\n",
            "   [0.75686276]\n",
            "   [0.7529412 ]]\n",
            "\n",
            "  [[0.7921569 ]\n",
            "   [0.7019608 ]\n",
            "   [0.59607846]\n",
            "   ...\n",
            "   [0.7647059 ]\n",
            "   [0.7607843 ]\n",
            "   [0.75686276]]\n",
            "\n",
            "  [[0.7764706 ]\n",
            "   [0.6509804 ]\n",
            "   [0.5176471 ]\n",
            "   ...\n",
            "   [0.7647059 ]\n",
            "   [0.7607843 ]\n",
            "   [0.7647059 ]]]\n",
            "\n",
            "\n",
            " ...\n",
            "\n",
            "\n",
            " [[[0.68235296]\n",
            "   [0.68235296]\n",
            "   [0.68235296]\n",
            "   ...\n",
            "   [0.627451  ]\n",
            "   [0.61960787]\n",
            "   [0.6117647 ]]\n",
            "\n",
            "  [[0.69803923]\n",
            "   [0.69803923]\n",
            "   [0.69411767]\n",
            "   ...\n",
            "   [0.63529414]\n",
            "   [0.627451  ]\n",
            "   [0.61960787]]\n",
            "\n",
            "  [[0.70980394]\n",
            "   [0.7058824 ]\n",
            "   [0.7058824 ]\n",
            "   ...\n",
            "   [0.6431373 ]\n",
            "   [0.63529414]\n",
            "   [0.6313726 ]]\n",
            "\n",
            "  ...\n",
            "\n",
            "  [[0.84313726]\n",
            "   [0.84705883]\n",
            "   [0.84705883]\n",
            "   ...\n",
            "   [0.7882353 ]\n",
            "   [0.78039217]\n",
            "   [0.7764706 ]]\n",
            "\n",
            "  [[0.84705883]\n",
            "   [0.8509804 ]\n",
            "   [0.8509804 ]\n",
            "   ...\n",
            "   [0.7882353 ]\n",
            "   [0.78431374]\n",
            "   [0.7764706 ]]\n",
            "\n",
            "  [[0.8509804 ]\n",
            "   [0.8509804 ]\n",
            "   [0.8509804 ]\n",
            "   ...\n",
            "   [0.7921569 ]\n",
            "   [0.78431374]\n",
            "   [0.78431374]]]\n",
            "\n",
            "\n",
            " [[[0.69411767]\n",
            "   [0.70980394]\n",
            "   [0.72156864]\n",
            "   ...\n",
            "   [0.70980394]\n",
            "   [0.7019608 ]\n",
            "   [0.69411767]]\n",
            "\n",
            "  [[0.7019608 ]\n",
            "   [0.7137255 ]\n",
            "   [0.7254902 ]\n",
            "   ...\n",
            "   [0.7176471 ]\n",
            "   [0.70980394]\n",
            "   [0.7019608 ]]\n",
            "\n",
            "  [[0.70980394]\n",
            "   [0.72156864]\n",
            "   [0.73333335]\n",
            "   ...\n",
            "   [0.7254902 ]\n",
            "   [0.7176471 ]\n",
            "   [0.7137255 ]]\n",
            "\n",
            "  ...\n",
            "\n",
            "  [[0.5058824 ]\n",
            "   [0.5176471 ]\n",
            "   [0.5254902 ]\n",
            "   ...\n",
            "   [0.36862746]\n",
            "   [0.4       ]\n",
            "   [0.27450982]]\n",
            "\n",
            "  [[0.5137255 ]\n",
            "   [0.5254902 ]\n",
            "   [0.5176471 ]\n",
            "   ...\n",
            "   [0.30588236]\n",
            "   [0.39215687]\n",
            "   [0.3372549 ]]\n",
            "\n",
            "  [[0.53333336]\n",
            "   [0.5294118 ]\n",
            "   [0.5294118 ]\n",
            "   ...\n",
            "   [0.2509804 ]\n",
            "   [0.34117648]\n",
            "   [0.3647059 ]]]\n",
            "\n",
            "\n",
            " [[[0.7019608 ]\n",
            "   [0.7058824 ]\n",
            "   [0.7058824 ]\n",
            "   ...\n",
            "   [0.18431373]\n",
            "   [0.11764706]\n",
            "   [0.15294118]]\n",
            "\n",
            "  [[0.7058824 ]\n",
            "   [0.7137255 ]\n",
            "   [0.7176471 ]\n",
            "   ...\n",
            "   [0.30980393]\n",
            "   [0.09411765]\n",
            "   [0.13333334]]\n",
            "\n",
            "  [[0.72156864]\n",
            "   [0.72156864]\n",
            "   [0.7254902 ]\n",
            "   ...\n",
            "   [0.4509804 ]\n",
            "   [0.09803922]\n",
            "   [0.11372549]]\n",
            "\n",
            "  ...\n",
            "\n",
            "  [[0.3529412 ]\n",
            "   [0.36862746]\n",
            "   [0.29803923]\n",
            "   ...\n",
            "   [0.42745098]\n",
            "   [0.5882353 ]\n",
            "   [0.6745098 ]]\n",
            "\n",
            "  [[0.36862746]\n",
            "   [0.3647059 ]\n",
            "   [0.34901962]\n",
            "   ...\n",
            "   [0.7921569 ]\n",
            "   [0.8352941 ]\n",
            "   [0.84313726]]\n",
            "\n",
            "  [[0.3764706 ]\n",
            "   [0.34509805]\n",
            "   [0.42745098]\n",
            "   ...\n",
            "   [0.8039216 ]\n",
            "   [0.81960785]\n",
            "   [0.84313726]]]]\n"
          ]
        }
      ]
    },
    {
      "cell_type": "code",
      "source": [
        "print(reshaped_test_dataset)"
      ],
      "metadata": {
        "colab": {
          "base_uri": "https://localhost:8080/"
        },
        "id": "IbiM230I4us6",
        "outputId": "bfdc3792-ad20-49ef-d93e-0c6dfb3cb315"
      },
      "execution_count": null,
      "outputs": [
        {
          "output_type": "stream",
          "name": "stdout",
          "text": [
            "[[[[0.58431375]\n",
            "   [0.58431375]\n",
            "   [0.5882353 ]\n",
            "   ...\n",
            "   [0.5882353 ]\n",
            "   [0.5882353 ]\n",
            "   [0.58431375]]\n",
            "\n",
            "  [[0.5882353 ]\n",
            "   [0.5882353 ]\n",
            "   [0.5882353 ]\n",
            "   ...\n",
            "   [0.5921569 ]\n",
            "   [0.5882353 ]\n",
            "   [0.5921569 ]]\n",
            "\n",
            "  [[0.5882353 ]\n",
            "   [0.5921569 ]\n",
            "   [0.5921569 ]\n",
            "   ...\n",
            "   [0.5921569 ]\n",
            "   [0.5921569 ]\n",
            "   [0.59607846]]\n",
            "\n",
            "  ...\n",
            "\n",
            "  [[0.27058825]\n",
            "   [0.27058825]\n",
            "   [0.3019608 ]\n",
            "   ...\n",
            "   [0.45490196]\n",
            "   [0.44313726]\n",
            "   [0.4627451 ]]\n",
            "\n",
            "  [[0.2901961 ]\n",
            "   [0.29411766]\n",
            "   [0.29803923]\n",
            "   ...\n",
            "   [0.43137255]\n",
            "   [0.45490196]\n",
            "   [0.44313726]]\n",
            "\n",
            "  [[0.29411766]\n",
            "   [0.2901961 ]\n",
            "   [0.2901961 ]\n",
            "   ...\n",
            "   [0.4392157 ]\n",
            "   [0.47058824]\n",
            "   [0.41960785]]]\n",
            "\n",
            "\n",
            " [[[0.49411765]\n",
            "   [0.5019608 ]\n",
            "   [0.5137255 ]\n",
            "   ...\n",
            "   [0.52156866]\n",
            "   [0.5254902 ]\n",
            "   [0.5176471 ]]\n",
            "\n",
            "  [[0.5058824 ]\n",
            "   [0.5176471 ]\n",
            "   [0.5254902 ]\n",
            "   ...\n",
            "   [0.53333336]\n",
            "   [0.53333336]\n",
            "   [0.5254902 ]]\n",
            "\n",
            "  [[0.52156866]\n",
            "   [0.5294118 ]\n",
            "   [0.5411765 ]\n",
            "   ...\n",
            "   [0.54901963]\n",
            "   [0.54509807]\n",
            "   [0.5411765 ]]\n",
            "\n",
            "  ...\n",
            "\n",
            "  [[0.6784314 ]\n",
            "   [0.68235296]\n",
            "   [0.69411767]\n",
            "   ...\n",
            "   [0.72156864]\n",
            "   [0.7137255 ]\n",
            "   [0.70980394]]\n",
            "\n",
            "  [[0.6745098 ]\n",
            "   [0.68235296]\n",
            "   [0.69411767]\n",
            "   ...\n",
            "   [0.72156864]\n",
            "   [0.7137255 ]\n",
            "   [0.70980394]]\n",
            "\n",
            "  [[0.6745098 ]\n",
            "   [0.68235296]\n",
            "   [0.69411767]\n",
            "   ...\n",
            "   [0.72156864]\n",
            "   [0.7137255 ]\n",
            "   [0.7058824 ]]]\n",
            "\n",
            "\n",
            " [[[0.33333334]\n",
            "   [0.34509805]\n",
            "   [0.36078432]\n",
            "   ...\n",
            "   [0.7137255 ]\n",
            "   [0.70980394]\n",
            "   [0.69803923]]\n",
            "\n",
            "  [[0.3372549 ]\n",
            "   [0.34509805]\n",
            "   [0.3647059 ]\n",
            "   ...\n",
            "   [0.7176471 ]\n",
            "   [0.70980394]\n",
            "   [0.7019608 ]]\n",
            "\n",
            "  [[0.3372549 ]\n",
            "   [0.34901962]\n",
            "   [0.3647059 ]\n",
            "   ...\n",
            "   [0.7254902 ]\n",
            "   [0.7176471 ]\n",
            "   [0.70980394]]\n",
            "\n",
            "  ...\n",
            "\n",
            "  [[0.35686275]\n",
            "   [0.36862746]\n",
            "   [0.38039216]\n",
            "   ...\n",
            "   [0.8784314 ]\n",
            "   [0.87058824]\n",
            "   [0.8666667 ]]\n",
            "\n",
            "  [[0.3529412 ]\n",
            "   [0.36078432]\n",
            "   [0.3764706 ]\n",
            "   ...\n",
            "   [0.88235295]\n",
            "   [0.8784314 ]\n",
            "   [0.87058824]]\n",
            "\n",
            "  [[0.34901962]\n",
            "   [0.35686275]\n",
            "   [0.36862746]\n",
            "   ...\n",
            "   [0.88235295]\n",
            "   [0.8784314 ]\n",
            "   [0.87058824]]]\n",
            "\n",
            "\n",
            " ...\n",
            "\n",
            "\n",
            " [[[0.74509805]\n",
            "   [0.7490196 ]\n",
            "   [0.74509805]\n",
            "   ...\n",
            "   [0.7254902 ]\n",
            "   [0.72156864]\n",
            "   [0.7176471 ]]\n",
            "\n",
            "  [[0.75686276]\n",
            "   [0.75686276]\n",
            "   [0.75686276]\n",
            "   ...\n",
            "   [0.7294118 ]\n",
            "   [0.7254902 ]\n",
            "   [0.72156864]]\n",
            "\n",
            "  [[0.7647059 ]\n",
            "   [0.7607843 ]\n",
            "   [0.7647059 ]\n",
            "   ...\n",
            "   [0.73333335]\n",
            "   [0.7294118 ]\n",
            "   [0.73333335]]\n",
            "\n",
            "  ...\n",
            "\n",
            "  [[0.8392157 ]\n",
            "   [0.84313726]\n",
            "   [0.8352941 ]\n",
            "   ...\n",
            "   [0.8156863 ]\n",
            "   [0.8156863 ]\n",
            "   [0.8156863 ]]\n",
            "\n",
            "  [[0.8392157 ]\n",
            "   [0.84313726]\n",
            "   [0.81960785]\n",
            "   ...\n",
            "   [0.81960785]\n",
            "   [0.8156863 ]\n",
            "   [0.8117647 ]]\n",
            "\n",
            "  [[0.84313726]\n",
            "   [0.84313726]\n",
            "   [0.8117647 ]\n",
            "   ...\n",
            "   [0.827451  ]\n",
            "   [0.81960785]\n",
            "   [0.8156863 ]]]\n",
            "\n",
            "\n",
            " [[[0.7882353 ]\n",
            "   [0.8039216 ]\n",
            "   [0.8156863 ]\n",
            "   ...\n",
            "   [0.9372549 ]\n",
            "   [0.9372549 ]\n",
            "   [0.9372549 ]]\n",
            "\n",
            "  [[0.80784315]\n",
            "   [0.81960785]\n",
            "   [0.83137256]\n",
            "   ...\n",
            "   [0.9490196 ]\n",
            "   [0.9490196 ]\n",
            "   [0.9490196 ]]\n",
            "\n",
            "  [[0.8235294 ]\n",
            "   [0.8392157 ]\n",
            "   [0.84705883]\n",
            "   ...\n",
            "   [0.9647059 ]\n",
            "   [0.9607843 ]\n",
            "   [0.95686275]]\n",
            "\n",
            "  ...\n",
            "\n",
            "  [[1.        ]\n",
            "   [1.        ]\n",
            "   [1.        ]\n",
            "   ...\n",
            "   [1.        ]\n",
            "   [0.78431374]\n",
            "   [0.5568628 ]]\n",
            "\n",
            "  [[1.        ]\n",
            "   [1.        ]\n",
            "   [1.        ]\n",
            "   ...\n",
            "   [0.3882353 ]\n",
            "   [0.3137255 ]\n",
            "   [0.3019608 ]]\n",
            "\n",
            "  [[1.        ]\n",
            "   [1.        ]\n",
            "   [1.        ]\n",
            "   ...\n",
            "   [0.2627451 ]\n",
            "   [0.27450982]\n",
            "   [0.24705882]]]\n",
            "\n",
            "\n",
            " [[[0.6784314 ]\n",
            "   [0.68235296]\n",
            "   [0.6784314 ]\n",
            "   ...\n",
            "   [0.65882355]\n",
            "   [0.654902  ]\n",
            "   [0.6509804 ]]\n",
            "\n",
            "  [[0.6901961 ]\n",
            "   [0.6901961 ]\n",
            "   [0.6901961 ]\n",
            "   ...\n",
            "   [0.65882355]\n",
            "   [0.65882355]\n",
            "   [0.654902  ]]\n",
            "\n",
            "  [[0.69803923]\n",
            "   [0.69411767]\n",
            "   [0.69803923]\n",
            "   ...\n",
            "   [0.6627451 ]\n",
            "   [0.65882355]\n",
            "   [0.6627451 ]]\n",
            "\n",
            "  ...\n",
            "\n",
            "  [[0.7764706 ]\n",
            "   [0.78039217]\n",
            "   [0.78039217]\n",
            "   ...\n",
            "   [0.7529412 ]\n",
            "   [0.7529412 ]\n",
            "   [0.7529412 ]]\n",
            "\n",
            "  [[0.7764706 ]\n",
            "   [0.78431374]\n",
            "   [0.75686276]\n",
            "   ...\n",
            "   [0.75686276]\n",
            "   [0.7529412 ]\n",
            "   [0.7490196 ]]\n",
            "\n",
            "  [[0.78039217]\n",
            "   [0.7882353 ]\n",
            "   [0.74509805]\n",
            "   ...\n",
            "   [0.7647059 ]\n",
            "   [0.75686276]\n",
            "   [0.7529412 ]]]]\n"
          ]
        }
      ]
    },
    {
      "cell_type": "code",
      "source": [
        "# concatenating the data arrays\n",
        "dataset = np.concatenate((train_dataset, test_dataset))\n",
        "print(dataset)"
      ],
      "metadata": {
        "colab": {
          "base_uri": "https://localhost:8080/"
        },
        "id": "o65Zsm9n2bkT",
        "outputId": "7597b3f8-3c49-4f9e-dcc8-1ecda9f3d84a"
      },
      "execution_count": null,
      "outputs": [
        {
          "output_type": "stream",
          "name": "stdout",
          "text": [
            "[[0.41960785 0.4627451  0.49803922 ... 0.8        0.79607844 0.7921569 ]\n",
            " [0.60784316 0.6156863  0.6117647  ... 0.40392157 0.5294118  0.58431375]\n",
            " [0.73333335 0.7372549  0.7372549  ... 0.7647059  0.7607843  0.7647059 ]\n",
            " ...\n",
            " [0.74509805 0.7490196  0.74509805 ... 0.827451   0.81960785 0.8156863 ]\n",
            " [0.7882353  0.8039216  0.8156863  ... 0.2627451  0.27450982 0.24705882]\n",
            " [0.6784314  0.68235296 0.6784314  ... 0.7647059  0.75686276 0.7529412 ]]\n"
          ]
        }
      ]
    },
    {
      "cell_type": "code",
      "source": [
        "print(dataset.shape)"
      ],
      "metadata": {
        "colab": {
          "base_uri": "https://localhost:8080/"
        },
        "id": "WVjmV53MVpdi",
        "outputId": "3d4c73a2-5d58-4ae3-91e8-68a84298bac8"
      },
      "execution_count": null,
      "outputs": [
        {
          "output_type": "stream",
          "name": "stdout",
          "text": [
            "(34627, 784)\n"
          ]
        }
      ]
    },
    {
      "cell_type": "code",
      "source": [
        "# concatenating the labels\n",
        "labels = pd.concat([train_labels, test_labels], ignore_index=True)\n",
        "labels.head(10)"
      ],
      "metadata": {
        "colab": {
          "base_uri": "https://localhost:8080/"
        },
        "id": "fl7Ss-ws3l3H",
        "outputId": "e9396a50-df0f-4882-daeb-560be181f144"
      },
      "execution_count": null,
      "outputs": [
        {
          "output_type": "execute_result",
          "data": {
            "text/plain": [
              "0     3\n",
              "1     6\n",
              "2     2\n",
              "3     2\n",
              "4    13\n",
              "5    16\n",
              "6     8\n",
              "7    22\n",
              "8     3\n",
              "9     3\n",
              "Name: label, dtype: int64"
            ]
          },
          "metadata": {},
          "execution_count": 42
        }
      ]
    },
    {
      "cell_type": "code",
      "source": [
        "print(labels.shape)"
      ],
      "metadata": {
        "colab": {
          "base_uri": "https://localhost:8080/"
        },
        "id": "W8EsdoNuVjJL",
        "outputId": "071d5e9d-d7c6-4d79-9a9c-26afb9d75e32"
      },
      "execution_count": null,
      "outputs": [
        {
          "output_type": "stream",
          "name": "stdout",
          "text": [
            "(34627,)\n"
          ]
        }
      ]
    },
    {
      "cell_type": "markdown",
      "source": [
        "# **Modelling with NN Models**"
      ],
      "metadata": {
        "id": "rhfB1XNFjs-f"
      }
    },
    {
      "cell_type": "code",
      "source": [
        "N_EPOCHS = 30\n",
        "BATCH_SIZE = 1024"
      ],
      "metadata": {
        "id": "wgngz-9JE2WR"
      },
      "execution_count": null,
      "outputs": []
    },
    {
      "cell_type": "code",
      "source": [
        "# model with a standard Adam optimizer\n",
        "model_v1 = create_model(N_EPOCHS)\n",
        "model_v1.summary()"
      ],
      "metadata": {
        "colab": {
          "base_uri": "https://localhost:8080/"
        },
        "id": "cU_QUrLu8MsW",
        "outputId": "6a49a1ee-ff83-4f07-8b81-cba4aa1e5a4a"
      },
      "execution_count": null,
      "outputs": [
        {
          "output_type": "stream",
          "name": "stdout",
          "text": [
            "KerasTensor(type_spec=TensorSpec(shape=(None, 28, 28, 1), dtype=tf.float32, name='input_3'), name='input_3', description=\"created by layer 'input_3'\")\n",
            "Model: \"model_2\"\n",
            "_________________________________________________________________\n",
            " Layer (type)                Output Shape              Param #   \n",
            "=================================================================\n",
            " input_3 (InputLayer)        [(None, 28, 28, 1)]       0         \n",
            "                                                                 \n",
            " conv2d_6 (Conv2D)           (None, 28, 28, 16)        160       \n",
            "                                                                 \n",
            " batch_normalization_10 (Bat  (None, 28, 28, 16)       64        \n",
            " chNormalization)                                                \n",
            "                                                                 \n",
            " re_lu_10 (ReLU)             (None, 28, 28, 16)        0         \n",
            "                                                                 \n",
            " max_pooling2d_6 (MaxPooling  (None, 14, 14, 16)       0         \n",
            " 2D)                                                             \n",
            "                                                                 \n",
            " conv2d_7 (Conv2D)           (None, 14, 14, 32)        4640      \n",
            "                                                                 \n",
            " batch_normalization_11 (Bat  (None, 14, 14, 32)       128       \n",
            " chNormalization)                                                \n",
            "                                                                 \n",
            " re_lu_11 (ReLU)             (None, 14, 14, 32)        0         \n",
            "                                                                 \n",
            " max_pooling2d_7 (MaxPooling  (None, 7, 7, 32)         0         \n",
            " 2D)                                                             \n",
            "                                                                 \n",
            " conv2d_8 (Conv2D)           (None, 7, 7, 64)          18496     \n",
            "                                                                 \n",
            " batch_normalization_12 (Bat  (None, 7, 7, 64)         256       \n",
            " chNormalization)                                                \n",
            "                                                                 \n",
            " re_lu_12 (ReLU)             (None, 7, 7, 64)          0         \n",
            "                                                                 \n",
            " max_pooling2d_8 (MaxPooling  (None, 4, 4, 64)         0         \n",
            " 2D)                                                             \n",
            "                                                                 \n",
            " flatten_2 (Flatten)         (None, 1024)              0         \n",
            "                                                                 \n",
            " dense_6 (Dense)             (None, 64)                65600     \n",
            "                                                                 \n",
            " batch_normalization_13 (Bat  (None, 64)               256       \n",
            " chNormalization)                                                \n",
            "                                                                 \n",
            " re_lu_13 (ReLU)             (None, 64)                0         \n",
            "                                                                 \n",
            " dropout_4 (Dropout)         (None, 64)                0         \n",
            "                                                                 \n",
            " dense_7 (Dense)             (None, 32)                2080      \n",
            "                                                                 \n",
            " batch_normalization_14 (Bat  (None, 32)               128       \n",
            " chNormalization)                                                \n",
            "                                                                 \n",
            " re_lu_14 (ReLU)             (None, 32)                0         \n",
            "                                                                 \n",
            " dropout_5 (Dropout)         (None, 32)                0         \n",
            "                                                                 \n",
            " dense_8 (Dense)             (None, 25)                825       \n",
            "                                                                 \n",
            " softmax_2 (Softmax)         (None, 25)                0         \n",
            "                                                                 \n",
            "=================================================================\n",
            "Total params: 92,633\n",
            "Trainable params: 92,217\n",
            "Non-trainable params: 416\n",
            "_________________________________________________________________\n"
          ]
        }
      ]
    },
    {
      "cell_type": "code",
      "source": [
        "# the results without data augmentation\n",
        "model_v1_history = model_v1.fit(reshaped_train_dataset, reshaped_train_labels,\n",
        "                            epochs=N_EPOCHS, batch_size=BATCH_SIZE,\n",
        "                            validation_data=(reshaped_test_dataset, reshaped_test_labels),\n",
        "                            verbose=1)"
      ],
      "metadata": {
        "colab": {
          "base_uri": "https://localhost:8080/"
        },
        "id": "mVb8RG9b73Fy",
        "outputId": "1d1d1eb8-0ad2-49f2-df6d-380b2a83a153"
      },
      "execution_count": null,
      "outputs": [
        {
          "output_type": "stream",
          "name": "stdout",
          "text": [
            "Epoch 1/30\n",
            "27/27 [==============================] - 7s 43ms/step - loss: 2.5372 - accuracy: 0.3084 - val_loss: 3.2284 - val_accuracy: 0.0395\n",
            "Epoch 2/30\n",
            "27/27 [==============================] - 1s 24ms/step - loss: 1.6472 - accuracy: 0.7089 - val_loss: 3.2972 - val_accuracy: 0.0343\n",
            "Epoch 3/30\n",
            "27/27 [==============================] - 1s 27ms/step - loss: 1.1418 - accuracy: 0.8792 - val_loss: 3.4295 - val_accuracy: 0.0488\n",
            "Epoch 4/30\n",
            "27/27 [==============================] - 1s 24ms/step - loss: 0.7798 - accuracy: 0.9429 - val_loss: 3.6947 - val_accuracy: 0.0549\n",
            "Epoch 5/30\n",
            "27/27 [==============================] - 1s 24ms/step - loss: 0.5394 - accuracy: 0.9701 - val_loss: 3.9500 - val_accuracy: 0.0899\n",
            "Epoch 6/30\n",
            "27/27 [==============================] - 1s 24ms/step - loss: 0.3902 - accuracy: 0.9829 - val_loss: 4.1887 - val_accuracy: 0.0876\n",
            "Epoch 7/30\n",
            "27/27 [==============================] - 1s 24ms/step - loss: 0.2919 - accuracy: 0.9877 - val_loss: 4.2789 - val_accuracy: 0.0885\n",
            "Epoch 8/30\n",
            "27/27 [==============================] - 1s 25ms/step - loss: 0.2289 - accuracy: 0.9907 - val_loss: 4.1097 - val_accuracy: 0.1216\n",
            "Epoch 9/30\n",
            "27/27 [==============================] - 1s 25ms/step - loss: 0.1839 - accuracy: 0.9933 - val_loss: 3.9804 - val_accuracy: 0.1499\n",
            "Epoch 10/30\n",
            "27/27 [==============================] - 1s 25ms/step - loss: 0.1507 - accuracy: 0.9947 - val_loss: 3.7241 - val_accuracy: 0.1899\n",
            "Epoch 11/30\n",
            "27/27 [==============================] - 1s 24ms/step - loss: 0.1290 - accuracy: 0.9960 - val_loss: 3.5481 - val_accuracy: 0.1885\n",
            "Epoch 12/30\n",
            "27/27 [==============================] - 1s 25ms/step - loss: 0.1106 - accuracy: 0.9954 - val_loss: 3.0939 - val_accuracy: 0.2490\n",
            "Epoch 13/30\n",
            "27/27 [==============================] - 1s 28ms/step - loss: 0.0963 - accuracy: 0.9966 - val_loss: 2.9211 - val_accuracy: 0.3020\n",
            "Epoch 14/30\n",
            "27/27 [==============================] - 1s 31ms/step - loss: 0.0848 - accuracy: 0.9969 - val_loss: 2.3710 - val_accuracy: 0.4091\n",
            "Epoch 15/30\n",
            "27/27 [==============================] - 1s 30ms/step - loss: 0.0769 - accuracy: 0.9965 - val_loss: 2.0184 - val_accuracy: 0.4697\n",
            "Epoch 16/30\n",
            "27/27 [==============================] - 1s 27ms/step - loss: 0.0693 - accuracy: 0.9973 - val_loss: 1.4595 - val_accuracy: 0.6012\n",
            "Epoch 17/30\n",
            "27/27 [==============================] - 1s 27ms/step - loss: 0.0637 - accuracy: 0.9971 - val_loss: 1.2714 - val_accuracy: 0.6556\n",
            "Epoch 18/30\n",
            "27/27 [==============================] - 1s 26ms/step - loss: 0.0580 - accuracy: 0.9973 - val_loss: 0.7961 - val_accuracy: 0.8005\n",
            "Epoch 19/30\n",
            "27/27 [==============================] - 1s 24ms/step - loss: 0.0528 - accuracy: 0.9976 - val_loss: 0.7384 - val_accuracy: 0.8097\n",
            "Epoch 20/30\n",
            "27/27 [==============================] - 1s 25ms/step - loss: 0.0481 - accuracy: 0.9979 - val_loss: 0.4712 - val_accuracy: 0.8869\n",
            "Epoch 21/30\n",
            "27/27 [==============================] - 1s 25ms/step - loss: 0.0444 - accuracy: 0.9981 - val_loss: 0.3989 - val_accuracy: 0.8958\n",
            "Epoch 22/30\n",
            "27/27 [==============================] - 1s 24ms/step - loss: 0.0426 - accuracy: 0.9977 - val_loss: 0.2912 - val_accuracy: 0.9300\n",
            "Epoch 23/30\n",
            "27/27 [==============================] - 1s 25ms/step - loss: 0.0395 - accuracy: 0.9981 - val_loss: 0.2817 - val_accuracy: 0.9251\n",
            "Epoch 24/30\n",
            "27/27 [==============================] - 1s 24ms/step - loss: 0.0374 - accuracy: 0.9976 - val_loss: 0.2507 - val_accuracy: 0.9398\n",
            "Epoch 25/30\n",
            "27/27 [==============================] - 1s 30ms/step - loss: 0.0354 - accuracy: 0.9983 - val_loss: 0.2276 - val_accuracy: 0.9439\n",
            "Epoch 26/30\n",
            "27/27 [==============================] - 1s 27ms/step - loss: 0.0329 - accuracy: 0.9984 - val_loss: 0.2189 - val_accuracy: 0.9488\n",
            "Epoch 27/30\n",
            "27/27 [==============================] - 1s 29ms/step - loss: 0.0303 - accuracy: 0.9987 - val_loss: 0.1955 - val_accuracy: 0.9558\n",
            "Epoch 28/30\n",
            "27/27 [==============================] - 1s 25ms/step - loss: 0.0295 - accuracy: 0.9983 - val_loss: 0.2260 - val_accuracy: 0.9459\n",
            "Epoch 29/30\n",
            "27/27 [==============================] - 1s 25ms/step - loss: 0.0272 - accuracy: 0.9989 - val_loss: 0.2047 - val_accuracy: 0.9509\n",
            "Epoch 30/30\n",
            "27/27 [==============================] - 1s 24ms/step - loss: 0.0267 - accuracy: 0.9987 - val_loss: 0.2030 - val_accuracy: 0.9452\n"
          ]
        }
      ]
    },
    {
      "cell_type": "code",
      "source": [
        "N_EPOCHS = 40\n",
        "BATCH_SIZE = 1024"
      ],
      "metadata": {
        "id": "yfIBSJV8Ir74"
      },
      "execution_count": null,
      "outputs": []
    },
    {
      "cell_type": "code",
      "source": [
        "# model with a modified SGD optimizer\n",
        "model_v2 = create_model(N_EPOCHS)\n",
        "model_v2.summary()"
      ],
      "metadata": {
        "colab": {
          "base_uri": "https://localhost:8080/"
        },
        "id": "4Y91165yEz5X",
        "outputId": "a6d98d95-0443-483f-91f2-262d68d09bbc"
      },
      "execution_count": null,
      "outputs": [
        {
          "output_type": "stream",
          "name": "stdout",
          "text": [
            "Model: \"model_22\"\n",
            "_________________________________________________________________\n",
            " Layer (type)                Output Shape              Param #   \n",
            "=================================================================\n",
            " input_23 (InputLayer)       [(None, 28, 28, 1)]       0         \n",
            "                                                                 \n",
            " conv2d_66 (Conv2D)          (None, 28, 28, 16)        160       \n",
            "                                                                 \n",
            " batch_normalization_110 (Ba  (None, 28, 28, 16)       64        \n",
            " tchNormalization)                                               \n",
            "                                                                 \n",
            " re_lu_110 (ReLU)            (None, 28, 28, 16)        0         \n",
            "                                                                 \n",
            " max_pooling2d_66 (MaxPoolin  (None, 14, 14, 16)       0         \n",
            " g2D)                                                            \n",
            "                                                                 \n",
            " conv2d_67 (Conv2D)          (None, 14, 14, 32)        4640      \n",
            "                                                                 \n",
            " batch_normalization_111 (Ba  (None, 14, 14, 32)       128       \n",
            " tchNormalization)                                               \n",
            "                                                                 \n",
            " re_lu_111 (ReLU)            (None, 14, 14, 32)        0         \n",
            "                                                                 \n",
            " max_pooling2d_67 (MaxPoolin  (None, 7, 7, 32)         0         \n",
            " g2D)                                                            \n",
            "                                                                 \n",
            " conv2d_68 (Conv2D)          (None, 7, 7, 64)          18496     \n",
            "                                                                 \n",
            " batch_normalization_112 (Ba  (None, 7, 7, 64)         256       \n",
            " tchNormalization)                                               \n",
            "                                                                 \n",
            " re_lu_112 (ReLU)            (None, 7, 7, 64)          0         \n",
            "                                                                 \n",
            " max_pooling2d_68 (MaxPoolin  (None, 4, 4, 64)         0         \n",
            " g2D)                                                            \n",
            "                                                                 \n",
            " flatten_22 (Flatten)        (None, 1024)              0         \n",
            "                                                                 \n",
            " dense_66 (Dense)            (None, 64)                65600     \n",
            "                                                                 \n",
            " batch_normalization_113 (Ba  (None, 64)               256       \n",
            " tchNormalization)                                               \n",
            "                                                                 \n",
            " re_lu_113 (ReLU)            (None, 64)                0         \n",
            "                                                                 \n",
            " dropout_44 (Dropout)        (None, 64)                0         \n",
            "                                                                 \n",
            " dense_67 (Dense)            (None, 32)                2080      \n",
            "                                                                 \n",
            " batch_normalization_114 (Ba  (None, 32)               128       \n",
            " tchNormalization)                                               \n",
            "                                                                 \n",
            " re_lu_114 (ReLU)            (None, 32)                0         \n",
            "                                                                 \n",
            " dropout_45 (Dropout)        (None, 32)                0         \n",
            "                                                                 \n",
            " dense_68 (Dense)            (None, 25)                825       \n",
            "                                                                 \n",
            " softmax_22 (Softmax)        (None, 25)                0         \n",
            "                                                                 \n",
            "=================================================================\n",
            "Total params: 92,633\n",
            "Trainable params: 92,217\n",
            "Non-trainable params: 416\n",
            "_________________________________________________________________\n"
          ]
        }
      ]
    },
    {
      "cell_type": "code",
      "source": [
        "# the results without data augmentation\n",
        "model_v2_history = model_v2.fit(reshaped_train_dataset, reshaped_train_labels,\n",
        "                            epochs=N_EPOCHS, batch_size=BATCH_SIZE,\n",
        "                            validation_data=(reshaped_test_dataset, reshaped_test_labels),\n",
        "                            verbose=1)"
      ],
      "metadata": {
        "colab": {
          "base_uri": "https://localhost:8080/"
        },
        "id": "PgPlfod7FnMw",
        "outputId": "1fdc346a-b1a3-419a-9ed7-7760be1cfbb7"
      },
      "execution_count": null,
      "outputs": [
        {
          "output_type": "stream",
          "name": "stdout",
          "text": [
            "Epoch 1/40\n",
            "27/27 [==============================] - 4s 47ms/step - loss: 2.0640 - accuracy: 0.4695 - val_loss: 3.1512 - val_accuracy: 0.0357\n",
            "Epoch 2/40\n",
            "27/27 [==============================] - 1s 28ms/step - loss: 0.6146 - accuracy: 0.8754 - val_loss: 3.2024 - val_accuracy: 0.0633\n",
            "Epoch 3/40\n",
            "27/27 [==============================] - 1s 25ms/step - loss: 0.2588 - accuracy: 0.9540 - val_loss: 3.2622 - val_accuracy: 0.0605\n",
            "Epoch 4/40\n",
            "27/27 [==============================] - 1s 26ms/step - loss: 0.1570 - accuracy: 0.9733 - val_loss: 3.0582 - val_accuracy: 0.0968\n",
            "Epoch 5/40\n",
            "27/27 [==============================] - 1s 25ms/step - loss: 0.1083 - accuracy: 0.9830 - val_loss: 2.9288 - val_accuracy: 0.1129\n",
            "Epoch 6/40\n",
            "27/27 [==============================] - 1s 24ms/step - loss: 0.0882 - accuracy: 0.9854 - val_loss: 2.9046 - val_accuracy: 0.1124\n",
            "Epoch 7/40\n",
            "27/27 [==============================] - 1s 24ms/step - loss: 0.0758 - accuracy: 0.9880 - val_loss: 2.4954 - val_accuracy: 0.2471\n",
            "Epoch 8/40\n",
            "27/27 [==============================] - 1s 24ms/step - loss: 0.0609 - accuracy: 0.9913 - val_loss: 2.5483 - val_accuracy: 0.2234\n",
            "Epoch 9/40\n",
            "27/27 [==============================] - 1s 24ms/step - loss: 0.0599 - accuracy: 0.9904 - val_loss: 2.1041 - val_accuracy: 0.3465\n",
            "Epoch 10/40\n",
            "27/27 [==============================] - 1s 24ms/step - loss: 0.0511 - accuracy: 0.9919 - val_loss: 1.7314 - val_accuracy: 0.4583\n",
            "Epoch 11/40\n",
            "27/27 [==============================] - 1s 24ms/step - loss: 0.0461 - accuracy: 0.9929 - val_loss: 1.4069 - val_accuracy: 0.5871\n",
            "Epoch 12/40\n",
            "27/27 [==============================] - 1s 24ms/step - loss: 0.0441 - accuracy: 0.9926 - val_loss: 1.1555 - val_accuracy: 0.6716\n",
            "Epoch 13/40\n",
            "27/27 [==============================] - 1s 25ms/step - loss: 0.0386 - accuracy: 0.9938 - val_loss: 0.7782 - val_accuracy: 0.7903\n",
            "Epoch 14/40\n",
            "27/27 [==============================] - 1s 25ms/step - loss: 0.0358 - accuracy: 0.9948 - val_loss: 0.6656 - val_accuracy: 0.8176\n",
            "Epoch 15/40\n",
            "27/27 [==============================] - 1s 24ms/step - loss: 0.0360 - accuracy: 0.9938 - val_loss: 0.5633 - val_accuracy: 0.8461\n",
            "Epoch 16/40\n",
            "27/27 [==============================] - 1s 24ms/step - loss: 0.0332 - accuracy: 0.9951 - val_loss: 0.4042 - val_accuracy: 0.8850\n",
            "Epoch 17/40\n",
            "27/27 [==============================] - 1s 24ms/step - loss: 0.0308 - accuracy: 0.9950 - val_loss: 0.3171 - val_accuracy: 0.9105\n",
            "Epoch 18/40\n",
            "27/27 [==============================] - 1s 24ms/step - loss: 0.0300 - accuracy: 0.9958 - val_loss: 0.2272 - val_accuracy: 0.9444\n",
            "Epoch 19/40\n",
            "27/27 [==============================] - 1s 26ms/step - loss: 0.0290 - accuracy: 0.9961 - val_loss: 0.3172 - val_accuracy: 0.9053\n",
            "Epoch 20/40\n",
            "27/27 [==============================] - 1s 29ms/step - loss: 0.0283 - accuracy: 0.9961 - val_loss: 0.2248 - val_accuracy: 0.9331\n",
            "Epoch 21/40\n",
            "27/27 [==============================] - 1s 28ms/step - loss: 0.0262 - accuracy: 0.9961 - val_loss: 0.3307 - val_accuracy: 0.9193\n",
            "Epoch 22/40\n",
            "27/27 [==============================] - 1s 26ms/step - loss: 0.0263 - accuracy: 0.9964 - val_loss: 0.1980 - val_accuracy: 0.9491\n",
            "Epoch 23/40\n",
            "27/27 [==============================] - 1s 28ms/step - loss: 0.0229 - accuracy: 0.9973 - val_loss: 0.2602 - val_accuracy: 0.9137\n",
            "Epoch 24/40\n",
            "27/27 [==============================] - 1s 26ms/step - loss: 0.0249 - accuracy: 0.9962 - val_loss: 0.1995 - val_accuracy: 0.9388\n",
            "Epoch 25/40\n",
            "27/27 [==============================] - 1s 25ms/step - loss: 0.0238 - accuracy: 0.9966 - val_loss: 0.2555 - val_accuracy: 0.9350\n",
            "Epoch 26/40\n",
            "27/27 [==============================] - 1s 24ms/step - loss: 0.0221 - accuracy: 0.9972 - val_loss: 0.1740 - val_accuracy: 0.9459\n",
            "Epoch 27/40\n",
            "27/27 [==============================] - 1s 24ms/step - loss: 0.0219 - accuracy: 0.9973 - val_loss: 0.1915 - val_accuracy: 0.9414\n",
            "Epoch 28/40\n",
            "27/27 [==============================] - 1s 25ms/step - loss: 0.0225 - accuracy: 0.9966 - val_loss: 0.1772 - val_accuracy: 0.9488\n",
            "Epoch 29/40\n",
            "27/27 [==============================] - 1s 25ms/step - loss: 0.0219 - accuracy: 0.9973 - val_loss: 0.1761 - val_accuracy: 0.9460\n",
            "Epoch 30/40\n",
            "27/27 [==============================] - 1s 24ms/step - loss: 0.0201 - accuracy: 0.9977 - val_loss: 0.1925 - val_accuracy: 0.9414\n",
            "Epoch 31/40\n",
            "27/27 [==============================] - 1s 25ms/step - loss: 0.0202 - accuracy: 0.9976 - val_loss: 0.1913 - val_accuracy: 0.9448\n",
            "Epoch 32/40\n",
            "27/27 [==============================] - 1s 25ms/step - loss: 0.0201 - accuracy: 0.9976 - val_loss: 0.2155 - val_accuracy: 0.9304\n",
            "Epoch 33/40\n",
            "27/27 [==============================] - 1s 24ms/step - loss: 0.0190 - accuracy: 0.9976 - val_loss: 0.2361 - val_accuracy: 0.9232\n",
            "Epoch 34/40\n",
            "27/27 [==============================] - 1s 25ms/step - loss: 0.0193 - accuracy: 0.9977 - val_loss: 0.1738 - val_accuracy: 0.9545\n",
            "Epoch 35/40\n",
            "27/27 [==============================] - 1s 25ms/step - loss: 0.0194 - accuracy: 0.9973 - val_loss: 0.1974 - val_accuracy: 0.9441\n",
            "Epoch 36/40\n",
            "27/27 [==============================] - 1s 24ms/step - loss: 0.0182 - accuracy: 0.9978 - val_loss: 0.2022 - val_accuracy: 0.9407\n",
            "Epoch 37/40\n",
            "27/27 [==============================] - 1s 24ms/step - loss: 0.0189 - accuracy: 0.9974 - val_loss: 0.2043 - val_accuracy: 0.9416\n",
            "Epoch 38/40\n",
            "27/27 [==============================] - 1s 24ms/step - loss: 0.0175 - accuracy: 0.9981 - val_loss: 0.2145 - val_accuracy: 0.9439\n",
            "Epoch 39/40\n",
            "27/27 [==============================] - 1s 26ms/step - loss: 0.0173 - accuracy: 0.9981 - val_loss: 0.1854 - val_accuracy: 0.9438\n",
            "Epoch 40/40\n",
            "27/27 [==============================] - 1s 25ms/step - loss: 0.0160 - accuracy: 0.9985 - val_loss: 0.1738 - val_accuracy: 0.9593\n"
          ]
        }
      ]
    },
    {
      "cell_type": "code",
      "source": [
        "model_v2.save(\"model_v2_95%.h5\")"
      ],
      "metadata": {
        "id": "5x7X77goKgwt"
      },
      "execution_count": null,
      "outputs": []
    },
    {
      "cell_type": "code",
      "source": [
        "N_EPOCHS = 30\n",
        "BATCH_SIZE = 1024"
      ],
      "metadata": {
        "id": "QTOwX1WiZue8"
      },
      "execution_count": null,
      "outputs": []
    },
    {
      "cell_type": "code",
      "source": [
        "model_v3 = create_model_with_data_augmentation(N_EPOCHS)\n",
        "model_v3.summary()"
      ],
      "metadata": {
        "colab": {
          "base_uri": "https://localhost:8080/"
        },
        "id": "1sEvrq1iZoSj",
        "outputId": "6c194a08-b34a-4367-9447-3a531063bd95"
      },
      "execution_count": null,
      "outputs": [
        {
          "output_type": "stream",
          "name": "stdout",
          "text": [
            "Model: \"model_1\"\n",
            "_________________________________________________________________\n",
            " Layer (type)                Output Shape              Param #   \n",
            "=================================================================\n",
            " input_2 (InputLayer)        [(None, 28, 28, 1)]       0         \n",
            "                                                                 \n",
            " sequential (Sequential)     (None, 28, 28, 1)         0         \n",
            "                                                                 \n",
            " conv2d_3 (Conv2D)           (None, 28, 28, 16)        160       \n",
            "                                                                 \n",
            " batch_normalization_5 (Batc  (None, 28, 28, 16)       64        \n",
            " hNormalization)                                                 \n",
            "                                                                 \n",
            " re_lu_5 (ReLU)              (None, 28, 28, 16)        0         \n",
            "                                                                 \n",
            " max_pooling2d_3 (MaxPooling  (None, 14, 14, 16)       0         \n",
            " 2D)                                                             \n",
            "                                                                 \n",
            " conv2d_4 (Conv2D)           (None, 14, 14, 32)        4640      \n",
            "                                                                 \n",
            " batch_normalization_6 (Batc  (None, 14, 14, 32)       128       \n",
            " hNormalization)                                                 \n",
            "                                                                 \n",
            " re_lu_6 (ReLU)              (None, 14, 14, 32)        0         \n",
            "                                                                 \n",
            " max_pooling2d_4 (MaxPooling  (None, 7, 7, 32)         0         \n",
            " 2D)                                                             \n",
            "                                                                 \n",
            " conv2d_5 (Conv2D)           (None, 7, 7, 64)          18496     \n",
            "                                                                 \n",
            " batch_normalization_7 (Batc  (None, 7, 7, 64)         256       \n",
            " hNormalization)                                                 \n",
            "                                                                 \n",
            " re_lu_7 (ReLU)              (None, 7, 7, 64)          0         \n",
            "                                                                 \n",
            " max_pooling2d_5 (MaxPooling  (None, 4, 4, 64)         0         \n",
            " 2D)                                                             \n",
            "                                                                 \n",
            " flatten_1 (Flatten)         (None, 1024)              0         \n",
            "                                                                 \n",
            " dense_3 (Dense)             (None, 64)                65600     \n",
            "                                                                 \n",
            " batch_normalization_8 (Batc  (None, 64)               256       \n",
            " hNormalization)                                                 \n",
            "                                                                 \n",
            " re_lu_8 (ReLU)              (None, 64)                0         \n",
            "                                                                 \n",
            " dropout_2 (Dropout)         (None, 64)                0         \n",
            "                                                                 \n",
            " dense_4 (Dense)             (None, 32)                2080      \n",
            "                                                                 \n",
            " batch_normalization_9 (Batc  (None, 32)               128       \n",
            " hNormalization)                                                 \n",
            "                                                                 \n",
            " re_lu_9 (ReLU)              (None, 32)                0         \n",
            "                                                                 \n",
            " dropout_3 (Dropout)         (None, 32)                0         \n",
            "                                                                 \n",
            " dense_5 (Dense)             (None, 25)                825       \n",
            "                                                                 \n",
            " softmax_1 (Softmax)         (None, 25)                0         \n",
            "                                                                 \n",
            "=================================================================\n",
            "Total params: 92,633\n",
            "Trainable params: 92,217\n",
            "Non-trainable params: 416\n",
            "_________________________________________________________________\n"
          ]
        }
      ]
    },
    {
      "cell_type": "code",
      "source": [
        "# fitting with data augmentation (with a RandomFlip layer)\n",
        "model_v3_history = model_v3.fit(reshaped_train_dataset, reshaped_train_labels,\n",
        "                            epochs=N_EPOCHS, batch_size=BATCH_SIZE,\n",
        "                            validation_data=(reshaped_test_dataset, reshaped_test_labels),\n",
        "                            verbose=1)"
      ],
      "metadata": {
        "colab": {
          "base_uri": "https://localhost:8080/"
        },
        "id": "w9Rz5OMNZ0CU",
        "outputId": "a7697cc2-d51a-401d-961a-f5a4b1cfbfeb"
      },
      "execution_count": null,
      "outputs": [
        {
          "output_type": "stream",
          "name": "stdout",
          "text": [
            "Epoch 1/30\n",
            "27/27 [==============================] - 4s 48ms/step - loss: 3.0974 - accuracy: 0.1002 - val_loss: 3.2567 - val_accuracy: 0.0371\n",
            "Epoch 2/30\n",
            "27/27 [==============================] - 1s 33ms/step - loss: 2.6119 - accuracy: 0.2016 - val_loss: 3.6406 - val_accuracy: 0.0287\n",
            "Epoch 3/30\n",
            "27/27 [==============================] - 1s 27ms/step - loss: 2.2564 - accuracy: 0.2834 - val_loss: 4.2447 - val_accuracy: 0.0293\n",
            "Epoch 4/30\n",
            "27/27 [==============================] - 1s 26ms/step - loss: 1.8587 - accuracy: 0.3869 - val_loss: 4.3804 - val_accuracy: 0.0678\n",
            "Epoch 5/30\n",
            "27/27 [==============================] - 1s 26ms/step - loss: 1.6139 - accuracy: 0.4610 - val_loss: 3.8327 - val_accuracy: 0.0873\n",
            "Epoch 6/30\n",
            "27/27 [==============================] - 1s 25ms/step - loss: 1.4259 - accuracy: 0.5154 - val_loss: 4.6268 - val_accuracy: 0.0353\n",
            "Epoch 7/30\n",
            "27/27 [==============================] - 1s 25ms/step - loss: 1.2978 - accuracy: 0.5555 - val_loss: 2.9377 - val_accuracy: 0.2108\n",
            "Epoch 8/30\n",
            "27/27 [==============================] - 1s 26ms/step - loss: 1.1674 - accuracy: 0.5979 - val_loss: 2.8038 - val_accuracy: 0.2231\n",
            "Epoch 9/30\n",
            "27/27 [==============================] - 1s 26ms/step - loss: 1.0878 - accuracy: 0.6213 - val_loss: 2.9258 - val_accuracy: 0.2623\n",
            "Epoch 10/30\n",
            "27/27 [==============================] - 1s 26ms/step - loss: 1.0173 - accuracy: 0.6465 - val_loss: 1.9736 - val_accuracy: 0.3914\n",
            "Epoch 11/30\n",
            "27/27 [==============================] - 1s 26ms/step - loss: 0.9248 - accuracy: 0.6790 - val_loss: 1.7144 - val_accuracy: 0.4515\n",
            "Epoch 12/30\n",
            "27/27 [==============================] - 1s 26ms/step - loss: 0.8625 - accuracy: 0.7001 - val_loss: 1.7012 - val_accuracy: 0.4296\n",
            "Epoch 13/30\n",
            "27/27 [==============================] - 1s 25ms/step - loss: 0.8078 - accuracy: 0.7182 - val_loss: 1.3911 - val_accuracy: 0.5651\n",
            "Epoch 14/30\n",
            "27/27 [==============================] - 1s 26ms/step - loss: 0.7535 - accuracy: 0.7402 - val_loss: 1.5933 - val_accuracy: 0.4974\n",
            "Epoch 15/30\n",
            "27/27 [==============================] - 1s 29ms/step - loss: 0.7075 - accuracy: 0.7561 - val_loss: 1.4476 - val_accuracy: 0.5424\n",
            "Epoch 16/30\n",
            "27/27 [==============================] - 1s 26ms/step - loss: 0.6726 - accuracy: 0.7688 - val_loss: 0.8298 - val_accuracy: 0.7421\n",
            "Epoch 17/30\n",
            "27/27 [==============================] - 1s 28ms/step - loss: 0.6394 - accuracy: 0.7792 - val_loss: 1.1311 - val_accuracy: 0.6270\n",
            "Epoch 18/30\n",
            "27/27 [==============================] - 1s 29ms/step - loss: 0.5984 - accuracy: 0.7928 - val_loss: 1.6111 - val_accuracy: 0.5240\n",
            "Epoch 19/30\n",
            "27/27 [==============================] - 1s 30ms/step - loss: 0.5822 - accuracy: 0.8015 - val_loss: 1.1704 - val_accuracy: 0.6438\n",
            "Epoch 20/30\n",
            "27/27 [==============================] - 1s 33ms/step - loss: 0.5435 - accuracy: 0.8140 - val_loss: 0.8178 - val_accuracy: 0.7412\n",
            "Epoch 21/30\n",
            "27/27 [==============================] - 1s 30ms/step - loss: 0.5249 - accuracy: 0.8204 - val_loss: 1.2055 - val_accuracy: 0.6390\n",
            "Epoch 22/30\n",
            "27/27 [==============================] - 1s 26ms/step - loss: 0.5001 - accuracy: 0.8317 - val_loss: 0.7588 - val_accuracy: 0.7624\n",
            "Epoch 23/30\n",
            "27/27 [==============================] - 1s 26ms/step - loss: 0.4750 - accuracy: 0.8382 - val_loss: 0.9324 - val_accuracy: 0.7202\n",
            "Epoch 24/30\n",
            "27/27 [==============================] - 1s 26ms/step - loss: 0.4541 - accuracy: 0.8485 - val_loss: 1.7045 - val_accuracy: 0.5265\n",
            "Epoch 25/30\n",
            "27/27 [==============================] - 1s 25ms/step - loss: 0.4319 - accuracy: 0.8547 - val_loss: 0.7126 - val_accuracy: 0.7570\n",
            "Epoch 26/30\n",
            "27/27 [==============================] - 1s 26ms/step - loss: 0.4200 - accuracy: 0.8578 - val_loss: 0.6944 - val_accuracy: 0.7648\n",
            "Epoch 27/30\n",
            "27/27 [==============================] - 1s 25ms/step - loss: 0.4071 - accuracy: 0.8639 - val_loss: 1.4457 - val_accuracy: 0.5859\n",
            "Epoch 28/30\n",
            "27/27 [==============================] - 1s 25ms/step - loss: 0.3916 - accuracy: 0.8691 - val_loss: 1.4422 - val_accuracy: 0.6004\n",
            "Epoch 29/30\n",
            "27/27 [==============================] - 1s 25ms/step - loss: 0.3730 - accuracy: 0.8771 - val_loss: 1.0017 - val_accuracy: 0.6983\n",
            "Epoch 30/30\n",
            "27/27 [==============================] - 1s 27ms/step - loss: 0.3604 - accuracy: 0.8791 - val_loss: 1.4305 - val_accuracy: 0.6325\n"
          ]
        }
      ]
    },
    {
      "cell_type": "code",
      "source": [
        "N_EPOCHS = 30\n",
        "BATCH_SIZE = 1024"
      ],
      "metadata": {
        "id": "RJOUHWekXa_7"
      },
      "execution_count": null,
      "outputs": []
    },
    {
      "cell_type": "code",
      "source": [
        "model_v4 = create_model(N_EPOCHS)\n",
        "model_v4.summary()"
      ],
      "metadata": {
        "colab": {
          "base_uri": "https://localhost:8080/"
        },
        "id": "J3SU-9v-XpT8",
        "outputId": "1e0e7909-ebd1-48e8-9a14-5fb53062cb38"
      },
      "execution_count": null,
      "outputs": [
        {
          "output_type": "stream",
          "name": "stdout",
          "text": [
            "Model: \"model\"\n",
            "_________________________________________________________________\n",
            " Layer (type)                Output Shape              Param #   \n",
            "=================================================================\n",
            " input_1 (InputLayer)        [(None, 28, 28, 1)]       0         \n",
            "                                                                 \n",
            " conv2d (Conv2D)             (None, 28, 28, 16)        160       \n",
            "                                                                 \n",
            " batch_normalization (BatchN  (None, 28, 28, 16)       64        \n",
            " ormalization)                                                   \n",
            "                                                                 \n",
            " re_lu (ReLU)                (None, 28, 28, 16)        0         \n",
            "                                                                 \n",
            " max_pooling2d (MaxPooling2D  (None, 14, 14, 16)       0         \n",
            " )                                                               \n",
            "                                                                 \n",
            " conv2d_1 (Conv2D)           (None, 14, 14, 32)        4640      \n",
            "                                                                 \n",
            " batch_normalization_1 (Batc  (None, 14, 14, 32)       128       \n",
            " hNormalization)                                                 \n",
            "                                                                 \n",
            " re_lu_1 (ReLU)              (None, 14, 14, 32)        0         \n",
            "                                                                 \n",
            " max_pooling2d_1 (MaxPooling  (None, 7, 7, 32)         0         \n",
            " 2D)                                                             \n",
            "                                                                 \n",
            " conv2d_2 (Conv2D)           (None, 7, 7, 64)          18496     \n",
            "                                                                 \n",
            " batch_normalization_2 (Batc  (None, 7, 7, 64)         256       \n",
            " hNormalization)                                                 \n",
            "                                                                 \n",
            " re_lu_2 (ReLU)              (None, 7, 7, 64)          0         \n",
            "                                                                 \n",
            " max_pooling2d_2 (MaxPooling  (None, 4, 4, 64)         0         \n",
            " 2D)                                                             \n",
            "                                                                 \n",
            " flatten (Flatten)           (None, 1024)              0         \n",
            "                                                                 \n",
            " dense (Dense)               (None, 64)                65600     \n",
            "                                                                 \n",
            " batch_normalization_3 (Batc  (None, 64)               256       \n",
            " hNormalization)                                                 \n",
            "                                                                 \n",
            " re_lu_3 (ReLU)              (None, 64)                0         \n",
            "                                                                 \n",
            " dropout (Dropout)           (None, 64)                0         \n",
            "                                                                 \n",
            " dense_1 (Dense)             (None, 32)                2080      \n",
            "                                                                 \n",
            " batch_normalization_4 (Batc  (None, 32)               128       \n",
            " hNormalization)                                                 \n",
            "                                                                 \n",
            " re_lu_4 (ReLU)              (None, 32)                0         \n",
            "                                                                 \n",
            " dropout_1 (Dropout)         (None, 32)                0         \n",
            "                                                                 \n",
            " dense_2 (Dense)             (None, 25)                825       \n",
            "                                                                 \n",
            " softmax (Softmax)           (None, 25)                0         \n",
            "                                                                 \n",
            "=================================================================\n",
            "Total params: 92,633\n",
            "Trainable params: 92,217\n",
            "Non-trainable params: 416\n",
            "_________________________________________________________________\n"
          ]
        }
      ]
    },
    {
      "cell_type": "code",
      "source": [
        "# creating an ImageDataGenerator with data augmentation (to prevent overfitting)\n",
        "datagen = ImageDataGenerator(rotation_range=10, zoom_range = 0.1,\n",
        "                             width_shift_range=0.1, height_shift_range=0.1)\n",
        "\n",
        "datagen.fit(reshaped_train_dataset)"
      ],
      "metadata": {
        "id": "MUhF_k9odrLx"
      },
      "execution_count": null,
      "outputs": []
    },
    {
      "cell_type": "code",
      "source": [
        "# fitting with the ImageDataGenerator\n",
        "model_v4_history = model_v4.fit(datagen.flow(reshaped_train_dataset, reshaped_train_labels, batch_size=BATCH_SIZE),\n",
        "                            epochs=N_EPOCHS,\n",
        "                            validation_data=(reshaped_test_dataset, reshaped_test_labels),\n",
        "                            verbose=1)"
      ],
      "metadata": {
        "colab": {
          "base_uri": "https://localhost:8080/"
        },
        "id": "kwDkzqSuX1JD",
        "outputId": "001a08f7-c1f2-46e5-839c-839e58762970"
      },
      "execution_count": null,
      "outputs": [
        {
          "output_type": "stream",
          "name": "stdout",
          "text": [
            "Epoch 1/30\n",
            "27/27 [==============================] - 21s 371ms/step - loss: 2.4720 - accuracy: 0.3013 - val_loss: 3.1358 - val_accuracy: 0.1272\n",
            "Epoch 2/30\n",
            "27/27 [==============================] - 10s 373ms/step - loss: 1.3112 - accuracy: 0.6178 - val_loss: 2.8655 - val_accuracy: 0.1287\n",
            "Epoch 3/30\n",
            "27/27 [==============================] - 9s 332ms/step - loss: 0.7915 - accuracy: 0.7592 - val_loss: 2.8106 - val_accuracy: 0.1825\n",
            "Epoch 4/30\n",
            "27/27 [==============================] - 8s 307ms/step - loss: 0.5473 - accuracy: 0.8364 - val_loss: 2.7124 - val_accuracy: 0.1500\n",
            "Epoch 5/30\n",
            "27/27 [==============================] - 7s 277ms/step - loss: 0.4190 - accuracy: 0.8766 - val_loss: 2.6000 - val_accuracy: 0.2008\n",
            "Epoch 6/30\n",
            "27/27 [==============================] - 11s 431ms/step - loss: 0.3075 - accuracy: 0.9136 - val_loss: 2.4060 - val_accuracy: 0.2843\n",
            "Epoch 7/30\n",
            "27/27 [==============================] - 9s 346ms/step - loss: 0.2484 - accuracy: 0.9301 - val_loss: 1.9768 - val_accuracy: 0.3956\n",
            "Epoch 8/30\n",
            "27/27 [==============================] - 8s 279ms/step - loss: 0.2088 - accuracy: 0.9426 - val_loss: 1.4524 - val_accuracy: 0.5368\n",
            "Epoch 9/30\n",
            "27/27 [==============================] - 11s 424ms/step - loss: 0.1834 - accuracy: 0.9501 - val_loss: 1.4390 - val_accuracy: 0.5963\n",
            "Epoch 10/30\n",
            "27/27 [==============================] - 9s 344ms/step - loss: 0.1528 - accuracy: 0.9598 - val_loss: 0.7397 - val_accuracy: 0.7787\n",
            "Epoch 11/30\n",
            "27/27 [==============================] - 7s 273ms/step - loss: 0.1452 - accuracy: 0.9617 - val_loss: 0.4912 - val_accuracy: 0.8523\n",
            "Epoch 12/30\n",
            "27/27 [==============================] - 9s 337ms/step - loss: 0.1221 - accuracy: 0.9686 - val_loss: 0.4704 - val_accuracy: 0.8661\n",
            "Epoch 13/30\n",
            "27/27 [==============================] - 10s 389ms/step - loss: 0.1160 - accuracy: 0.9705 - val_loss: 0.2606 - val_accuracy: 0.9332\n",
            "Epoch 14/30\n",
            "27/27 [==============================] - 8s 291ms/step - loss: 0.1033 - accuracy: 0.9735 - val_loss: 0.1339 - val_accuracy: 0.9661\n",
            "Epoch 15/30\n",
            "27/27 [==============================] - 9s 332ms/step - loss: 0.0915 - accuracy: 0.9772 - val_loss: 0.2110 - val_accuracy: 0.9438\n",
            "Epoch 16/30\n",
            "27/27 [==============================] - 8s 303ms/step - loss: 0.0935 - accuracy: 0.9757 - val_loss: 0.0735 - val_accuracy: 0.9873\n",
            "Epoch 17/30\n",
            "27/27 [==============================] - 10s 381ms/step - loss: 0.0867 - accuracy: 0.9779 - val_loss: 0.1294 - val_accuracy: 0.9647\n",
            "Epoch 18/30\n",
            "27/27 [==============================] - 9s 319ms/step - loss: 0.0778 - accuracy: 0.9816 - val_loss: 0.1071 - val_accuracy: 0.9710\n",
            "Epoch 19/30\n",
            "27/27 [==============================] - 8s 278ms/step - loss: 0.0732 - accuracy: 0.9824 - val_loss: 0.0471 - val_accuracy: 0.9901\n",
            "Epoch 20/30\n",
            "27/27 [==============================] - 11s 411ms/step - loss: 0.0691 - accuracy: 0.9839 - val_loss: 0.0708 - val_accuracy: 0.9859\n",
            "Epoch 21/30\n",
            "27/27 [==============================] - 9s 337ms/step - loss: 0.0659 - accuracy: 0.9841 - val_loss: 0.0112 - val_accuracy: 0.9989\n",
            "Epoch 22/30\n",
            "27/27 [==============================] - 7s 273ms/step - loss: 0.0634 - accuracy: 0.9845 - val_loss: 0.0498 - val_accuracy: 0.9883\n",
            "Epoch 23/30\n",
            "27/27 [==============================] - 19s 710ms/step - loss: 0.0611 - accuracy: 0.9859 - val_loss: 0.0765 - val_accuracy: 0.9780\n",
            "Epoch 24/30\n",
            "27/27 [==============================] - 13s 464ms/step - loss: 0.0546 - accuracy: 0.9888 - val_loss: 0.0160 - val_accuracy: 0.9971\n",
            "Epoch 25/30\n",
            "27/27 [==============================] - 10s 377ms/step - loss: 0.0532 - accuracy: 0.9880 - val_loss: 0.0451 - val_accuracy: 0.9898\n",
            "Epoch 26/30\n",
            "27/27 [==============================] - 8s 313ms/step - loss: 0.0489 - accuracy: 0.9896 - val_loss: 0.0709 - val_accuracy: 0.9802\n",
            "Epoch 27/30\n",
            "27/27 [==============================] - 15s 532ms/step - loss: 0.0508 - accuracy: 0.9892 - val_loss: 0.0444 - val_accuracy: 0.9854\n",
            "Epoch 28/30\n",
            "27/27 [==============================] - 11s 377ms/step - loss: 0.0494 - accuracy: 0.9903 - val_loss: 0.0205 - val_accuracy: 0.9989\n",
            "Epoch 29/30\n",
            "27/27 [==============================] - 14s 533ms/step - loss: 0.0464 - accuracy: 0.9899 - val_loss: 0.0176 - val_accuracy: 0.9983\n",
            "Epoch 30/30\n",
            "27/27 [==============================] - 10s 361ms/step - loss: 0.0439 - accuracy: 0.9913 - val_loss: 0.0260 - val_accuracy: 0.9933\n"
          ]
        }
      ]
    },
    {
      "cell_type": "code",
      "source": [
        "model_v5 = create_model(N_EPOCHS)\n",
        "model_v5.summary()"
      ],
      "metadata": {
        "colab": {
          "base_uri": "https://localhost:8080/"
        },
        "id": "eifaYBhCb25Q",
        "outputId": "bdb828c7-797f-4186-ddfe-ac877b67d1a4"
      },
      "execution_count": null,
      "outputs": [
        {
          "output_type": "stream",
          "name": "stdout",
          "text": [
            "Model: \"model\"\n",
            "_________________________________________________________________\n",
            " Layer (type)                Output Shape              Param #   \n",
            "=================================================================\n",
            " input_1 (InputLayer)        [(None, 28, 28, 1)]       0         \n",
            "                                                                 \n",
            " conv2d (Conv2D)             (None, 28, 28, 16)        160       \n",
            "                                                                 \n",
            " batch_normalization (BatchN  (None, 28, 28, 16)       64        \n",
            " ormalization)                                                   \n",
            "                                                                 \n",
            " re_lu (ReLU)                (None, 28, 28, 16)        0         \n",
            "                                                                 \n",
            " max_pooling2d (MaxPooling2D  (None, 14, 14, 16)       0         \n",
            " )                                                               \n",
            "                                                                 \n",
            " conv2d_1 (Conv2D)           (None, 14, 14, 32)        4640      \n",
            "                                                                 \n",
            " batch_normalization_1 (Batc  (None, 14, 14, 32)       128       \n",
            " hNormalization)                                                 \n",
            "                                                                 \n",
            " re_lu_1 (ReLU)              (None, 14, 14, 32)        0         \n",
            "                                                                 \n",
            " max_pooling2d_1 (MaxPooling  (None, 7, 7, 32)         0         \n",
            " 2D)                                                             \n",
            "                                                                 \n",
            " conv2d_2 (Conv2D)           (None, 7, 7, 64)          18496     \n",
            "                                                                 \n",
            " batch_normalization_2 (Batc  (None, 7, 7, 64)         256       \n",
            " hNormalization)                                                 \n",
            "                                                                 \n",
            " re_lu_2 (ReLU)              (None, 7, 7, 64)          0         \n",
            "                                                                 \n",
            " max_pooling2d_2 (MaxPooling  (None, 4, 4, 64)         0         \n",
            " 2D)                                                             \n",
            "                                                                 \n",
            " flatten (Flatten)           (None, 1024)              0         \n",
            "                                                                 \n",
            " dense (Dense)               (None, 64)                65600     \n",
            "                                                                 \n",
            " batch_normalization_3 (Batc  (None, 64)               256       \n",
            " hNormalization)                                                 \n",
            "                                                                 \n",
            " re_lu_3 (ReLU)              (None, 64)                0         \n",
            "                                                                 \n",
            " dropout (Dropout)           (None, 64)                0         \n",
            "                                                                 \n",
            " dense_1 (Dense)             (None, 32)                2080      \n",
            "                                                                 \n",
            " batch_normalization_4 (Batc  (None, 32)               128       \n",
            " hNormalization)                                                 \n",
            "                                                                 \n",
            " re_lu_4 (ReLU)              (None, 32)                0         \n",
            "                                                                 \n",
            " dropout_1 (Dropout)         (None, 32)                0         \n",
            "                                                                 \n",
            " dense_2 (Dense)             (None, 25)                825       \n",
            "                                                                 \n",
            " softmax (Softmax)           (None, 25)                0         \n",
            "                                                                 \n",
            "=================================================================\n",
            "Total params: 92,633\n",
            "Trainable params: 92,217\n",
            "Non-trainable params: 416\n",
            "_________________________________________________________________\n"
          ]
        }
      ]
    },
    {
      "cell_type": "code",
      "source": [
        "learning_rate_reduction = ReduceLROnPlateau(monitor=\"val_accuracy\", patience=2,\n",
        "                                            factor=0.3, min_lr=0.00001,\n",
        "                                            verbose=1)"
      ],
      "metadata": {
        "id": "O0sfPOU2b2GC"
      },
      "execution_count": null,
      "outputs": []
    },
    {
      "cell_type": "code",
      "source": [
        "# fitting with the ImageDataGenerator, learning_rate_reduction and Adam optimizer\n",
        "model_v5_history = model_v5.fit(datagen.flow(reshaped_train_dataset, reshaped_train_labels, batch_size=BATCH_SIZE),\n",
        "                            epochs=30,\n",
        "                            validation_data=(reshaped_test_dataset, reshaped_test_labels),\n",
        "                            verbose=1, callbacks=[learning_rate_reduction])"
      ],
      "metadata": {
        "colab": {
          "base_uri": "https://localhost:8080/"
        },
        "id": "mi77wUVRco6I",
        "outputId": "22936dc2-44fa-418a-fcff-ccea068c620d"
      },
      "execution_count": null,
      "outputs": [
        {
          "output_type": "stream",
          "name": "stdout",
          "text": [
            "Epoch 1/30\n",
            "27/27 [==============================] - 32s 426ms/step - loss: 2.7984 - accuracy: 0.1906 - val_loss: 3.2374 - val_accuracy: 0.0484 - lr: 0.0010\n",
            "Epoch 2/30\n",
            "27/27 [==============================] - 10s 383ms/step - loss: 2.1133 - accuracy: 0.4520 - val_loss: 3.3312 - val_accuracy: 0.0484 - lr: 0.0010\n",
            "Epoch 3/30\n",
            "27/27 [==============================] - 12s 437ms/step - loss: 1.6672 - accuracy: 0.6219 - val_loss: 3.4125 - val_accuracy: 0.0551 - lr: 0.0010\n",
            "Epoch 4/30\n",
            "27/27 [==============================] - 11s 410ms/step - loss: 1.3129 - accuracy: 0.7225 - val_loss: 3.4191 - val_accuracy: 0.0485 - lr: 0.0010\n",
            "Epoch 5/30\n",
            "27/27 [==============================] - ETA: 0s - loss: 1.0442 - accuracy: 0.7882\n",
            "Epoch 5: ReduceLROnPlateau reducing learning rate to 0.0003000000142492354.\n",
            "27/27 [==============================] - 10s 356ms/step - loss: 1.0442 - accuracy: 0.7882 - val_loss: 3.4707 - val_accuracy: 0.0485 - lr: 0.0010\n",
            "Epoch 6/30\n",
            "27/27 [==============================] - 11s 424ms/step - loss: 0.8879 - accuracy: 0.8288 - val_loss: 3.3752 - val_accuracy: 0.0495 - lr: 3.0000e-04\n",
            "Epoch 7/30\n",
            "27/27 [==============================] - 13s 470ms/step - loss: 0.8287 - accuracy: 0.8392 - val_loss: 3.2187 - val_accuracy: 0.0749 - lr: 3.0000e-04\n",
            "Epoch 8/30\n",
            "27/27 [==============================] - 10s 382ms/step - loss: 0.7734 - accuracy: 0.8536 - val_loss: 3.1097 - val_accuracy: 0.0863 - lr: 3.0000e-04\n",
            "Epoch 9/30\n",
            "27/27 [==============================] - 11s 410ms/step - loss: 0.7249 - accuracy: 0.8645 - val_loss: 2.8094 - val_accuracy: 0.1316 - lr: 3.0000e-04\n",
            "Epoch 10/30\n",
            "27/27 [==============================] - 10s 357ms/step - loss: 0.6736 - accuracy: 0.8771 - val_loss: 2.5592 - val_accuracy: 0.1863 - lr: 3.0000e-04\n",
            "Epoch 11/30\n",
            "27/27 [==============================] - 11s 417ms/step - loss: 0.6344 - accuracy: 0.8836 - val_loss: 2.2991 - val_accuracy: 0.2559 - lr: 3.0000e-04\n",
            "Epoch 12/30\n",
            "27/27 [==============================] - 11s 416ms/step - loss: 0.5921 - accuracy: 0.8934 - val_loss: 1.9736 - val_accuracy: 0.3583 - lr: 3.0000e-04\n",
            "Epoch 13/30\n",
            "27/27 [==============================] - 11s 417ms/step - loss: 0.5577 - accuracy: 0.8994 - val_loss: 1.5977 - val_accuracy: 0.4905 - lr: 3.0000e-04\n",
            "Epoch 14/30\n",
            "27/27 [==============================] - 9s 347ms/step - loss: 0.5189 - accuracy: 0.9105 - val_loss: 1.2600 - val_accuracy: 0.6341 - lr: 3.0000e-04\n",
            "Epoch 15/30\n",
            "27/27 [==============================] - 11s 409ms/step - loss: 0.4965 - accuracy: 0.9118 - val_loss: 0.9102 - val_accuracy: 0.7821 - lr: 3.0000e-04\n",
            "Epoch 16/30\n",
            "27/27 [==============================] - 11s 417ms/step - loss: 0.4625 - accuracy: 0.9207 - val_loss: 0.7402 - val_accuracy: 0.8362 - lr: 3.0000e-04\n",
            "Epoch 17/30\n",
            "27/27 [==============================] - 11s 410ms/step - loss: 0.4358 - accuracy: 0.9261 - val_loss: 0.5286 - val_accuracy: 0.8992 - lr: 3.0000e-04\n",
            "Epoch 18/30\n",
            "27/27 [==============================] - 11s 415ms/step - loss: 0.4133 - accuracy: 0.9293 - val_loss: 0.4081 - val_accuracy: 0.9442 - lr: 3.0000e-04\n",
            "Epoch 19/30\n",
            "27/27 [==============================] - 11s 417ms/step - loss: 0.3866 - accuracy: 0.9336 - val_loss: 0.3048 - val_accuracy: 0.9583 - lr: 3.0000e-04\n",
            "Epoch 20/30\n",
            "27/27 [==============================] - 11s 402ms/step - loss: 0.3686 - accuracy: 0.9363 - val_loss: 0.2375 - val_accuracy: 0.9725 - lr: 3.0000e-04\n",
            "Epoch 21/30\n",
            "27/27 [==============================] - 10s 361ms/step - loss: 0.3485 - accuracy: 0.9416 - val_loss: 0.1966 - val_accuracy: 0.9831 - lr: 3.0000e-04\n",
            "Epoch 22/30\n",
            "27/27 [==============================] - 11s 419ms/step - loss: 0.3276 - accuracy: 0.9457 - val_loss: 0.1536 - val_accuracy: 0.9823 - lr: 3.0000e-04\n",
            "Epoch 23/30\n",
            "27/27 [==============================] - 11s 417ms/step - loss: 0.3139 - accuracy: 0.9471 - val_loss: 0.1346 - val_accuracy: 0.9891 - lr: 3.0000e-04\n",
            "Epoch 24/30\n",
            "27/27 [==============================] - 10s 382ms/step - loss: 0.2975 - accuracy: 0.9497 - val_loss: 0.1388 - val_accuracy: 0.9826 - lr: 3.0000e-04\n",
            "Epoch 25/30\n",
            "27/27 [==============================] - 12s 440ms/step - loss: 0.2857 - accuracy: 0.9502 - val_loss: 0.1177 - val_accuracy: 0.9914 - lr: 3.0000e-04\n",
            "Epoch 26/30\n",
            "27/27 [==============================] - 11s 418ms/step - loss: 0.2709 - accuracy: 0.9552 - val_loss: 0.0974 - val_accuracy: 0.9897 - lr: 3.0000e-04\n",
            "Epoch 27/30\n",
            "27/27 [==============================] - ETA: 0s - loss: 0.2558 - accuracy: 0.9580\n",
            "Epoch 27: ReduceLROnPlateau reducing learning rate to 9.000000427477062e-05.\n",
            "27/27 [==============================] - 10s 374ms/step - loss: 0.2558 - accuracy: 0.9580 - val_loss: 0.0868 - val_accuracy: 0.9898 - lr: 3.0000e-04\n",
            "Epoch 28/30\n",
            "27/27 [==============================] - 10s 378ms/step - loss: 0.2488 - accuracy: 0.9583 - val_loss: 0.0879 - val_accuracy: 0.9911 - lr: 9.0000e-05\n",
            "Epoch 29/30\n",
            "27/27 [==============================] - 11s 411ms/step - loss: 0.2410 - accuracy: 0.9610 - val_loss: 0.0758 - val_accuracy: 0.9936 - lr: 9.0000e-05\n",
            "Epoch 30/30\n",
            "27/27 [==============================] - 11s 428ms/step - loss: 0.2383 - accuracy: 0.9618 - val_loss: 0.0702 - val_accuracy: 0.9939 - lr: 9.0000e-05\n"
          ]
        }
      ]
    },
    {
      "cell_type": "code",
      "source": [
        "model_v5.save(\"model_v5_99%.h5\")"
      ],
      "metadata": {
        "id": "Ct1J7Nd5lgWE"
      },
      "execution_count": null,
      "outputs": []
    },
    {
      "cell_type": "code",
      "source": [
        "model_v6 = create_model(N_EPOCHS)\n",
        "model_v6.summary()"
      ],
      "metadata": {
        "colab": {
          "base_uri": "https://localhost:8080/"
        },
        "outputId": "a353640c-bb74-495b-c4b0-8a9aba7194ac",
        "id": "1v8tIDxdgt9E"
      },
      "execution_count": null,
      "outputs": [
        {
          "output_type": "stream",
          "name": "stdout",
          "text": [
            "Model: \"model_4\"\n",
            "_________________________________________________________________\n",
            " Layer (type)                Output Shape              Param #   \n",
            "=================================================================\n",
            " input_5 (InputLayer)        [(None, 28, 28, 1)]       0         \n",
            "                                                                 \n",
            " conv2d_12 (Conv2D)          (None, 28, 28, 16)        160       \n",
            "                                                                 \n",
            " batch_normalization_20 (Bat  (None, 28, 28, 16)       64        \n",
            " chNormalization)                                                \n",
            "                                                                 \n",
            " re_lu_20 (ReLU)             (None, 28, 28, 16)        0         \n",
            "                                                                 \n",
            " max_pooling2d_12 (MaxPoolin  (None, 14, 14, 16)       0         \n",
            " g2D)                                                            \n",
            "                                                                 \n",
            " conv2d_13 (Conv2D)          (None, 14, 14, 32)        4640      \n",
            "                                                                 \n",
            " batch_normalization_21 (Bat  (None, 14, 14, 32)       128       \n",
            " chNormalization)                                                \n",
            "                                                                 \n",
            " re_lu_21 (ReLU)             (None, 14, 14, 32)        0         \n",
            "                                                                 \n",
            " max_pooling2d_13 (MaxPoolin  (None, 7, 7, 32)         0         \n",
            " g2D)                                                            \n",
            "                                                                 \n",
            " conv2d_14 (Conv2D)          (None, 7, 7, 64)          18496     \n",
            "                                                                 \n",
            " batch_normalization_22 (Bat  (None, 7, 7, 64)         256       \n",
            " chNormalization)                                                \n",
            "                                                                 \n",
            " re_lu_22 (ReLU)             (None, 7, 7, 64)          0         \n",
            "                                                                 \n",
            " max_pooling2d_14 (MaxPoolin  (None, 4, 4, 64)         0         \n",
            " g2D)                                                            \n",
            "                                                                 \n",
            " flatten_4 (Flatten)         (None, 1024)              0         \n",
            "                                                                 \n",
            " dense_12 (Dense)            (None, 64)                65600     \n",
            "                                                                 \n",
            " batch_normalization_23 (Bat  (None, 64)               256       \n",
            " chNormalization)                                                \n",
            "                                                                 \n",
            " re_lu_23 (ReLU)             (None, 64)                0         \n",
            "                                                                 \n",
            " dropout_8 (Dropout)         (None, 64)                0         \n",
            "                                                                 \n",
            " dense_13 (Dense)            (None, 32)                2080      \n",
            "                                                                 \n",
            " batch_normalization_24 (Bat  (None, 32)               128       \n",
            " chNormalization)                                                \n",
            "                                                                 \n",
            " re_lu_24 (ReLU)             (None, 32)                0         \n",
            "                                                                 \n",
            " dropout_9 (Dropout)         (None, 32)                0         \n",
            "                                                                 \n",
            " dense_14 (Dense)            (None, 24)                792       \n",
            "                                                                 \n",
            " softmax_2 (Softmax)         (None, 24)                0         \n",
            "                                                                 \n",
            "=================================================================\n",
            "Total params: 92,600\n",
            "Trainable params: 92,184\n",
            "Non-trainable params: 416\n",
            "_________________________________________________________________\n"
          ]
        }
      ]
    },
    {
      "cell_type": "code",
      "source": [
        "# fitting with the ImageDataGenerator, learning_rate_reduction and Adam optimizer\n",
        "model_v6_history = model_v6.fit(datagen.flow(reshaped_train_dataset, reshaped_train_labels, batch_size=BATCH_SIZE),\n",
        "                            epochs=30,\n",
        "                            validation_data=(reshaped_test_dataset, reshaped_test_labels),\n",
        "                            verbose=1, callbacks=[learning_rate_reduction])"
      ],
      "metadata": {
        "colab": {
          "base_uri": "https://localhost:8080/"
        },
        "outputId": "32b14358-84e8-41b0-ab80-e979e2293725",
        "id": "fBZTWBHMgt9F"
      },
      "execution_count": null,
      "outputs": [
        {
          "output_type": "stream",
          "name": "stdout",
          "text": [
            "Epoch 1/30\n",
            "27/27 [==============================] - 14s 314ms/step - loss: 2.8225 - accuracy: 0.1804 - val_loss: 3.1976 - val_accuracy: 0.0510 - lr: 0.0010\n",
            "Epoch 2/30\n",
            "27/27 [==============================] - 10s 369ms/step - loss: 2.1656 - accuracy: 0.4267 - val_loss: 3.2384 - val_accuracy: 0.0467 - lr: 0.0010\n",
            "Epoch 3/30\n",
            "27/27 [==============================] - 10s 388ms/step - loss: 1.7104 - accuracy: 0.5925 - val_loss: 3.2738 - val_accuracy: 0.0666 - lr: 0.0010\n",
            "Epoch 4/30\n",
            "27/27 [==============================] - 8s 312ms/step - loss: 1.3467 - accuracy: 0.7057 - val_loss: 3.2737 - val_accuracy: 0.0738 - lr: 0.0010\n",
            "Epoch 5/30\n",
            "27/27 [==============================] - 10s 371ms/step - loss: 1.0778 - accuracy: 0.7750 - val_loss: 3.2566 - val_accuracy: 0.1100 - lr: 0.0010\n",
            "Epoch 6/30\n",
            "27/27 [==============================] - 10s 369ms/step - loss: 0.8637 - accuracy: 0.8246 - val_loss: 3.1960 - val_accuracy: 0.1108 - lr: 0.0010\n",
            "Epoch 7/30\n",
            "27/27 [==============================] - 8s 314ms/step - loss: 0.7023 - accuracy: 0.8613 - val_loss: 3.1350 - val_accuracy: 0.0846 - lr: 0.0010\n",
            "Epoch 8/30\n",
            "27/27 [==============================] - ETA: 0s - loss: 0.5794 - accuracy: 0.8888\n",
            "Epoch 8: ReduceLROnPlateau reducing learning rate to 0.0003000000142492354.\n",
            "27/27 [==============================] - 10s 375ms/step - loss: 0.5794 - accuracy: 0.8888 - val_loss: 2.9320 - val_accuracy: 0.0675 - lr: 0.0010\n",
            "Epoch 9/30\n",
            "27/27 [==============================] - 15s 547ms/step - loss: 0.5050 - accuracy: 0.9037 - val_loss: 2.7445 - val_accuracy: 0.1171 - lr: 3.0000e-04\n",
            "Epoch 10/30\n",
            "27/27 [==============================] - 11s 407ms/step - loss: 0.4676 - accuracy: 0.9140 - val_loss: 2.5374 - val_accuracy: 0.1824 - lr: 3.0000e-04\n",
            "Epoch 11/30\n",
            "27/27 [==============================] - 9s 316ms/step - loss: 0.4407 - accuracy: 0.9199 - val_loss: 2.3592 - val_accuracy: 0.2252 - lr: 3.0000e-04\n",
            "Epoch 12/30\n",
            "27/27 [==============================] - 10s 356ms/step - loss: 0.4190 - accuracy: 0.9246 - val_loss: 1.9014 - val_accuracy: 0.4011 - lr: 3.0000e-04\n",
            "Epoch 13/30\n",
            "27/27 [==============================] - 10s 376ms/step - loss: 0.3988 - accuracy: 0.9264 - val_loss: 1.6863 - val_accuracy: 0.4685 - lr: 3.0000e-04\n",
            "Epoch 14/30\n",
            "27/27 [==============================] - 10s 370ms/step - loss: 0.3815 - accuracy: 0.9311 - val_loss: 1.5054 - val_accuracy: 0.5400 - lr: 3.0000e-04\n",
            "Epoch 15/30\n",
            "27/27 [==============================] - 8s 313ms/step - loss: 0.3547 - accuracy: 0.9378 - val_loss: 1.1084 - val_accuracy: 0.6737 - lr: 3.0000e-04\n",
            "Epoch 16/30\n",
            "27/27 [==============================] - 10s 378ms/step - loss: 0.3361 - accuracy: 0.9399 - val_loss: 0.8012 - val_accuracy: 0.7585 - lr: 3.0000e-04\n",
            "Epoch 17/30\n",
            "27/27 [==============================] - 10s 372ms/step - loss: 0.3270 - accuracy: 0.9426 - val_loss: 0.5939 - val_accuracy: 0.8342 - lr: 3.0000e-04\n",
            "Epoch 18/30\n",
            "27/27 [==============================] - 8s 312ms/step - loss: 0.3096 - accuracy: 0.9458 - val_loss: 0.5213 - val_accuracy: 0.8482 - lr: 3.0000e-04\n",
            "Epoch 19/30\n",
            "27/27 [==============================] - 11s 392ms/step - loss: 0.2935 - accuracy: 0.9499 - val_loss: 0.3113 - val_accuracy: 0.9152 - lr: 3.0000e-04\n",
            "Epoch 20/30\n",
            "27/27 [==============================] - 10s 371ms/step - loss: 0.2785 - accuracy: 0.9517 - val_loss: 0.2157 - val_accuracy: 0.9453 - lr: 3.0000e-04\n",
            "Epoch 21/30\n",
            "27/27 [==============================] - 9s 343ms/step - loss: 0.2622 - accuracy: 0.9554 - val_loss: 0.1809 - val_accuracy: 0.9583 - lr: 3.0000e-04\n",
            "Epoch 22/30\n",
            "27/27 [==============================] - 10s 347ms/step - loss: 0.2548 - accuracy: 0.9560 - val_loss: 0.1180 - val_accuracy: 0.9771 - lr: 3.0000e-04\n",
            "Epoch 23/30\n",
            "27/27 [==============================] - 10s 375ms/step - loss: 0.2446 - accuracy: 0.9584 - val_loss: 0.1074 - val_accuracy: 0.9757 - lr: 3.0000e-04\n",
            "Epoch 24/30\n",
            "27/27 [==============================] - 10s 389ms/step - loss: 0.2381 - accuracy: 0.9559 - val_loss: 0.0906 - val_accuracy: 0.9849 - lr: 3.0000e-04\n",
            "Epoch 25/30\n",
            "27/27 [==============================] - 10s 375ms/step - loss: 0.2233 - accuracy: 0.9614 - val_loss: 0.0744 - val_accuracy: 0.9884 - lr: 3.0000e-04\n",
            "Epoch 26/30\n",
            "27/27 [==============================] - 10s 366ms/step - loss: 0.2193 - accuracy: 0.9617 - val_loss: 0.0688 - val_accuracy: 0.9946 - lr: 3.0000e-04\n",
            "Epoch 27/30\n",
            "27/27 [==============================] - 10s 371ms/step - loss: 0.2047 - accuracy: 0.9647 - val_loss: 0.0635 - val_accuracy: 0.9926 - lr: 3.0000e-04\n",
            "Epoch 28/30\n",
            "27/27 [==============================] - ETA: 0s - loss: 0.1961 - accuracy: 0.9663\n",
            "Epoch 28: ReduceLROnPlateau reducing learning rate to 9.000000427477062e-05.\n",
            "27/27 [==============================] - 9s 320ms/step - loss: 0.1961 - accuracy: 0.9663 - val_loss: 0.0568 - val_accuracy: 0.9907 - lr: 3.0000e-04\n",
            "Epoch 29/30\n",
            "27/27 [==============================] - 9s 327ms/step - loss: 0.1931 - accuracy: 0.9670 - val_loss: 0.0484 - val_accuracy: 0.9962 - lr: 9.0000e-05\n",
            "Epoch 30/30\n",
            "27/27 [==============================] - 10s 375ms/step - loss: 0.1875 - accuracy: 0.9686 - val_loss: 0.0455 - val_accuracy: 0.9964 - lr: 9.0000e-05\n"
          ]
        }
      ]
    },
    {
      "cell_type": "markdown",
      "source": [
        "# **Modelling with ML Models**"
      ],
      "metadata": {
        "id": "_UAyn5ydfVqx"
      }
    },
    {
      "cell_type": "code",
      "source": [
        "path_dir = Path(\"/content/drive/MyDrive/Colab Notebooks/AI/Other files/Sign Language Project\")\n",
        "folds = range(2, 31)"
      ],
      "metadata": {
        "id": "1xbqZ-kA4FDP"
      },
      "execution_count": null,
      "outputs": []
    },
    {
      "cell_type": "code",
      "source": [
        "# predicting with AdaBoostClassifier\n",
        "adaboost_classsifier = AdaBoostClassifier(estimator=DecisionTreeClassifier(),\n",
        "                                        n_estimators=100)\n",
        "\n",
        "fitted_adaboost_classsifier = adaboost_classsifier.fit(train_dataset, train_labels)"
      ],
      "metadata": {
        "id": "PMok1wB3FWMY"
      },
      "execution_count": null,
      "outputs": []
    },
    {
      "cell_type": "code",
      "source": [
        "test_ml_model_accuracy(adaboost_classsifier, train_dataset, \n",
        "                       test_dataset, train_labels, \n",
        "                       test_labels)"
      ],
      "metadata": {
        "colab": {
          "base_uri": "https://localhost:8080/"
        },
        "id": "ekPfVTwhJOqq",
        "outputId": "24df19c9-1c8a-4039-d221-3c436f13f073"
      },
      "execution_count": null,
      "outputs": [
        {
          "output_type": "stream",
          "name": "stdout",
          "text": [
            "train_accuracy: 1.000\n",
            "test_accuracy: 0.434\n"
          ]
        }
      ]
    },
    {
      "cell_type": "code",
      "source": [
        "# saving the fitted_adaboost_classsifier\n",
        "dump(fitted_adaboost_classsifier, path_dir.joinpath(\"fitted_adaboost_classsifier.joblib\"))"
      ],
      "metadata": {
        "id": "BWS64VunvaFD",
        "colab": {
          "base_uri": "https://localhost:8080/"
        },
        "outputId": "5e8d566c-fc68-4462-ed02-9bad7fe59bd0"
      },
      "execution_count": null,
      "outputs": [
        {
          "output_type": "execute_result",
          "data": {
            "text/plain": [
              "['/content/drive/MyDrive/Colab Notebooks/AI/Other files/Sign Language Project/fitted_adaboost_classsifier.joblib']"
            ]
          },
          "metadata": {},
          "execution_count": 43
        }
      ]
    },
    {
      "cell_type": "code",
      "source": [
        "# loading the fitted_adaboost_classsifier\n",
        "fitted_adaboost_classsifier = load(path_dir.joinpath(\"fitted_adaboost_classsifier.joblib\"))"
      ],
      "metadata": {
        "id": "R6i5HyV2vxLS"
      },
      "execution_count": null,
      "outputs": []
    },
    {
      "cell_type": "code",
      "source": [
        "# takes a massive amount of time on CPU (more than 3h 58m)\n",
        "ideal_adaboost_score = perform_leave_one_out_cross_validation(fitted_adaboost_classsifier, dataset, labels)\n",
        "print(ideal_adaboost_score)"
      ],
      "metadata": {
        "id": "tajWxLKKUh7z"
      },
      "execution_count": null,
      "outputs": []
    },
    {
      "cell_type": "code",
      "source": [
        "# evaluating AdaBoostClassifier using cross-validation\n",
        "list_adaboost_means, list_adaboost_mins, list_adaboost_maxs = cross_validate_model(fitted_adaboost_classsifier, dataset,\n",
        "                                                                                   labels, folds)"
      ],
      "metadata": {
        "id": "TEfUa1Ik6oC8"
      },
      "execution_count": null,
      "outputs": []
    },
    {
      "cell_type": "code",
      "source": [
        "# predicting with HistGradientBoostingClassifier\n",
        "hist_classifier = HistGradientBoostingClassifier(max_iter=100)\n",
        "fitted_hist_classifier = hist_classifier.fit(train_dataset, train_labels)"
      ],
      "metadata": {
        "id": "EWx8GkUoNF2V"
      },
      "execution_count": null,
      "outputs": []
    },
    {
      "cell_type": "code",
      "source": [
        "test_ml_model_accuracy(fitted_hist_classifier, train_dataset, \n",
        "                       test_dataset, train_labels, \n",
        "                       test_labels)"
      ],
      "metadata": {
        "colab": {
          "base_uri": "https://localhost:8080/"
        },
        "id": "KsHyBn6jzyBO",
        "outputId": "04ca7599-df95-48a5-dceb-00c3590aaf61"
      },
      "execution_count": null,
      "outputs": [
        {
          "output_type": "stream",
          "name": "stdout",
          "text": [
            "train_accuracy: 1.000\n",
            "test_accuracy: 0.798\n"
          ]
        }
      ]
    },
    {
      "cell_type": "code",
      "source": [
        "# saving the fitted_hist_classifier\n",
        "dump(fitted_hist_classifier, path_dir.joinpath(\"fitted_hist_classifier.joblib\"))"
      ],
      "metadata": {
        "colab": {
          "base_uri": "https://localhost:8080/"
        },
        "id": "R-gpdLAT27KZ",
        "outputId": "96d491b6-a555-4caf-9445-89ad9c9f3d49"
      },
      "execution_count": null,
      "outputs": [
        {
          "output_type": "execute_result",
          "data": {
            "text/plain": [
              "['/content/drive/MyDrive/Colab Notebooks/AI/Other files/Sign Language Project/fitted_hist_classifier.joblib']"
            ]
          },
          "metadata": {},
          "execution_count": 42
        }
      ]
    },
    {
      "cell_type": "code",
      "source": [
        "# loading the fitted_hist_classifier\n",
        "fitted_hist_classifier = load(path_dir.joinpath(\"fitted_hist_classifier.joblib\"))"
      ],
      "metadata": {
        "id": "peYQCmF5Jx3_"
      },
      "execution_count": null,
      "outputs": []
    },
    {
      "cell_type": "code",
      "source": [
        "# predicting with RandomForestClassifier\n",
        "randforest_classifier = RandomForestClassifier(n_estimators=100)\n",
        "randforest_classifier.fit(train_dataset, train_labels)"
      ],
      "metadata": {
        "id": "Qs_ByD7HKHm6"
      },
      "execution_count": null,
      "outputs": []
    },
    {
      "cell_type": "code",
      "source": [
        "test_ml_model_accuracy(randforest_classifier, train_dataset, \n",
        "                       test_dataset, train_labels, \n",
        "                       test_labels)"
      ],
      "metadata": {
        "colab": {
          "base_uri": "https://localhost:8080/"
        },
        "id": "Sh348e6rtwv6",
        "outputId": "ecd8e693-fe79-46a7-891f-5fa38a695d53"
      },
      "execution_count": null,
      "outputs": [
        {
          "output_type": "stream",
          "name": "stdout",
          "text": [
            "train_accuracy: 1.000\n",
            "test_accuracy: 0.812\n"
          ]
        }
      ]
    },
    {
      "cell_type": "code",
      "source": [
        "# saving the randforest_classifier\n",
        "dump(randforest_classifier, path_dir.joinpath(\"randforest_classifier.joblib\"))"
      ],
      "metadata": {
        "colab": {
          "base_uri": "https://localhost:8080/"
        },
        "id": "ihY8F_zZwkZY",
        "outputId": "4c533a81-6dcb-4383-ef60-79b2ce221b64"
      },
      "execution_count": null,
      "outputs": [
        {
          "output_type": "execute_result",
          "data": {
            "text/plain": [
              "['/content/drive/MyDrive/Colab Notebooks/AI/Other files/Sign Language Project/randforest_classifier.joblib']"
            ]
          },
          "metadata": {},
          "execution_count": 41
        }
      ]
    },
    {
      "cell_type": "code",
      "source": [
        "# loading the randforest_classifier\n",
        "randforest_classifier = load(path_dir.joinpath(\"randforest_classifier.joblib\"))"
      ],
      "metadata": {
        "id": "-Bpgysgns403"
      },
      "execution_count": null,
      "outputs": []
    },
    {
      "cell_type": "code",
      "source": [
        "ideal_randforest_score = perform_leave_one_out_cross_validation(randforest_classifier, dataset, labels)"
      ],
      "metadata": {
        "id": "8yU1KflvOP4u"
      },
      "execution_count": null,
      "outputs": []
    },
    {
      "cell_type": "code",
      "source": [
        "# evaluating RandomForestClassifier using cross-validation\n",
        "list_randforest_means, list_randforest_mins, list_randforest_maxs = cross_validate_model(randforest_classifier, dataset,\n",
        "                                                                                         labels, folds)"
      ],
      "metadata": {
        "id": "aOv_Cdtw6GKZ"
      },
      "execution_count": null,
      "outputs": []
    },
    {
      "cell_type": "markdown",
      "source": [
        "# **Visualisation**"
      ],
      "metadata": {
        "id": "fgoLWkzzjxUc"
      }
    },
    {
      "cell_type": "code",
      "source": [
        "# ought to save each picture (3-D array) using tensorflow.keras.utils.save_img\n",
        "show_dataset_images(reshaped_train_dataset)"
      ],
      "metadata": {
        "id": "gUg_rXhCxeVC",
        "colab": {
          "base_uri": "https://localhost:8080/",
          "height": 1000
        },
        "outputId": "951ada84-a722-41f6-dfe5-8abf8fa69b71"
      },
      "execution_count": null,
      "outputs": [
        {
          "output_type": "display_data",
          "data": {
            "text/plain": [
              "<Figure size 1000x1000 with 25 Axes>"
            ],
            "image/png": "[encoded data removed]"
          },
          "metadata": {}
        }
      ]
    },
    {
      "cell_type": "code",
      "source": [
        "plot_model_history(model_v1_history, \"model_v1_history\")"
      ],
      "metadata": {
        "colab": {
          "base_uri": "https://localhost:8080/",
          "height": 494
        },
        "id": "ArX3yQ4s897t",
        "outputId": "e30ff30b-e2c2-4078-abb1-7e3aca76d5e4"
      },
      "execution_count": null,
      "outputs": [
        {
          "output_type": "display_data",
          "data": {
            "text/plain": [
              "<Figure size 1400x500 with 2 Axes>"
            ],
            "image/png": "[encoded data removed]"
          },
          "metadata": {}
        }
      ]
    },
    {
      "cell_type": "code",
      "source": [
        "plot_model_history(model_v2_history, \"model_v2_history\")"
      ],
      "metadata": {
        "colab": {
          "base_uri": "https://localhost:8080/",
          "height": 494
        },
        "id": "c_2NWojmGL4b",
        "outputId": "ce31e8bc-bc8a-4399-9f15-caefeae9b483"
      },
      "execution_count": null,
      "outputs": [
        {
          "output_type": "display_data",
          "data": {
            "text/plain": [
              "<Figure size 1400x500 with 2 Axes>"
            ],
            "image/png": "[encoded data removed]"
          },
          "metadata": {}
        }
      ]
    },
    {
      "cell_type": "code",
      "source": [
        "plot_model_history(model_v3_history, \"model_v3_history\")"
      ],
      "metadata": {
        "colab": {
          "base_uri": "https://localhost:8080/",
          "height": 494
        },
        "id": "HnTpm-W_bgG9",
        "outputId": "3b27f180-2ec9-402e-8699-d942544aff17"
      },
      "execution_count": null,
      "outputs": [
        {
          "output_type": "display_data",
          "data": {
            "text/plain": [
              "<Figure size 1400x500 with 2 Axes>"
            ],
            "image/png": "[encoded data removed]"
          },
          "metadata": {}
        }
      ]
    },
    {
      "cell_type": "code",
      "source": [
        "plot_model_history(model_v5_history, \"model_v5_history\")"
      ],
      "metadata": {
        "colab": {
          "base_uri": "https://localhost:8080/",
          "height": 494
        },
        "id": "TKZVUS7ij3cn",
        "outputId": "57c87299-0c45-402d-c946-324fcc399868"
      },
      "execution_count": null,
      "outputs": [
        {
          "output_type": "display_data",
          "data": {
            "text/plain": [
              "<Figure size 1400x500 with 2 Axes>"
            ],
            "image/png": "[encoded data removed]"
          },
          "metadata": {}
        }
      ]
    },
    {
      "cell_type": "code",
      "source": [
        "plot_cross_validation_results(folds, ideal_adaboost_score, list_adaboost_means,\n",
        "                              list_adaboost_mins, list_adaboost_maxs,\n",
        "                              \"adaboost cross validation\")"
      ],
      "metadata": {
        "id": "SjapKxagWKnh"
      },
      "execution_count": null,
      "outputs": []
    },
    {
      "cell_type": "code",
      "source": [
        "plot_cross_validation_results(folds, ideal_randforest_score, list_randforest_means,\n",
        "                              list_randforest_mins, list_randforest_maxs,\n",
        "                              \"randforest cross validation\")"
      ],
      "metadata": {
        "id": "KY4RVwVnWnY3"
      },
      "execution_count": null,
      "outputs": []
    }
  ]
}